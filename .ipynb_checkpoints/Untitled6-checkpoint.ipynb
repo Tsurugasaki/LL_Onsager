{
 "cells": [
  {
   "cell_type": "code",
   "execution_count": 1,
   "id": "47c33c22-5d49-4906-b74b-bbc455ae1ad7",
   "metadata": {},
   "outputs": [
    {
     "ename": "ModuleNotFoundError",
     "evalue": "No module named 'sympy'",
     "output_type": "error",
     "traceback": [
      "\u001b[0;31m---------------------------------------------------------------------------\u001b[0m",
      "\u001b[0;31mModuleNotFoundError\u001b[0m                       Traceback (most recent call last)",
      "Cell \u001b[0;32mIn[1], line 1\u001b[0m\n\u001b[0;32m----> 1\u001b[0m \u001b[38;5;28;01mimport\u001b[39;00m \u001b[38;5;21;01msympy\u001b[39;00m \u001b[38;5;28;01mas\u001b[39;00m \u001b[38;5;21;01msp\u001b[39;00m\n\u001b[1;32m      2\u001b[0m \u001b[38;5;28;01mimport\u001b[39;00m \u001b[38;5;21;01mpandas\u001b[39;00m \u001b[38;5;28;01mas\u001b[39;00m \u001b[38;5;21;01mpd\u001b[39;00m\n\u001b[1;32m      4\u001b[0m \u001b[38;5;66;03m# シンボルの定義\u001b[39;00m\n",
      "\u001b[0;31mModuleNotFoundError\u001b[0m: No module named 'sympy'"
     ]
    }
   ],
   "source": [
    "import sympy as sp\n",
    "import pandas as pd\n",
    "\n",
    "# シンボルの定義\n",
    "x, y = sp.symbols('x y')\n",
    "\n",
    "# 例として、以下の方程式を考えます: x + y = 10\n",
    "equation = sp.Eq(x + y, 10)\n",
    "\n",
    "# xの値の範囲を指定（例: 0から10まで0.1刻み）\n",
    "x_values = [i/10 for i in range(0, 101)]\n",
    "\n",
    "# 結果を格納するリスト\n",
    "results = []\n",
    "\n",
    "# 各xに対するyの値を求める\n",
    "for x_val in x_values:\n",
    "    solution = sp.solve(equation.subs(x, x_val), y)\n",
    "    if solution:\n",
    "        results.append({'x': x_val, 'y': solution[0]})\n",
    "\n",
    "# 結果を表示\n",
    "for result in results:\n",
    "    print(f\"x = {result['x']}, y = {result['y']}\")\n",
    "\n",
    "# 結果をExcelファイルに保存\n",
    "df = pd.DataFrame(results)\n",
    "df.to_excel('solutions.xlsx', index=False)\n"
   ]
  },
  {
   "cell_type": "code",
   "execution_count": null,
   "id": "3f44396d-aa74-4bbe-9b12-3e4dae9e4877",
   "metadata": {},
   "outputs": [],
   "source": []
  }
 ],
 "metadata": {
  "kernelspec": {
   "display_name": "Python 3 (ipykernel)",
   "language": "python",
   "name": "python3"
  },
  "language_info": {
   "codemirror_mode": {
    "name": "ipython",
    "version": 3
   },
   "file_extension": ".py",
   "mimetype": "text/x-python",
   "name": "python",
   "nbconvert_exporter": "python",
   "pygments_lexer": "ipython3",
   "version": "3.12.0"
  }
 },
 "nbformat": 4,
 "nbformat_minor": 5
}
