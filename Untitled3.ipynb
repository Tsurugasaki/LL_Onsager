{
 "cells": [
  {
   "cell_type": "code",
   "execution_count": 1,
   "id": "1f5ec427",
   "metadata": {},
   "outputs": [],
   "source": [
    "import cv2\n",
    "import numpy as np\n",
    "import matplotlib.pyplot as plt"
   ]
  },
  {
   "cell_type": "code",
   "execution_count": 2,
   "id": "54a11509",
   "metadata": {},
   "outputs": [],
   "source": [
    "def calculate_particle_size(contours):\n",
    "    particle_sizes = [cv2.contourArea(contour) for contour in contours]\n",
    "    return particle_sizes\n",
    "\n",
    "def plot_particle_size_distribution(particle_sizes):\n",
    "    # Tukeyの外れ値範囲（IQR）を計算\n",
    "    q1 = np.percentile(particle_sizes, 25)\n",
    "    q3 = np.percentile(particle_sizes, 75)\n",
    "    iqr = q3 - q1\n",
    "\n",
    "    # 下側の外れ値範囲と上側の外れ値範囲を計算\n",
    "    lower_bound = q1 - 1.5 * iqr\n",
    "    upper_bound = q3 + 1.5 * iqr\n",
    "\n",
    "    # 外れ値を除外して粒度分布をプロット\n",
    "    filtered_particle_sizes = [size for size in particle_sizes if lower_bound <= size <= upper_bound]\n",
    "    plt.hist(filtered_particle_sizes, bins=20, range=(0, max(filtered_particle_sizes)))\n",
    "    plt.xlabel(\"Particle Size\")\n",
    "    plt.ylabel(\"Frequency\")\n",
    "    plt.title(\"Particle Size Distribution (without outliers)\")\n",
    "    plt.show()"
   ]
  },
  {
   "cell_type": "code",
   "execution_count": 3,
   "id": "64eb0f46",
   "metadata": {},
   "outputs": [
    {
     "name": "stdout",
     "output_type": "stream",
     "text": [
      "No contours were detected. Please check the threshold values and the image.\n"
     ]
    },
    {
     "ename": "error",
     "evalue": "OpenCV(4.8.0) /Users/runner/work/opencv-python/opencv-python/opencv/modules/imgproc/src/color.cpp:182: error: (-215:Assertion failed) !_src.empty() in function 'cvtColor'\n",
     "output_type": "error",
     "traceback": [
      "\u001b[0;31m---------------------------------------------------------------------------\u001b[0m",
      "\u001b[0;31merror\u001b[0m                                     Traceback (most recent call last)",
      "Cell \u001b[0;32mIn[3], line 68\u001b[0m\n\u001b[1;32m     66\u001b[0m scale_bar_threshold \u001b[38;5;241m=\u001b[39m \u001b[38;5;241m255\u001b[39m  \u001b[38;5;66;03m# スケールバーを消去するための明るさの閾値を指定（0から255の範囲で値を調整してください）\u001b[39;00m\n\u001b[1;32m     67\u001b[0m scale_bar_area_threshold \u001b[38;5;241m=\u001b[39m \u001b[38;5;241m10\u001b[39m  \u001b[38;5;66;03m# スケールバーと判定する輪郭の面積の閾値（適宜調整してください）\u001b[39;00m\n\u001b[0;32m---> 68\u001b[0m \u001b[43manalyze_particle_size_distribution\u001b[49m\u001b[43m(\u001b[49m\u001b[43mimage_path\u001b[49m\u001b[43m,\u001b[49m\u001b[43m \u001b[49m\u001b[43mparticle_threshold\u001b[49m\u001b[43m,\u001b[49m\u001b[43m \u001b[49m\u001b[43mscale_bar_threshold\u001b[49m\u001b[43m,\u001b[49m\u001b[43m \u001b[49m\u001b[43mscale_bar_area_threshold\u001b[49m\u001b[43m)\u001b[49m\n",
      "Cell \u001b[0;32mIn[3], line 44\u001b[0m, in \u001b[0;36manalyze_particle_size_distribution\u001b[0;34m(image_path, particle_threshold, scale_bar_threshold, scale_bar_area_threshold)\u001b[0m\n\u001b[1;32m     41\u001b[0m image_without_scale_bar \u001b[38;5;241m=\u001b[39m remove_scale_bar(image, scale_bar_threshold, scale_bar_area_threshold)\n\u001b[1;32m     43\u001b[0m \u001b[38;5;66;03m# グレースケールに変換\u001b[39;00m\n\u001b[0;32m---> 44\u001b[0m gray_image \u001b[38;5;241m=\u001b[39m \u001b[43mcv2\u001b[49m\u001b[38;5;241;43m.\u001b[39;49m\u001b[43mcvtColor\u001b[49m\u001b[43m(\u001b[49m\u001b[43mimage_without_scale_bar\u001b[49m\u001b[43m,\u001b[49m\u001b[43m \u001b[49m\u001b[43mcv2\u001b[49m\u001b[38;5;241;43m.\u001b[39;49m\u001b[43mCOLOR_BGR2GRAY\u001b[49m\u001b[43m)\u001b[49m\n\u001b[1;32m     46\u001b[0m \u001b[38;5;66;03m# 明るさが粒子の閾値以上の領域を特定\u001b[39;00m\n\u001b[1;32m     47\u001b[0m _, binary_image \u001b[38;5;241m=\u001b[39m cv2\u001b[38;5;241m.\u001b[39mthreshold(gray_image, particle_threshold, \u001b[38;5;241m255\u001b[39m, cv2\u001b[38;5;241m.\u001b[39mTHRESH_BINARY)\n",
      "\u001b[0;31merror\u001b[0m: OpenCV(4.8.0) /Users/runner/work/opencv-python/opencv-python/opencv/modules/imgproc/src/color.cpp:182: error: (-215:Assertion failed) !_src.empty() in function 'cvtColor'\n"
     ]
    }
   ],
   "source": [
    "def remove_scale_bar(image, scale_bar_threshold, scale_bar_area_threshold):\n",
    "    # グレースケールに変換\n",
    "    gray_image = cv2.cvtColor(image, cv2.COLOR_BGR2GRAY)\n",
    "\n",
    "    # 明るさがスケールバーの閾値以上の領域を特定\n",
    "    _, binary_image = cv2.threshold(gray_image, scale_bar_threshold, 255, cv2.THRESH_BINARY)\n",
    "\n",
    "    # 輪郭を抽出\n",
    "    contours, _ = cv2.findContours(binary_image, cv2.RETR_EXTERNAL, cv2.CHAIN_APPROX_SIMPLE)\n",
    "\n",
    "    # contoursが空であればエラーメッセージを表示して終了\n",
    "    if not contours:\n",
    "        print(\"No contours were detected. Please check the threshold values and the image.\")\n",
    "        return None\n",
    "    \n",
    "    # 画像全体を黒色で塗りつぶした黒塗り画像を作成\n",
    "    black_image = np.zeros_like(image)\n",
    "\n",
    "    # 粒子の輪郭を黒色で塗りつぶす\n",
    "    for contour in contours:\n",
    "        area = cv2.contourArea(contour)\n",
    "        if area <= scale_bar_area_threshold:\n",
    "            cv2.drawContours(black_image, [contour], -1, (255, 255, 255), -1)\n",
    "\n",
    "    # 元の画像と黒塗り画像を合成して粒子以外の領域を黒色で塗りつぶした画像を作成\n",
    "    image_without_scale_bar = cv2.bitwise_and(image, black_image)\n",
    "\n",
    "    return image_without_scale_bar\n",
    "\n",
    "def calculate_brightness(pixel):\n",
    "    # RGB各チャンネルの加重平均を計算して明るさを返す\n",
    "    r, g, b = pixel\n",
    "    brightness = 0.299 * r + 0.587 * g + 0.114 * b\n",
    "    return brightness\n",
    "\n",
    "def analyze_particle_size_distribution(image_path, particle_threshold, scale_bar_threshold, scale_bar_area_threshold):\n",
    "    # 画像を読み込む\n",
    "    image = cv2.imread(image_path)\n",
    "\n",
    "    # スケールバーを消去\n",
    "    image_without_scale_bar = remove_scale_bar(image, scale_bar_threshold, scale_bar_area_threshold)\n",
    "\n",
    "    # グレースケールに変換\n",
    "    gray_image = cv2.cvtColor(image_without_scale_bar, cv2.COLOR_BGR2GRAY)\n",
    "\n",
    "    # 明るさが粒子の閾値以上の領域を特定\n",
    "    _, binary_image = cv2.threshold(gray_image, particle_threshold, 255, cv2.THRESH_BINARY)\n",
    "\n",
    "    # 輪郭を抽出\n",
    "    contours, _ = cv2.findContours(binary_image, cv2.RETR_EXTERNAL, cv2.CHAIN_APPROX_SIMPLE)\n",
    "\n",
    "    # 粒子の面積を計算\n",
    "    particle_sizes = calculate_particle_size(contours)\n",
    "\n",
    "    # 粒度分布をプロット（外れ値を除外）\n",
    "    plot_particle_size_distribution(particle_sizes)\n",
    "\n",
    "    # 粒子以外の領域を黒色で塗りつぶした画像を表示\n",
    "    cv2.imshow(\"Processed Image\", image_without_scale_bar)\n",
    "    cv2.waitKey(5000)\n",
    "    cv2.destroyAllWindows()\n",
    "\n",
    "if __name__ == \"__main__\":\n",
    "    image_path = \"Si.tif\"  # 解析したい画像のパスを指定\n",
    "    particle_threshold = 150  # 粒子として認識する明るさの閾値を指定（0から255の範囲で値を調整してください）\n",
    "    scale_bar_threshold = 255  # スケールバーを消去するための明るさの閾値を指定（0から255の範囲で値を調整してください）\n",
    "    scale_bar_area_threshold = 10  # スケールバーと判定する輪郭の面積の閾値（適宜調整してください）\n",
    "    analyze_particle_size_distribution(image_path, particle_threshold, scale_bar_threshold, scale_bar_area_threshold)"
   ]
  },
  {
   "cell_type": "code",
   "execution_count": null,
   "id": "d29cbfa4",
   "metadata": {},
   "outputs": [],
   "source": []
  }
 ],
 "metadata": {
  "kernelspec": {
   "display_name": "Python 3 (ipykernel)",
   "language": "python",
   "name": "python3"
  },
  "language_info": {
   "codemirror_mode": {
    "name": "ipython",
    "version": 3
   },
   "file_extension": ".py",
   "mimetype": "text/x-python",
   "name": "python",
   "nbconvert_exporter": "python",
   "pygments_lexer": "ipython3",
   "version": "3.11.2"
  }
 },
 "nbformat": 4,
 "nbformat_minor": 5
}
