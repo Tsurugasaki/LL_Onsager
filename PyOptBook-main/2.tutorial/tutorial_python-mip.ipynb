{
 "cells": [
  {
   "cell_type": "markdown",
   "metadata": {},
   "source": [
    "# **第2章 Python数理最適化チュートリアル**"
   ]
  },
  {
   "cell_type": "markdown",
   "metadata": {},
   "source": [
    "## **2.1 連立一次方程式をPythonの数理最適化ライブラリで解く**"
   ]
  },
  {
   "cell_type": "markdown",
   "metadata": {},
   "source": [
    "### 全体のコード"
   ]
  },
  {
   "cell_type": "code",
   "execution_count": 2,
   "metadata": {},
   "outputs": [
    {
     "ename": "ModuleNotFoundError",
     "evalue": "No module named 'mip'",
     "output_type": "error",
     "traceback": [
      "\u001b[0;31m---------------------------------------------------------------------------\u001b[0m",
      "\u001b[0;31mModuleNotFoundError\u001b[0m                       Traceback (most recent call last)",
      "Cell \u001b[0;32mIn[2], line 1\u001b[0m\n\u001b[0;32m----> 1\u001b[0m \u001b[39mimport\u001b[39;00m \u001b[39mmip\u001b[39;00m\n\u001b[1;32m      3\u001b[0m problem \u001b[39m=\u001b[39m mip\u001b[39m.\u001b[39mModel()\n\u001b[1;32m      5\u001b[0m x \u001b[39m=\u001b[39m problem\u001b[39m.\u001b[39madd_var(lb\u001b[39m=\u001b[39m\u001b[39m-\u001b[39mmip\u001b[39m.\u001b[39mINF)\n",
      "\u001b[0;31mModuleNotFoundError\u001b[0m: No module named 'mip'"
     ]
    }
   ],
   "source": [
    "import mip\n",
    "\n",
    "problem = mip.Model()\n",
    "\n",
    "x = problem.add_var(lb=-mip.INF)\n",
    "y = problem.add_var(lb=-mip.INF)\n",
    "\n",
    "problem += 120 * x + 150 * y == 1440\n",
    "problem += x + y == 10\n",
    "\n",
    "problem.optimize()\n",
    "\n",
    "print('Status:', problem.status)\n",
    "print('x=', x.x, 'y=', y.x)\n",
    "\n",
    "#####\n",
    "#import pulp\n",
    "#\n",
    "#problem = pulp.LpProblem('SLE', pulp.LpMaximize)\n",
    "#\n",
    "#x = pulp.LpVariable('x', cat='Continuous')\n",
    "#y = pulp.LpVariable('y', cat='Continuous')\n",
    "#\n",
    "#problem += 120 * x + 150 * y == 1440\n",
    "#problem += x + y == 10\n",
    "#\n",
    "#status = problem.solve()\n",
    "#\n",
    "#print('Status:', pulp.LpStatus[status])\n",
    "#print('x=', x.value(), 'y=', y.value())"
   ]
  },
  {
   "cell_type": "markdown",
   "metadata": {},
   "source": [
    "### 本書における逐次実行"
   ]
  },
  {
   "cell_type": "code",
   "execution_count": 2,
   "metadata": {},
   "outputs": [],
   "source": [
    "# Pythonライブラリpython-mipの取り込み\n",
    "import mip\n",
    "\n",
    "## PythonライブラリPuLPの取り込み\n",
    "#import pulp"
   ]
  },
  {
   "cell_type": "code",
   "execution_count": 3,
   "metadata": {},
   "outputs": [],
   "source": [
    "# 数理モデルの定義\n",
    "problem = mip.Model()\n",
    "#problem = pulp.LpProblem('SLE', pulp.LpMaximize)"
   ]
  },
  {
   "cell_type": "code",
   "execution_count": 4,
   "metadata": {},
   "outputs": [],
   "source": [
    "# 変数の定義\n",
    "x = problem.add_var('x', lb=-mip.INF)\n",
    "y = problem.add_var('y', lb=-mip.INF)\n",
    "#x = pulp.LpVariable('x', cat='Continuous')\n",
    "#y = pulp.LpVariable('y', cat='Continuous')"
   ]
  },
  {
   "cell_type": "code",
   "execution_count": 5,
   "metadata": {},
   "outputs": [],
   "source": [
    "# 制約式の定義(pulpとpython-mipで同じ)\n",
    "problem += 120 * x + 150 * y == 1440\n",
    "problem += x + y == 10"
   ]
  },
  {
   "cell_type": "code",
   "execution_count": 6,
   "metadata": {},
   "outputs": [
    {
     "name": "stdout",
     "output_type": "stream",
     "text": [
      "Coin0506I Presolve 0 (-2) rows, 0 (-2) columns and 0 (-4) elements\n",
      "Clp0000I Optimal - objective value 0\n",
      "Coin0511I After Postsolve, objective 0, infeasibilities - dual 0 (0), primal 0 (0)\n",
      "Clp0032I Optimal objective 0 - 0 iterations time 0.002, Presolve 0.00\n",
      "Starting solution of the Linear programming problem using Dual Simplex\n",
      "\n",
      "Status: OptimizationStatus.OPTIMAL\n"
     ]
    }
   ],
   "source": [
    "# 求解\n",
    "problem.optimize()\n",
    "print('Status:', problem.status)\n",
    "#####\n",
    "#status = problem.solve()\n",
    "#print('Status:', pulp.LpStatus[status])"
   ]
  },
  {
   "cell_type": "code",
   "execution_count": 7,
   "metadata": {},
   "outputs": [
    {
     "name": "stdout",
     "output_type": "stream",
     "text": [
      "x= 2.000000000000002 y= 7.999999999999998\n"
     ]
    }
   ],
   "source": [
    "# 最適化結果の表示\n",
    "print('x=', x.x, 'y=', y.x)\n",
    "#print('x=', x.value(), 'y=', y.value())"
   ]
  },
  {
   "cell_type": "markdown",
   "metadata": {},
   "source": [
    "## **2.2 線形計画問題をPythonの数理最適化ライブラリで解く**"
   ]
  },
  {
   "cell_type": "markdown",
   "metadata": {},
   "source": [
    "### 全体のコード"
   ]
  },
  {
   "cell_type": "code",
   "execution_count": 8,
   "metadata": {},
   "outputs": [
    {
     "name": "stdout",
     "output_type": "stream",
     "text": [
      "Coin0506I Presolve 0 (-2) rows, 0 (-2) columns and 0 (-4) elements\n",
      "Clp0000I Optimal - objective value 0\n",
      "Coin0511I After Postsolve, objective 0, infeasibilities - dual 0 (0), primal 0 (0)\n",
      "Clp0032I Optimal objective 0 - 0 iterations time 0.002, Presolve 0.00\n",
      "Starting solution of the Linear programming problem using Primal Simplex\n",
      "\n",
      "Status: OptimizationStatus.OPTIMAL\n",
      "x= 18.0 y= 4.000000000000001 obj= 26.0\n"
     ]
    }
   ],
   "source": [
    "import mip\n",
    "\n",
    "problem = mip.Model()\n",
    "\n",
    "x = problem.add_var() # >=0\n",
    "y = problem.add_var() # >=0\n",
    "\n",
    "problem += 1 * x + 3 * y <= 30\n",
    "problem += 2 * x + 1 * y <= 40\n",
    "problem.objective = mip.maximize(x + 2 * y)\n",
    "\n",
    "problem.optimize()\n",
    "\n",
    "print('Status:', problem.status)\n",
    "print('x=', x.x, 'y=', y.x, 'obj=', problem.objective.x)\n",
    "\n",
    "#####\n",
    "#import pulp\n",
    "#\n",
    "#problem = pulp.LpProblem('LP', pulp.LpMaximize)\n",
    "#\n",
    "#x = pulp.LpVariable('x', cat='Continuous')\n",
    "#y = pulp.LpVariable('y', cat='Continuous')\n",
    "#\n",
    "#problem += 1 * x + 3 * y <= 30\n",
    "#problem += 2 * x + 1 * y <= 40\n",
    "#problem += x >= 0\n",
    "#problem += y >= 0\n",
    "#problem.objective = x + 2 * y\n",
    "#\n",
    "#status = problem.solve()\n",
    "#\n",
    "#print('Status:', pulp.LpStatus[status])\n",
    "#print('x=', x.value(), 'y=', y.value(), 'obj=', problem.objective.value())"
   ]
  },
  {
   "cell_type": "markdown",
   "metadata": {},
   "source": [
    "### 本書における逐次実行"
   ]
  },
  {
   "cell_type": "code",
   "execution_count": 9,
   "metadata": {},
   "outputs": [],
   "source": [
    "# Pythonライブラリpython-mipの取り込み\n",
    "import mip\n",
    "\n",
    "# PythonライブラリPuLPの取り込み\n",
    "#import pulp"
   ]
  },
  {
   "cell_type": "code",
   "execution_count": 10,
   "metadata": {},
   "outputs": [],
   "source": [
    "# 数理最適化モデルの定義\n",
    "problem = mip.Model()\n",
    "#problem = pulp.LpProblem('LP', pulp.LpMaximize)"
   ]
  },
  {
   "cell_type": "code",
   "execution_count": 11,
   "metadata": {},
   "outputs": [],
   "source": [
    "# 変数の定義\n",
    "x = problem.add_var('x') # >=0\n",
    "y = problem.add_var('y') # >=0\n",
    "#x = pulp.LpVariable('x', cat='Continuous')\n",
    "#y = pulp.LpVariable('y', cat='Continuous')"
   ]
  },
  {
   "cell_type": "code",
   "execution_count": 12,
   "metadata": {},
   "outputs": [],
   "source": [
    "# 制約式の定義\n",
    "problem += 1 * x + 3 * y <= 30\n",
    "problem += 2 * x + 1 * y <= 40\n",
    "\n",
    "#####\n",
    "#problem += 1 * x + 3 * y <= 30\n",
    "#problem += 2 * x + 1 * y <= 40\n",
    "#problem += x >= 0\n",
    "#problem += y >= 0"
   ]
  },
  {
   "cell_type": "code",
   "execution_count": 13,
   "metadata": {},
   "outputs": [],
   "source": [
    "# 目的関数の定義\n",
    "problem.objective = mip.maximize(x + 2 * y)\n",
    "#problem.objective = x + 2 * y"
   ]
  },
  {
   "cell_type": "code",
   "execution_count": 14,
   "metadata": {},
   "outputs": [
    {
     "name": "stdout",
     "output_type": "stream",
     "text": [
      "Coin0506I Presolve 2 (0) rows, 2 (0) columns and 4 (0) elements\n",
      "Clp1000I sum of infeasibilities 0 - average 0, 0 fixed columns\n",
      "Coin0506I Presolve 2 (0) rows, 2 (0) columns and 4 (0) elements\n",
      "Clp0029I End of values pass after 2 iterations\n",
      "Clp0000I Optimal - objective value 26\n",
      "Clp0000I Optimal - objective value 26\n",
      "Clp0000I Optimal - objective value 26\n",
      "Clp0032I Optimal objective 26 - 0 iterations time 0.002, Idiot 0.00\n",
      "Starting solution of the Linear programming problem using Primal Simplex\n",
      "\n",
      "Status: OptimizationStatus.OPTIMAL\n"
     ]
    }
   ],
   "source": [
    "# 求解\n",
    "problem.optimize()\n",
    "print('Status:', problem.status)\n",
    "#status = problem.solve()\n",
    "#print('Status:', pulp.LpStatus[status])"
   ]
  },
  {
   "cell_type": "code",
   "execution_count": 15,
   "metadata": {},
   "outputs": [
    {
     "name": "stdout",
     "output_type": "stream",
     "text": [
      "x= 18.0 y= 4.000000000000001 obj= 26.0\n"
     ]
    }
   ],
   "source": [
    "# 最適化結果の表示\n",
    "print('x=', x.x, 'y=', y.x, 'obj=', problem.objective.x)\n",
    "#print('x=', x.value(), 'y=', y.value(), 'obj=', problem.objective.value())"
   ]
  },
  {
   "cell_type": "markdown",
   "metadata": {},
   "source": [
    "## **2.3 規模の大きな数理最適化問題をPythonの数理最適化ライブラリで解く**"
   ]
  },
  {
   "cell_type": "markdown",
   "metadata": {},
   "source": [
    "### **線形計画問題**"
   ]
  },
  {
   "cell_type": "markdown",
   "metadata": {},
   "source": [
    "### ①データのインポート"
   ]
  },
  {
   "cell_type": "code",
   "execution_count": 16,
   "metadata": {},
   "outputs": [],
   "source": [
    "# データ処理のためのライブラリpandasとPythonライブラリPuLPの取り込み\n",
    "import pandas as pd\n",
    "import pulp"
   ]
  },
  {
   "cell_type": "code",
   "execution_count": 17,
   "metadata": {},
   "outputs": [
    {
     "data": {
      "text/html": [
       "<div>\n",
       "<style scoped>\n",
       "    .dataframe tbody tr th:only-of-type {\n",
       "        vertical-align: middle;\n",
       "    }\n",
       "\n",
       "    .dataframe tbody tr th {\n",
       "        vertical-align: top;\n",
       "    }\n",
       "\n",
       "    .dataframe thead th {\n",
       "        text-align: right;\n",
       "    }\n",
       "</style>\n",
       "<table border=\"1\" class=\"dataframe\">\n",
       "  <thead>\n",
       "    <tr style=\"text-align: right;\">\n",
       "      <th></th>\n",
       "      <th>m</th>\n",
       "      <th>stock</th>\n",
       "    </tr>\n",
       "  </thead>\n",
       "  <tbody>\n",
       "    <tr>\n",
       "      <th>0</th>\n",
       "      <td>m1</td>\n",
       "      <td>35</td>\n",
       "    </tr>\n",
       "    <tr>\n",
       "      <th>1</th>\n",
       "      <td>m2</td>\n",
       "      <td>22</td>\n",
       "    </tr>\n",
       "    <tr>\n",
       "      <th>2</th>\n",
       "      <td>m3</td>\n",
       "      <td>27</td>\n",
       "    </tr>\n",
       "  </tbody>\n",
       "</table>\n",
       "</div>"
      ],
      "text/plain": [
       "    m  stock\n",
       "0  m1     35\n",
       "1  m2     22\n",
       "2  m3     27"
      ]
     },
     "execution_count": 17,
     "metadata": {},
     "output_type": "execute_result"
    }
   ],
   "source": [
    "# stocks.csvからのデータ取得\n",
    "stock_df = pd.read_csv('stocks.csv')\n",
    "stock_df"
   ]
  },
  {
   "cell_type": "code",
   "execution_count": 18,
   "metadata": {},
   "outputs": [
    {
     "data": {
      "text/html": [
       "<div>\n",
       "<style scoped>\n",
       "    .dataframe tbody tr th:only-of-type {\n",
       "        vertical-align: middle;\n",
       "    }\n",
       "\n",
       "    .dataframe tbody tr th {\n",
       "        vertical-align: top;\n",
       "    }\n",
       "\n",
       "    .dataframe thead th {\n",
       "        text-align: right;\n",
       "    }\n",
       "</style>\n",
       "<table border=\"1\" class=\"dataframe\">\n",
       "  <thead>\n",
       "    <tr style=\"text-align: right;\">\n",
       "      <th></th>\n",
       "      <th>p</th>\n",
       "      <th>m</th>\n",
       "      <th>require</th>\n",
       "    </tr>\n",
       "  </thead>\n",
       "  <tbody>\n",
       "    <tr>\n",
       "      <th>0</th>\n",
       "      <td>p1</td>\n",
       "      <td>m1</td>\n",
       "      <td>2</td>\n",
       "    </tr>\n",
       "    <tr>\n",
       "      <th>1</th>\n",
       "      <td>p1</td>\n",
       "      <td>m2</td>\n",
       "      <td>0</td>\n",
       "    </tr>\n",
       "    <tr>\n",
       "      <th>2</th>\n",
       "      <td>p1</td>\n",
       "      <td>m3</td>\n",
       "      <td>1</td>\n",
       "    </tr>\n",
       "    <tr>\n",
       "      <th>3</th>\n",
       "      <td>p2</td>\n",
       "      <td>m1</td>\n",
       "      <td>3</td>\n",
       "    </tr>\n",
       "    <tr>\n",
       "      <th>4</th>\n",
       "      <td>p2</td>\n",
       "      <td>m2</td>\n",
       "      <td>2</td>\n",
       "    </tr>\n",
       "    <tr>\n",
       "      <th>5</th>\n",
       "      <td>p2</td>\n",
       "      <td>m3</td>\n",
       "      <td>0</td>\n",
       "    </tr>\n",
       "    <tr>\n",
       "      <th>6</th>\n",
       "      <td>p3</td>\n",
       "      <td>m1</td>\n",
       "      <td>0</td>\n",
       "    </tr>\n",
       "    <tr>\n",
       "      <th>7</th>\n",
       "      <td>p3</td>\n",
       "      <td>m2</td>\n",
       "      <td>2</td>\n",
       "    </tr>\n",
       "    <tr>\n",
       "      <th>8</th>\n",
       "      <td>p3</td>\n",
       "      <td>m3</td>\n",
       "      <td>2</td>\n",
       "    </tr>\n",
       "    <tr>\n",
       "      <th>9</th>\n",
       "      <td>p4</td>\n",
       "      <td>m1</td>\n",
       "      <td>2</td>\n",
       "    </tr>\n",
       "    <tr>\n",
       "      <th>10</th>\n",
       "      <td>p4</td>\n",
       "      <td>m2</td>\n",
       "      <td>2</td>\n",
       "    </tr>\n",
       "    <tr>\n",
       "      <th>11</th>\n",
       "      <td>p4</td>\n",
       "      <td>m3</td>\n",
       "      <td>2</td>\n",
       "    </tr>\n",
       "  </tbody>\n",
       "</table>\n",
       "</div>"
      ],
      "text/plain": [
       "     p   m  require\n",
       "0   p1  m1        2\n",
       "1   p1  m2        0\n",
       "2   p1  m3        1\n",
       "3   p2  m1        3\n",
       "4   p2  m2        2\n",
       "5   p2  m3        0\n",
       "6   p3  m1        0\n",
       "7   p3  m2        2\n",
       "8   p3  m3        2\n",
       "9   p4  m1        2\n",
       "10  p4  m2        2\n",
       "11  p4  m3        2"
      ]
     },
     "execution_count": 18,
     "metadata": {},
     "output_type": "execute_result"
    }
   ],
   "source": [
    "# requires.csvからのデータ取得\n",
    "require_df = pd.read_csv('requires.csv')\n",
    "require_df"
   ]
  },
  {
   "cell_type": "code",
   "execution_count": 19,
   "metadata": {},
   "outputs": [
    {
     "data": {
      "text/html": [
       "<div>\n",
       "<style scoped>\n",
       "    .dataframe tbody tr th:only-of-type {\n",
       "        vertical-align: middle;\n",
       "    }\n",
       "\n",
       "    .dataframe tbody tr th {\n",
       "        vertical-align: top;\n",
       "    }\n",
       "\n",
       "    .dataframe thead th {\n",
       "        text-align: right;\n",
       "    }\n",
       "</style>\n",
       "<table border=\"1\" class=\"dataframe\">\n",
       "  <thead>\n",
       "    <tr style=\"text-align: right;\">\n",
       "      <th></th>\n",
       "      <th>p</th>\n",
       "      <th>gain</th>\n",
       "    </tr>\n",
       "  </thead>\n",
       "  <tbody>\n",
       "    <tr>\n",
       "      <th>0</th>\n",
       "      <td>p1</td>\n",
       "      <td>3</td>\n",
       "    </tr>\n",
       "    <tr>\n",
       "      <th>1</th>\n",
       "      <td>p2</td>\n",
       "      <td>4</td>\n",
       "    </tr>\n",
       "    <tr>\n",
       "      <th>2</th>\n",
       "      <td>p3</td>\n",
       "      <td>4</td>\n",
       "    </tr>\n",
       "    <tr>\n",
       "      <th>3</th>\n",
       "      <td>p4</td>\n",
       "      <td>5</td>\n",
       "    </tr>\n",
       "  </tbody>\n",
       "</table>\n",
       "</div>"
      ],
      "text/plain": [
       "    p  gain\n",
       "0  p1     3\n",
       "1  p2     4\n",
       "2  p3     4\n",
       "3  p4     5"
      ]
     },
     "execution_count": 19,
     "metadata": {},
     "output_type": "execute_result"
    }
   ],
   "source": [
    "# gains.csvからのデータ取得\n",
    "gain_df = pd.read_csv('gains.csv')\n",
    "gain_df"
   ]
  },
  {
   "cell_type": "markdown",
   "metadata": {},
   "source": [
    "### ②リストの定義"
   ]
  },
  {
   "cell_type": "code",
   "execution_count": 20,
   "metadata": {},
   "outputs": [
    {
     "data": {
      "text/plain": [
       "['p1', 'p2', 'p3', 'p4']"
      ]
     },
     "execution_count": 20,
     "metadata": {},
     "output_type": "execute_result"
    }
   ],
   "source": [
    "# 製品のリストの定義\n",
    "P = gain_df['p'].tolist()\n",
    "P"
   ]
  },
  {
   "cell_type": "code",
   "execution_count": 21,
   "metadata": {},
   "outputs": [
    {
     "data": {
      "text/plain": [
       "['m1', 'm2', 'm3']"
      ]
     },
     "execution_count": 21,
     "metadata": {},
     "output_type": "execute_result"
    }
   ],
   "source": [
    "# 原料のリストの定義\n",
    "M = stock_df['m'].tolist()\n",
    "M"
   ]
  },
  {
   "cell_type": "markdown",
   "metadata": {},
   "source": [
    "### ③定数の定義"
   ]
  },
  {
   "cell_type": "code",
   "execution_count": 22,
   "metadata": {},
   "outputs": [
    {
     "data": {
      "text/plain": [
       "{'m1': 35, 'm2': 22, 'm3': 27}"
      ]
     },
     "execution_count": 22,
     "metadata": {},
     "output_type": "execute_result"
    }
   ],
   "source": [
    "# 定数の定義:stock\n",
    "stock = {row.m:row.stock for row in stock_df.itertuples()}\n",
    "\n",
    "#stock = dict(zip(stock_df['m'], stock_df['stock']))\n",
    "#stock = dict((row.m, row.stock) for row in stock_df.itertuples())\n",
    "#stock = {row['m']:row['stock'] for i, row in stock_df.iterrows()} # 追記:iterrowsは低速なので避ける\n",
    "#stock = stock_df.set_index('m').to_dict()['stock']\n",
    "#stock = stock_df.set_index('m')['stock'].to_dict() # 追記\n",
    "stock"
   ]
  },
  {
   "cell_type": "code",
   "execution_count": 23,
   "metadata": {},
   "outputs": [
    {
     "data": {
      "text/plain": [
       "{'p1': 3, 'p2': 4, 'p3': 4, 'p4': 5}"
      ]
     },
     "execution_count": 23,
     "metadata": {},
     "output_type": "execute_result"
    }
   ],
   "source": [
    "# 定数の定義:gain\n",
    "gain = {row.p:row.gain for row in gain_df.itertuples()}\n",
    "gain"
   ]
  },
  {
   "cell_type": "code",
   "execution_count": 24,
   "metadata": {},
   "outputs": [
    {
     "data": {
      "text/plain": [
       "{('p1', 'm1'): 2,\n",
       " ('p1', 'm2'): 0,\n",
       " ('p1', 'm3'): 1,\n",
       " ('p2', 'm1'): 3,\n",
       " ('p2', 'm2'): 2,\n",
       " ('p2', 'm3'): 0,\n",
       " ('p3', 'm1'): 0,\n",
       " ('p3', 'm2'): 2,\n",
       " ('p3', 'm3'): 2,\n",
       " ('p4', 'm1'): 2,\n",
       " ('p4', 'm2'): 2,\n",
       " ('p4', 'm3'): 2}"
      ]
     },
     "execution_count": 24,
     "metadata": {},
     "output_type": "execute_result"
    }
   ],
   "source": [
    "# 定数の定義:require\n",
    "require = {(row.p,row.m):row.require for row in require_df.itertuples()}\n",
    "require"
   ]
  },
  {
   "cell_type": "markdown",
   "metadata": {},
   "source": [
    "### ④線形計画問題の定義"
   ]
  },
  {
   "cell_type": "code",
   "execution_count": 25,
   "metadata": {},
   "outputs": [],
   "source": [
    "# 数理最適化モデルの定義\n",
    "problem = mip.Model()\n",
    "# problem = pulp.LpProblem('LP2', pulp.LpMaximize)"
   ]
  },
  {
   "cell_type": "markdown",
   "metadata": {},
   "source": [
    "### ⑤変数の定義"
   ]
  },
  {
   "cell_type": "code",
   "execution_count": 26,
   "metadata": {},
   "outputs": [],
   "source": [
    "# 変数の定義\n",
    "x = {p:problem.add_var() for p in P}\n",
    "\n",
    "# 変数の逐次定義\n",
    "#x = {}\n",
    "#for p in P:\n",
    "#    x[p] = problem.add_var()\n",
    "\n",
    "#####\n",
    "#x = pulp.LpVariable.dicts('x', P, cat='Continuous')\n",
    "\n",
    "# 変数の逐次定義\n",
    "#x = {}\n",
    "#for p in P:\n",
    "#    x[p] = pulp.LpVariable('x_{}'.format(p), cat='Continuous')\n",
    "\n",
    "# f-strings(Python3.6以降)\n",
    "#x = {}\n",
    "#for p in P:\n",
    "#    x[p] = pulp.LpVariable(f'x_{p}', cat='Continuous')    \n",
    "\n",
    "# 辞書 & f-strings\n",
    "# x = {p:pulp.LpVariable(f'x_{p}', cat='Continuous') for p in P}"
   ]
  },
  {
   "cell_type": "markdown",
   "metadata": {},
   "source": [
    "### ⑥制約式の定義"
   ]
  },
  {
   "cell_type": "code",
   "execution_count": 27,
   "metadata": {},
   "outputs": [],
   "source": [
    "# 生産量は0以上\n",
    "for p in P:\n",
    "    problem += x[p] >= 0"
   ]
  },
  {
   "cell_type": "code",
   "execution_count": 28,
   "metadata": {},
   "outputs": [],
   "source": [
    "# 生産量は在庫の範囲\n",
    "for m in M:\n",
    "    problem += mip.xsum([require[p,m] * x[p] for p in P]) <= stock[m]\n",
    "#for m in M:\n",
    "#    problem += pulp.lpSum([require[p,m] * x[p] for p in P]) <= stock[m]"
   ]
  },
  {
   "cell_type": "markdown",
   "metadata": {},
   "source": [
    "### ⑦目的関数の定義"
   ]
  },
  {
   "cell_type": "code",
   "execution_count": 29,
   "metadata": {},
   "outputs": [],
   "source": [
    "# 目的関数の定義    \n",
    "problem.objective = mip.maximize(mip.xsum([gain[p] * x[p] for p in P]))\n",
    "#problem += pulp.lpSum([gain[p] * x[p] for p in P])"
   ]
  },
  {
   "cell_type": "markdown",
   "metadata": {},
   "source": [
    "### 実行"
   ]
  },
  {
   "cell_type": "code",
   "execution_count": 30,
   "metadata": {},
   "outputs": [
    {
     "name": "stdout",
     "output_type": "stream",
     "text": [
      "Coin0506I Presolve 2 (0) rows, 2 (0) columns and 4 (0) elements\n",
      "Clp1000I sum of infeasibilities 0 - average 0, 0 fixed columns\n",
      "Coin0506I Presolve 2 (0) rows, 2 (0) columns and 4 (0) elements\n",
      "Clp0006I 0  Obj 25.999991 Dual inf 300 (2)\n",
      "Clp0029I End of values pass after 2 iterations\n",
      "Clp0000I Optimal - objective value 26\n",
      "Clp0000I Optimal - objective value 26\n",
      "Clp0000I Optimal - objective value 26\n",
      "Clp0032I Optimal objective 26 - 0 iterations time 0.002, Idiot 0.00\n",
      "Starting solution of the Linear programming problem using Primal Simplex\n",
      "\n",
      "Status: OptimizationStatus.OPTIMAL\n"
     ]
    }
   ],
   "source": [
    "# 求解\n",
    "problem.optimize()\n",
    "print('Status:', problem.status)\n",
    "#status = problem.solve()\n",
    "#print('Status:', pulp.LpStatus[status])"
   ]
  },
  {
   "cell_type": "code",
   "execution_count": 31,
   "metadata": {},
   "outputs": [
    {
     "name": "stdout",
     "output_type": "stream",
     "text": [
      "p1 12.142857142857142\n",
      "p2 3.571428571428571\n",
      "p3 7.428571428571429\n",
      "p4 0.0\n",
      "obj= 80.42857142857143\n"
     ]
    }
   ],
   "source": [
    "# 計算結果の表示\n",
    "for p in P:\n",
    "    print(p, x[p].x)\n",
    "\n",
    "print('obj=', problem.objective.x)\n",
    "\n",
    "#####\n",
    "#for p in P:\n",
    "#    print(p, x[p].value())\n",
    "#\n",
    "#print('obj=', problem.objective.value())"
   ]
  },
  {
   "cell_type": "markdown",
   "metadata": {},
   "source": [
    "### ⑧実装した数理最適化モデルのまとめ"
   ]
  },
  {
   "cell_type": "code",
   "execution_count": 32,
   "metadata": {},
   "outputs": [
    {
     "name": "stdout",
     "output_type": "stream",
     "text": [
      "Clp0024I Matrix will be packed to eliminate 3 small elements\n",
      "Coin0506I Presolve 3 (-4) rows, 4 (0) columns and 9 (-4) elements\n",
      "Clp1000I sum of infeasibilities 8.20677e-12 - average 2.73559e-12, 0 fixed columns\n",
      "Coin0506I Presolve 3 (0) rows, 4 (0) columns and 9 (0) elements\n",
      "Clp0006I 0  Obj 80.428563 Dual inf 1750 (4)\n",
      "Clp0029I End of values pass after 4 iterations\n",
      "Clp0000I Optimal - objective value 80.428571\n",
      "Clp0000I Optimal - objective value 80.428571\n",
      "Clp0000I Optimal - objective value 80.428571\n",
      "Coin0511I After Postsolve, objective 80.428571, infeasibilities - dual 0 (0), primal 0 (0)\n",
      "Clp0032I Optimal objective 80.42857143 - 0 iterations time 0.002, Presolve 0.00, Idiot 0.00\n",
      "Starting solution of the Linear programming problem using Primal Simplex\n",
      "\n",
      "Status: OptimizationStatus.OPTIMAL\n",
      "p1 12.142857142857142\n",
      "p2 3.571428571428571\n",
      "p3 7.428571428571429\n",
      "p4 0.0\n",
      "obj= 80.42857142857143\n"
     ]
    }
   ],
   "source": [
    "import pandas as pd\n",
    "import mip\n",
    "\n",
    "# データの取得\n",
    "require_df = pd.read_csv('requires.csv')\n",
    "stock_df = pd.read_csv('stocks.csv')\n",
    "gain_df = pd.read_csv('gains.csv')\n",
    "\n",
    "# 集合の定義\n",
    "P = gain_df['p'].tolist()\n",
    "M = stock_df['m'].tolist()\n",
    "\n",
    "# 定数の定義\n",
    "stock = {row.m:row.stock for row in stock_df.itertuples()}\n",
    "gain = {row.p:row.gain for row in gain_df.itertuples()}\n",
    "require = {(row.p,row.m):row.require for row in require_df.itertuples()}\n",
    "\n",
    "# 数理最適化モデルの定義\n",
    "problem = mip.Model()\n",
    "\n",
    "# 変数の定義\n",
    "x = {p:problem.add_var() for p in P}\n",
    "\n",
    "# 制約式の定義\n",
    "for p in P:\n",
    "    problem += x[p] >= 0\n",
    "for m in M:\n",
    "    problem += mip.xsum([require[p,m] * x[p] for p in P]) <= stock[m]\n",
    "\n",
    "# 目的関数の定義    \n",
    "problem.objective = mip.maximize(mip.xsum([gain[p] * x[p] for p in P]))\n",
    "\n",
    "# 求解\n",
    "problem.optimize()\n",
    "print('Status:', problem.status)\n",
    "\n",
    "# 計算結果の表示\n",
    "for p in P:\n",
    "    print(p, x[p].x)\n",
    "\n",
    "print('obj=', problem.objective.x)\n",
    "\n",
    "#####\n",
    "#import pandas as pd\n",
    "#import pulp\n",
    "#\n",
    "## データの取得\n",
    "#require_df = pd.read_csv('requires.csv')\n",
    "#stock_df = pd.read_csv('stocks.csv')\n",
    "#gain_df = pd.read_csv('gains.csv')\n",
    "#\n",
    "## 集合の定義\n",
    "#P = gain_df['p'].tolist()\n",
    "#M = stock_df['m'].tolist()\n",
    "#\n",
    "## 定数の定義\n",
    "#stock = {row.m:row.stock for row in stock_df.itertuples()}\n",
    "#gain = {row.p:row.gain for row in gain_df.itertuples()}\n",
    "#require = {(row.p,row.m):row.require for row in require_df.itertuples()}\n",
    "#\n",
    "## 数理最適化モデルの定義\n",
    "#problem = pulp.LpProblem('LP2', pulp.LpMaximize)\n",
    "#\n",
    "## 変数の定義\n",
    "#x = pulp.LpVariable.dicts('x', P, cat='Continuous')\n",
    "#\n",
    "## 制約式の定義\n",
    "#for p in P:\n",
    "#    problem += x[p] >= 0\n",
    "#for m in M:\n",
    "#    problem += pulp.lpSum([require[p,m] * x[p] for p in P]) <= stock[m]\n",
    "#\n",
    "## 目的関数の定義    \n",
    "#problem += pulp.lpSum([gain[p] * x[p] for p in P])\n",
    "#\n",
    "## 求解\n",
    "#status = problem.solve()\n",
    "#print('Status:', pulp.LpStatus[status])\n",
    "#\n",
    "## 計算結果の表示\n",
    "#for p in P:\n",
    "#    print(p, x[p].value())\n",
    "#\n",
    "#print('obj=', problem.objective.value())"
   ]
  },
  {
   "cell_type": "markdown",
   "metadata": {},
   "source": [
    "### **整数計画問題**"
   ]
  },
  {
   "cell_type": "markdown",
   "metadata": {},
   "source": [
    "### コード全体"
   ]
  },
  {
   "cell_type": "code",
   "execution_count": 33,
   "metadata": {},
   "outputs": [
    {
     "name": "stdout",
     "output_type": "stream",
     "text": [
      "Clp0024I Matrix will be packed to eliminate 3 small elements\n",
      "Coin0506I Presolve 3 (-4) rows, 4 (0) columns and 9 (-4) elements\n",
      "Clp1000I sum of infeasibilities 8.20677e-12 - average 2.73559e-12, 0 fixed columns\n",
      "Coin0506I Presolve 3 (0) rows, 4 (0) columns and 9 (0) elements\n",
      "Clp0006I 0  Obj 80.428563 Dual inf 1750 (4)\n",
      "Clp0029I End of values pass after 4 iterations\n",
      "Clp0000I Optimal - objective value 80.428571\n",
      "Clp0000I Optimal - objective value 80.428571\n",
      "Clp0000I Optimal - objective value 80.428571\n",
      "Coin0511I After Postsolve, objective 80.428571, infeasibilities - dual 0 (0), primal 0 (0)\n",
      "Clp0032I Optimal objective 80.42857143 - 0 iterations time 0.002, Presolve 0.00, Idiot 0.00\n",
      "Starting solution of the Linear programming relaxation problem using Primal Simplex\n",
      "\n",
      "Clp0024I Matrix will be packed to eliminate 3 small elements\n",
      "Coin0506I Presolve 3 (-4) rows, 4 (0) columns and 9 (-4) elements\n",
      "Clp1000I sum of infeasibilities 0 - average 0, 0 fixed columns\n",
      "Coin0506I Presolve 3 (0) rows, 4 (0) columns and 9 (0) elements\n",
      "Clp0006I 0  Obj 80.428528 Dual inf 1750 (4)\n",
      "Clp0029I End of values pass after 4 iterations\n",
      "Clp0000I Optimal - objective value 80.428571\n",
      "Clp0000I Optimal - objective value 80.428571\n",
      "Clp0000I Optimal - objective value 80.428571\n",
      "Coin0511I After Postsolve, objective 80.428571, infeasibilities - dual 0 (0), primal 0 (0)\n",
      "Clp0032I Optimal objective 80.42857143 - 0 iterations time 0.002, Presolve 0.00, Idiot 0.00\n",
      "\n",
      "Starting MIP optimization\n",
      "Status: OptimizationStatus.OPTIMAL\n",
      "p1 13.0\n",
      "p2 3.0\n",
      "p3 7.0\n",
      "p4 0.0\n",
      "obj= 79.0\n"
     ]
    }
   ],
   "source": [
    "import pandas as pd\n",
    "import mip\n",
    "\n",
    "# データの取得\n",
    "require_df = pd.read_csv('requires.csv')\n",
    "stock_df = pd.read_csv('stocks.csv')\n",
    "gain_df = pd.read_csv('gains.csv')\n",
    "\n",
    "# 集合の定義\n",
    "P = gain_df['p'].tolist()\n",
    "M = stock_df['m'].tolist()\n",
    "\n",
    "# 定数の定義\n",
    "stock = {row.m:row.stock for row in stock_df.itertuples()}\n",
    "gain = {row.p:row.gain for row in gain_df.itertuples()}\n",
    "require = {(row.p,row.m):row.require for row in require_df.itertuples()}\n",
    "\n",
    "# 数理最適化モデルの定義\n",
    "problem = mip.Model()\n",
    "\n",
    "# 変数の定義\n",
    "x = {p:problem.add_var(var_type='I') for p in P} # 変更点\n",
    "\n",
    "# 制約式の定義\n",
    "for p in P:\n",
    "    problem += x[p] >= 0\n",
    "for m in M:\n",
    "    problem += mip.xsum([require[p,m] * x[p] for p in P]) <= stock[m]\n",
    "\n",
    "# 目的関数の定義    \n",
    "problem.objective = mip.maximize(mip.xsum([gain[p] * x[p] for p in P]))\n",
    "\n",
    "# 求解\n",
    "problem.optimize()\n",
    "print('Status:', problem.status)\n",
    "\n",
    "# 計算結果の表示\n",
    "for p in P:\n",
    "    print(p, x[p].x)\n",
    "\n",
    "print('obj=', problem.objective.x)\n",
    "\n",
    "#####\n",
    "#import pandas as pd\n",
    "#import pulp\n",
    "#\n",
    "## データの取得\n",
    "#require_df = pd.read_csv('requires.csv')\n",
    "#stock_df = pd.read_csv('stocks.csv')\n",
    "#gain_df = pd.read_csv('gains.csv')\n",
    "#\n",
    "## 集合の定義\n",
    "#P = gain_df['p'].tolist()\n",
    "#M = stock_df['m'].tolist()\n",
    "#\n",
    "## 定数の定義\n",
    "#stock = {row.m:row.stock for row in stock_df.itertuples()}\n",
    "#gain = {row.p:row.gain for row in gain_df.itertuples()}\n",
    "#require = {(row.p,row.m):row.require for row in require_df.itertuples()}\n",
    "#\n",
    "## 数理最適化モデルの定義\n",
    "#problem = pulp.LpProblem('IP', pulp.LpMaximize) # 変更点（任意）\n",
    "#\n",
    "## 変数の定義\n",
    "#x = pulp.LpVariable.dicts('x', P, cat='Integer') # 変更点\n",
    "#\n",
    "## 制約式の定義\n",
    "#for p in P:\n",
    "#    problem += x[p] >= 0\n",
    "#for m in M:\n",
    "#    problem += pulp.lpSum([require[p,m] * x[p] for p in P]) <= stock[m]\n",
    "#\n",
    "## 目的関数の定義    \n",
    "#problem += pulp.lpSum([gain[p] * x[p] for p in P])\n",
    "#\n",
    "## 求解\n",
    "#status = problem.solve()\n",
    "#print('Status:', pulp.LpStatus[status])\n",
    "#\n",
    "## 計算結果の表示\n",
    "#for p in P:\n",
    "#    print(p, x[p].value())\n",
    "#\n",
    "#print('obj=', problem.objective.value())"
   ]
  },
  {
   "cell_type": "code",
   "execution_count": null,
   "metadata": {},
   "outputs": [],
   "source": []
  }
 ],
 "metadata": {
  "kernelspec": {
   "display_name": "Python 3 (ipykernel)",
   "language": "python",
   "name": "python3"
  },
  "language_info": {
   "codemirror_mode": {
    "name": "ipython",
    "version": 3
   },
   "file_extension": ".py",
   "mimetype": "text/x-python",
   "name": "python",
   "nbconvert_exporter": "python",
   "pygments_lexer": "ipython3",
   "version": "3.11.2"
  }
 },
 "nbformat": 4,
 "nbformat_minor": 4
}
