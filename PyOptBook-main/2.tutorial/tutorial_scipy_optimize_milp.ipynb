{
 "cells": [
  {
   "cell_type": "markdown",
   "id": "77e6e472-790e-449b-b2d1-aede1c6dd60d",
   "metadata": {},
   "source": [
    "# **【scipy.optimize.milp版】第2章 Python数理最適化チュートリアル**\n",
    "\n",
    "本チュートリアルは`scipy==1.9.0`以降を前提に、`scipy.optimize.milp`の利用方法を解説します。\n",
    "なお、以下のリンクを参考にしています。\n",
    "https://scipy.github.io/devdocs/reference/generated/scipy.optimize.milp.html"
   ]
  },
  {
   "cell_type": "markdown",
   "id": "c0a56f33-8cf4-4f1d-a46d-87a8d9287485",
   "metadata": {},
   "source": [
    "## **2.2 線形計画問題をPythonの数理最適化ライブラリで解く**\n",
    "まず、`pulp`を利用してモデリングした場合を確認します。"
   ]
  },
  {
   "cell_type": "code",
   "execution_count": 1,
   "id": "f05ca429-1b0d-4b65-b41d-a11b5733ed2d",
   "metadata": {},
   "outputs": [
    {
     "name": "stdout",
     "output_type": "stream",
     "text": [
      "Status: Optimal\n",
      "x= 18.0 y= 4.0 obj= 26.0\n"
     ]
    }
   ],
   "source": [
    "import pulp\n",
    "\n",
    "problem = pulp.LpProblem('LP', pulp.LpMaximize)\n",
    "\n",
    "x = pulp.LpVariable('x', cat='Continuous')\n",
    "y = pulp.LpVariable('y', cat='Continuous')\n",
    "\n",
    "problem += 1 * x + 3 * y <= 30\n",
    "problem += 2 * x + 1 * y <= 40\n",
    "problem += x >= 0\n",
    "problem += y >= 0\n",
    "problem.objective = x + 2 * y\n",
    "\n",
    "status = problem.solve(pulp.PULP_CBC_CMD(msg = False))\n",
    "\n",
    "print('Status:', pulp.LpStatus[status])\n",
    "print('x=', x.value(), 'y=', y.value(), 'obj=', problem.objective.value())"
   ]
  },
  {
   "cell_type": "markdown",
   "id": "7fe99e34-02c0-4633-a37f-053ce9178bb9",
   "metadata": {},
   "source": [
    "ここで、`problem`を`print`することで定式化を確認することができます。"
   ]
  },
  {
   "cell_type": "code",
   "execution_count": 2,
   "id": "167db65f-a1e9-4f74-8a4a-f4db814f3c7f",
   "metadata": {},
   "outputs": [
    {
     "data": {
      "text/plain": [
       "LP:\n",
       "MAXIMIZE\n",
       "1*x + 2*y + 0\n",
       "SUBJECT TO\n",
       "_C1: x + 3 y <= 30\n",
       "\n",
       "_C2: 2 x + y <= 40\n",
       "\n",
       "_C3: x >= 0\n",
       "\n",
       "_C4: y >= 0\n",
       "\n",
       "VARIABLES\n",
       "x free Continuous\n",
       "y free Continuous"
      ]
     },
     "execution_count": 2,
     "metadata": {},
     "output_type": "execute_result"
    }
   ],
   "source": [
    "problem"
   ]
  },
  {
   "cell_type": "markdown",
   "id": "9c665b6d-9f9a-4e18-a399-2ad5403506ad",
   "metadata": {},
   "source": [
    "上記から最適化問題として、次のパラメータを持つことを確認できます。\n",
    "\n",
    "```\n",
    "c = [1, 2]\n",
    "A = [[1, 3], [2, 1]]　　\n",
    "b_u = [30, 40]　　\n",
    "b_l = [-inf, -inf]\n",
    "```\n",
    "パラメータを参考に、次のようにして `scipy`で線形計画問題を解くことができます。\n",
    "ただし、目的関数が最大化問題であることを考慮して`c`に`-1`を掛けていること、および変数`x`の定義域はデフォルトで`0 <= x <= np.ing`となることに注意してください。"
   ]
  },
  {
   "cell_type": "code",
   "execution_count": 3,
   "id": "1454c1b6-2fc2-45c0-8bf2-ff6bb8455054",
   "metadata": {},
   "outputs": [
    {
     "name": "stdout",
     "output_type": "stream",
     "text": [
      "x: [18.  4.]\n",
      "obj= 26.0\n"
     ]
    }
   ],
   "source": [
    "import numpy as np\n",
    "from scipy.optimize import milp, LinearConstraint, Bounds\n",
    "\n",
    "c = - np.array([1, 2])\n",
    "A = np.array([[1, 3], [2, 1]])\n",
    "b_u = np.array([30, 40])\n",
    "b_l = np.array([-np.inf, -np.inf])\n",
    "\n",
    "constraints = LinearConstraint(A, b_l, b_u)\n",
    "\n",
    "res = milp(c=c, constraints=constraints)\n",
    "print('x:', res.x)\n",
    "print('obj=', -res.fun)"
   ]
  },
  {
   "cell_type": "markdown",
   "id": "24a4690d-4c73-4f00-8454-20933d09bbfb",
   "metadata": {},
   "source": [
    "`pulp(CBC)`で解いた場合の次の結果と合致していることが確認できます。\n",
    "```\n",
    "Status: Optimal\n",
    "x= 18.0 y= 4.0 obj= 26.0\n",
    "```"
   ]
  },
  {
   "cell_type": "markdown",
   "id": "c19e9a5d-4350-47b7-8cbd-00edf6b090b2",
   "metadata": {},
   "source": [
    "## **2.3 規模の大きな数理最適化問題をPythonの数理最適化ライブラリで解く**\n",
    "まず、`pulp`を利用してモデリングした場合を確認します。"
   ]
  },
  {
   "cell_type": "code",
   "execution_count": 4,
   "id": "51cb8d79-6145-4a1f-ac6f-df291dc5bea4",
   "metadata": {},
   "outputs": [
    {
     "name": "stdout",
     "output_type": "stream",
     "text": [
      "Status: Optimal\n",
      "p1 12.142857\n",
      "p2 3.5714286\n",
      "p3 7.4285714\n",
      "p4 0.0\n",
      "obj= 80.42857099999999\n"
     ]
    }
   ],
   "source": [
    "import pandas as pd\n",
    "import pulp\n",
    "\n",
    "# データの取得\n",
    "require_df = pd.read_csv('requires.csv')\n",
    "stock_df = pd.read_csv('stocks.csv')\n",
    "gain_df = pd.read_csv('gains.csv')\n",
    "\n",
    "# 集合の定義\n",
    "P = gain_df['p'].tolist()\n",
    "M = stock_df['m'].tolist()\n",
    "\n",
    "# 定数の定義\n",
    "stock = {row.m:row.stock for row in stock_df.itertuples()}\n",
    "gain = {row.p:row.gain for row in gain_df.itertuples()}\n",
    "require = {(row.p,row.m):row.require for row in require_df.itertuples()}\n",
    "\n",
    "# 数理最適化モデルの定義\n",
    "problem = pulp.LpProblem('LP2', pulp.LpMaximize)\n",
    "\n",
    "# 変数の定義\n",
    "x = pulp.LpVariable.dicts('x', P, cat='Continuous')\n",
    "\n",
    "# 制約式の定義\n",
    "for p in P:\n",
    "    problem += x[p] >= 0\n",
    "for m in M:\n",
    "    problem += pulp.lpSum([require[p,m] * x[p] for p in P]) <= stock[m]\n",
    "\n",
    "# 目的関数の定義    \n",
    "problem += pulp.lpSum([gain[p] * x[p] for p in P])\n",
    "\n",
    "# 求解\n",
    "status = problem.solve(pulp.PULP_CBC_CMD(msg = False))\n",
    "print('Status:', pulp.LpStatus[status])\n",
    "\n",
    "# 計算結果の表示\n",
    "for p in P:\n",
    "    print(p, x[p].value())\n",
    "\n",
    "print('obj=', problem.objective.value())"
   ]
  },
  {
   "cell_type": "markdown",
   "id": "568c7ded-72a5-4398-b91e-8212d22d0ad8",
   "metadata": {},
   "source": [
    "ここで、`problem`を`print`することで定式化を確認することができます。"
   ]
  },
  {
   "cell_type": "code",
   "execution_count": 5,
   "id": "35674210-f94e-4148-a9f2-95a5c677e5b4",
   "metadata": {},
   "outputs": [
    {
     "data": {
      "text/plain": [
       "LP2:\n",
       "MAXIMIZE\n",
       "3*x_p1 + 4*x_p2 + 4*x_p3 + 5*x_p4 + 0\n",
       "SUBJECT TO\n",
       "_C1: x_p1 >= 0\n",
       "\n",
       "_C2: x_p2 >= 0\n",
       "\n",
       "_C3: x_p3 >= 0\n",
       "\n",
       "_C4: x_p4 >= 0\n",
       "\n",
       "_C5: 2 x_p1 + 3 x_p2 + 2 x_p4 <= 35\n",
       "\n",
       "_C6: 2 x_p2 + 2 x_p3 + 2 x_p4 <= 22\n",
       "\n",
       "_C7: x_p1 + 2 x_p3 + 2 x_p4 <= 27\n",
       "\n",
       "VARIABLES\n",
       "x_p1 free Continuous\n",
       "x_p2 free Continuous\n",
       "x_p3 free Continuous\n",
       "x_p4 free Continuous"
      ]
     },
     "execution_count": 5,
     "metadata": {},
     "output_type": "execute_result"
    }
   ],
   "source": [
    "problem"
   ]
  },
  {
   "cell_type": "markdown",
   "id": "972eb0a4-5456-4b25-ab5c-3a63eff164f5",
   "metadata": {},
   "source": [
    "上記から最適化問題として、次のパラメータを持つことを確認できます。\n",
    "```\n",
    "c = [-3, -4, -4, -5]\n",
    "A = [[2, 3, 0, 2], [0, 2, 2, 2], [1, 0, 2, 2]]　\n",
    "b_u = [35, 22, 27]　　\n",
    "b_l = [-inf, -inf, -inf]\n",
    "```\n",
    "パラメータを参考に、次のようにして `scipy`で線形計画問題を解くことができます。\n",
    "ただし、目的関数が最大化問題であることを考慮して`c`に`-1`を掛けていること、および変数`x`の定義域はデフォルトで`0 <= x <= np.ing`となることに注意してください。"
   ]
  },
  {
   "cell_type": "code",
   "execution_count": 6,
   "id": "b12fd3e0-0bc5-4349-8d99-ae7ddcbf049d",
   "metadata": {},
   "outputs": [
    {
     "name": "stdout",
     "output_type": "stream",
     "text": [
      "x: [12.14285714  3.57142857  7.42857143  0.        ]\n",
      "obj= 80.42857142857143\n"
     ]
    }
   ],
   "source": [
    "import numpy as np\n",
    "from scipy.optimize import milp, LinearConstraint, Bounds\n",
    "\n",
    "# 以下、arrayではなく、listで処理\n",
    "c = [-3, -4, -4, -5]\n",
    "A = [[2, 3, 0, 2]\n",
    "     ,[0, 2, 2, 2]\n",
    "     ,[1, 0, 2, 2]]\n",
    "b_u = [35, 22, 27]\n",
    "b_l = [-np.inf, -np.inf, -np.inf]\n",
    "\n",
    "constraints = LinearConstraint(A, b_l, b_u)\n",
    "res = milp(c=c, constraints=constraints)\n",
    "\n",
    "print('x:', res.x)\n",
    "print('obj=', -res.fun)"
   ]
  },
  {
   "cell_type": "markdown",
   "id": "37fd1714-e8e9-4f6f-86ba-ffc2cdbfee4f",
   "metadata": {},
   "source": [
    "## ファイルを利用する場合\n",
    "本書のように入力ファイルのデータを用いる場合は次のようになります。"
   ]
  },
  {
   "cell_type": "code",
   "execution_count": 7,
   "id": "04930772-58e4-449e-8256-065f62bce9b4",
   "metadata": {},
   "outputs": [
    {
     "name": "stdout",
     "output_type": "stream",
     "text": [
      "x: [12.14285714  3.57142857  7.42857143  0.        ]\n",
      "obj= 80.42857142857143\n"
     ]
    }
   ],
   "source": [
    "import pandas as pd\n",
    "import numpy as np\n",
    "from scipy.optimize import milp, LinearConstraint, Bounds\n",
    "\n",
    "# データの取得\n",
    "require_df = pd.read_csv('requires.csv')\n",
    "stock_df = pd.read_csv('stocks.csv')\n",
    "gain_df = pd.read_csv('gains.csv')\n",
    "\n",
    "c = - gain_df.gain\n",
    "b_u = stock_df.stock\n",
    "b_l = [-np.inf] * len(b_u)\n",
    "\n",
    "A = np.array(require_df.require).reshape(len(gain_df['p']), len(stock_df['m'])).T\n",
    "constraints = LinearConstraint(A, b_l, b_u)\n",
    "res = milp(c=c, constraints=constraints)\n",
    "\n",
    "print('x:', res.x)\n",
    "print('obj=', -res.fun)"
   ]
  },
  {
   "cell_type": "markdown",
   "id": "c8e90d41-83ed-41a6-98df-62d63544735d",
   "metadata": {},
   "source": [
    "## 整数計画問題\n",
    "整数計画問題として問題を解く場合は次のようになります。"
   ]
  },
  {
   "cell_type": "code",
   "execution_count": 8,
   "id": "77cab794-8bae-4f9b-817e-c60b61d1bd70",
   "metadata": {},
   "outputs": [
    {
     "name": "stdout",
     "output_type": "stream",
     "text": [
      "x: [13.  3.  7.  0.]\n",
      "obj= 79.0\n"
     ]
    }
   ],
   "source": [
    "import pandas as pd\n",
    "import numpy as np\n",
    "from scipy.optimize import milp, LinearConstraint, Bounds\n",
    "\n",
    "# データの取得\n",
    "require_df = pd.read_csv('requires.csv')\n",
    "stock_df = pd.read_csv('stocks.csv')\n",
    "gain_df = pd.read_csv('gains.csv')\n",
    "\n",
    "c = - gain_df.gain\n",
    "b_u = stock_df.stock\n",
    "b_l = [-np.inf] * len(b_u)\n",
    "\n",
    "A = np.array(require_df.require).reshape(len(gain_df['p']), len(stock_df['m'])).T\n",
    "constraints = LinearConstraint(A, b_l, b_u)\n",
    "\n",
    "integrality = np.ones_like(c)\n",
    "res = milp(c=c, constraints=constraints, integrality=integrality)\n",
    "\n",
    "print('x:', res.x)\n",
    "print('obj=', -res.fun)"
   ]
  },
  {
   "cell_type": "code",
   "execution_count": null,
   "id": "1647ccf9-d94d-49d3-aec2-db2910aeb50e",
   "metadata": {},
   "outputs": [],
   "source": []
  }
 ],
 "metadata": {
  "kernelspec": {
   "display_name": "Python 3 (ipykernel)",
   "language": "python",
   "name": "python3"
  },
  "language_info": {
   "codemirror_mode": {
    "name": "ipython",
    "version": 3
   },
   "file_extension": ".py",
   "mimetype": "text/x-python",
   "name": "python",
   "nbconvert_exporter": "python",
   "pygments_lexer": "ipython3",
   "version": "3.9.13"
  }
 },
 "nbformat": 4,
 "nbformat_minor": 5
}
