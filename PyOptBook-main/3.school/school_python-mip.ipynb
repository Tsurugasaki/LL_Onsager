{
 "cells": [
  {
   "cell_type": "markdown",
   "metadata": {},
   "source": [
    "# **第3章　学校のクラス編成**"
   ]
  },
  {
   "cell_type": "markdown",
   "metadata": {},
   "source": [
    "### **3.3 数理モデリングと実装**"
   ]
  },
  {
   "cell_type": "markdown",
   "metadata": {},
   "source": [
    "### ②データの確認"
   ]
  },
  {
   "cell_type": "code",
   "execution_count": 1,
   "metadata": {},
   "outputs": [],
   "source": [
    "# データ処理のためのライブラリpandasの取り込み\n",
    "import pandas as pd"
   ]
  },
  {
   "cell_type": "markdown",
   "metadata": {},
   "source": [
    "(1)生徒データ(students.csv)の確認"
   ]
  },
  {
   "cell_type": "code",
   "execution_count": 2,
   "metadata": {},
   "outputs": [
    {
     "name": "stdout",
     "output_type": "stream",
     "text": [
      "318\n"
     ]
    },
    {
     "data": {
      "text/html": [
       "<div>\n",
       "<style scoped>\n",
       "    .dataframe tbody tr th:only-of-type {\n",
       "        vertical-align: middle;\n",
       "    }\n",
       "\n",
       "    .dataframe tbody tr th {\n",
       "        vertical-align: top;\n",
       "    }\n",
       "\n",
       "    .dataframe thead th {\n",
       "        text-align: right;\n",
       "    }\n",
       "</style>\n",
       "<table border=\"1\" class=\"dataframe\">\n",
       "  <thead>\n",
       "    <tr style=\"text-align: right;\">\n",
       "      <th></th>\n",
       "      <th>student_id</th>\n",
       "      <th>gender</th>\n",
       "      <th>leader_flag</th>\n",
       "      <th>support_flag</th>\n",
       "      <th>score</th>\n",
       "    </tr>\n",
       "  </thead>\n",
       "  <tbody>\n",
       "    <tr>\n",
       "      <th>0</th>\n",
       "      <td>1</td>\n",
       "      <td>0</td>\n",
       "      <td>0</td>\n",
       "      <td>0</td>\n",
       "      <td>335</td>\n",
       "    </tr>\n",
       "    <tr>\n",
       "      <th>1</th>\n",
       "      <td>2</td>\n",
       "      <td>1</td>\n",
       "      <td>0</td>\n",
       "      <td>0</td>\n",
       "      <td>379</td>\n",
       "    </tr>\n",
       "    <tr>\n",
       "      <th>2</th>\n",
       "      <td>3</td>\n",
       "      <td>0</td>\n",
       "      <td>0</td>\n",
       "      <td>0</td>\n",
       "      <td>350</td>\n",
       "    </tr>\n",
       "    <tr>\n",
       "      <th>3</th>\n",
       "      <td>4</td>\n",
       "      <td>0</td>\n",
       "      <td>0</td>\n",
       "      <td>0</td>\n",
       "      <td>301</td>\n",
       "    </tr>\n",
       "    <tr>\n",
       "      <th>4</th>\n",
       "      <td>5</td>\n",
       "      <td>1</td>\n",
       "      <td>0</td>\n",
       "      <td>0</td>\n",
       "      <td>317</td>\n",
       "    </tr>\n",
       "  </tbody>\n",
       "</table>\n",
       "</div>"
      ],
      "text/plain": [
       "   student_id  gender  leader_flag  support_flag  score\n",
       "0           1       0            0             0    335\n",
       "1           2       1            0             0    379\n",
       "2           3       0            0             0    350\n",
       "3           4       0            0             0    301\n",
       "4           5       1            0             0    317"
      ]
     },
     "execution_count": 2,
     "metadata": {},
     "output_type": "execute_result"
    }
   ],
   "source": [
    "# students.csvからの生徒データの取得\n",
    "s_df = pd.read_csv('students.csv')\n",
    "print(len(s_df))\n",
    "s_df.head()"
   ]
  },
  {
   "cell_type": "code",
   "execution_count": 3,
   "metadata": {},
   "outputs": [
    {
     "data": {
      "text/plain": [
       "0        1\n",
       "1        2\n",
       "2        3\n",
       "3        4\n",
       "4        5\n",
       "      ... \n",
       "313    314\n",
       "314    315\n",
       "315    316\n",
       "316    317\n",
       "317    318\n",
       "Name: student_id, Length: 318, dtype: int64"
      ]
     },
     "execution_count": 3,
     "metadata": {},
     "output_type": "execute_result"
    }
   ],
   "source": [
    "# 学籍番号の確認\n",
    "s_df['student_id']"
   ]
  },
  {
   "cell_type": "code",
   "execution_count": 4,
   "metadata": {},
   "outputs": [
    {
     "data": {
      "text/plain": [
       "318"
      ]
     },
     "execution_count": 4,
     "metadata": {},
     "output_type": "execute_result"
    }
   ],
   "source": [
    "# 最大値の確認\n",
    "s_df['student_id'].max()"
   ]
  },
  {
   "cell_type": "code",
   "execution_count": 5,
   "metadata": {},
   "outputs": [
    {
     "data": {
      "text/plain": [
       "1"
      ]
     },
     "execution_count": 5,
     "metadata": {},
     "output_type": "execute_result"
    }
   ],
   "source": [
    "# 最小値の確認\n",
    "s_df['student_id'].min()"
   ]
  },
  {
   "cell_type": "code",
   "execution_count": 6,
   "metadata": {},
   "outputs": [
    {
     "data": {
      "text/plain": [
       "True"
      ]
     },
     "execution_count": 6,
     "metadata": {},
     "output_type": "execute_result"
    }
   ],
   "source": [
    "# 1〜318まで隙間なく番号が振られているかの確認\n",
    "set(range(1, 319)) == set(s_df['student_id'].tolist())"
   ]
  },
  {
   "cell_type": "code",
   "execution_count": 7,
   "metadata": {},
   "outputs": [
    {
     "data": {
      "text/plain": [
       "0    160\n",
       "1    158\n",
       "Name: gender, dtype: int64"
      ]
     },
     "execution_count": 7,
     "metadata": {},
     "output_type": "execute_result"
    }
   ],
   "source": [
    "# 性別（gender）の確認\n",
    "s_df['gender'].value_counts()"
   ]
  },
  {
   "cell_type": "code",
   "execution_count": 8,
   "metadata": {},
   "outputs": [
    {
     "data": {
      "text/plain": [
       "count    318.000000\n",
       "mean     303.644654\n",
       "std       65.179995\n",
       "min       88.000000\n",
       "25%      261.000000\n",
       "50%      310.000000\n",
       "75%      350.000000\n",
       "max      485.000000\n",
       "Name: score, dtype: float64"
      ]
     },
     "execution_count": 8,
     "metadata": {},
     "output_type": "execute_result"
    }
   ],
   "source": [
    "# 学力試験の点数(score)の統計量の確認\n",
    "s_df['score'].describe()"
   ]
  },
  {
   "cell_type": "code",
   "execution_count": 9,
   "metadata": {},
   "outputs": [
    {
     "data": {
      "text/plain": [
       "<AxesSubplot:>"
      ]
     },
     "execution_count": 9,
     "metadata": {},
     "output_type": "execute_result"
    },
    {
     "data": {
      "image/png": "[encoded data removed]",
      "text/plain": [
       "<Figure size 432x288 with 1 Axes>"
      ]
     },
     "metadata": {
      "needs_background": "light"
     },
     "output_type": "display_data"
    }
   ],
   "source": [
    "# 学力試験の点数(score)の分布の確認\n",
    "s_df['score'].hist()"
   ]
  },
  {
   "cell_type": "code",
   "execution_count": 10,
   "metadata": {},
   "outputs": [
    {
     "data": {
      "text/plain": [
       "0    301\n",
       "1     17\n",
       "Name: leader_flag, dtype: int64"
      ]
     },
     "execution_count": 10,
     "metadata": {},
     "output_type": "execute_result"
    }
   ],
   "source": [
    "# リーダー気質フラグ(leader_flag)の確認\n",
    "s_df['leader_flag'].value_counts()"
   ]
  },
  {
   "cell_type": "code",
   "execution_count": 11,
   "metadata": {},
   "outputs": [
    {
     "data": {
      "text/plain": [
       "0    314\n",
       "1      4\n",
       "Name: support_flag, dtype: int64"
      ]
     },
     "execution_count": 11,
     "metadata": {},
     "output_type": "execute_result"
    }
   ],
   "source": [
    "# 特別支援フラグ(support_flag)の確認\n",
    "s_df['support_flag'].value_counts()"
   ]
  },
  {
   "cell_type": "markdown",
   "metadata": {},
   "source": [
    "(2)特定ペアデータ(student_pairs.csv)の確認"
   ]
  },
  {
   "cell_type": "code",
   "execution_count": 12,
   "metadata": {},
   "outputs": [
    {
     "name": "stdout",
     "output_type": "stream",
     "text": [
      "3\n"
     ]
    },
    {
     "data": {
      "text/html": [
       "<div>\n",
       "<style scoped>\n",
       "    .dataframe tbody tr th:only-of-type {\n",
       "        vertical-align: middle;\n",
       "    }\n",
       "\n",
       "    .dataframe tbody tr th {\n",
       "        vertical-align: top;\n",
       "    }\n",
       "\n",
       "    .dataframe thead th {\n",
       "        text-align: right;\n",
       "    }\n",
       "</style>\n",
       "<table border=\"1\" class=\"dataframe\">\n",
       "  <thead>\n",
       "    <tr style=\"text-align: right;\">\n",
       "      <th></th>\n",
       "      <th>student_id1</th>\n",
       "      <th>student_id2</th>\n",
       "    </tr>\n",
       "  </thead>\n",
       "  <tbody>\n",
       "    <tr>\n",
       "      <th>0</th>\n",
       "      <td>118</td>\n",
       "      <td>189</td>\n",
       "    </tr>\n",
       "    <tr>\n",
       "      <th>1</th>\n",
       "      <td>72</td>\n",
       "      <td>50</td>\n",
       "    </tr>\n",
       "    <tr>\n",
       "      <th>2</th>\n",
       "      <td>314</td>\n",
       "      <td>233</td>\n",
       "    </tr>\n",
       "  </tbody>\n",
       "</table>\n",
       "</div>"
      ],
      "text/plain": [
       "   student_id1  student_id2\n",
       "0          118          189\n",
       "1           72           50\n",
       "2          314          233"
      ]
     },
     "execution_count": 12,
     "metadata": {},
     "output_type": "execute_result"
    }
   ],
   "source": [
    "# student_pairs.csvからの特定ペアデータの取得\n",
    "s_pair_df = pd.read_csv('student_pairs.csv')\n",
    "print(len(s_pair_df))\n",
    "s_pair_df"
   ]
  },
  {
   "cell_type": "markdown",
   "metadata": {},
   "source": [
    "### ③数理モデリングと実装"
   ]
  },
  {
   "cell_type": "code",
   "execution_count": 13,
   "metadata": {},
   "outputs": [],
   "source": [
    "# Pythonライブラリpython-mipの取り込み\n",
    "import mip\n",
    "\n",
    "# PythonライブラリPuLPの取り込み\n",
    "#import pulp"
   ]
  },
  {
   "cell_type": "code",
   "execution_count": 14,
   "metadata": {},
   "outputs": [],
   "source": [
    "# 数理モデルのインスタンス作成\n",
    "prob = mip.Model()\n",
    "#prob = pulp.LpProblem('ClassAssignmentProblem', pulp.LpMaximize)"
   ]
  },
  {
   "cell_type": "code",
   "execution_count": 15,
   "metadata": {},
   "outputs": [
    {
     "name": "stdout",
     "output_type": "stream",
     "text": [
      "[1, 2, 3, 4, 5, 6, 7, 8, 9, 10, 11, 12, 13, 14, 15, 16, 17, 18, 19, 20, 21, 22, 23, 24, 25, 26, 27, 28, 29, 30, 31, 32, 33, 34, 35, 36, 37, 38, 39, 40, 41, 42, 43, 44, 45, 46, 47, 48, 49, 50, 51, 52, 53, 54, 55, 56, 57, 58, 59, 60, 61, 62, 63, 64, 65, 66, 67, 68, 69, 70, 71, 72, 73, 74, 75, 76, 77, 78, 79, 80, 81, 82, 83, 84, 85, 86, 87, 88, 89, 90, 91, 92, 93, 94, 95, 96, 97, 98, 99, 100, 101, 102, 103, 104, 105, 106, 107, 108, 109, 110, 111, 112, 113, 114, 115, 116, 117, 118, 119, 120, 121, 122, 123, 124, 125, 126, 127, 128, 129, 130, 131, 132, 133, 134, 135, 136, 137, 138, 139, 140, 141, 142, 143, 144, 145, 146, 147, 148, 149, 150, 151, 152, 153, 154, 155, 156, 157, 158, 159, 160, 161, 162, 163, 164, 165, 166, 167, 168, 169, 170, 171, 172, 173, 174, 175, 176, 177, 178, 179, 180, 181, 182, 183, 184, 185, 186, 187, 188, 189, 190, 191, 192, 193, 194, 195, 196, 197, 198, 199, 200, 201, 202, 203, 204, 205, 206, 207, 208, 209, 210, 211, 212, 213, 214, 215, 216, 217, 218, 219, 220, 221, 222, 223, 224, 225, 226, 227, 228, 229, 230, 231, 232, 233, 234, 235, 236, 237, 238, 239, 240, 241, 242, 243, 244, 245, 246, 247, 248, 249, 250, 251, 252, 253, 254, 255, 256, 257, 258, 259, 260, 261, 262, 263, 264, 265, 266, 267, 268, 269, 270, 271, 272, 273, 274, 275, 276, 277, 278, 279, 280, 281, 282, 283, 284, 285, 286, 287, 288, 289, 290, 291, 292, 293, 294, 295, 296, 297, 298, 299, 300, 301, 302, 303, 304, 305, 306, 307, 308, 309, 310, 311, 312, 313, 314, 315, 316, 317, 318]\n"
     ]
    }
   ],
   "source": [
    "# 生徒のリスト\n",
    "S = s_df['student_id'].tolist()\n",
    "print(S)"
   ]
  },
  {
   "cell_type": "code",
   "execution_count": 16,
   "metadata": {},
   "outputs": [
    {
     "data": {
      "text/plain": [
       "['A', 'B', 'C', 'D', 'E', 'F', 'G', 'H']"
      ]
     },
     "execution_count": 16,
     "metadata": {},
     "output_type": "execute_result"
    }
   ],
   "source": [
    "# クラスのリスト\n",
    "C = ['A', 'B', 'C', 'D', 'E', 'F', 'G', 'H']\n",
    "C"
   ]
  },
  {
   "cell_type": "code",
   "execution_count": 17,
   "metadata": {},
   "outputs": [
    {
     "name": "stdout",
     "output_type": "stream",
     "text": [
      "[(1, 'A'), (1, 'B'), (1, 'C'), (1, 'D'), (1, 'E'), (1, 'F'), (1, 'G'), (1, 'H'), (2, 'A'), (2, 'B'), (2, 'C'), (2, 'D'), (2, 'E'), (2, 'F'), (2, 'G'), (2, 'H'), (3, 'A'), (3, 'B'), (3, 'C'), (3, 'D'), (3, 'E'), (3, 'F'), (3, 'G'), (3, 'H'), (4, 'A'), (4, 'B'), (4, 'C'), (4, 'D'), (4, 'E'), (4, 'F')]\n"
     ]
    }
   ],
   "source": [
    "# 生徒とクラスのペアのリスト\n",
    "SC = [(s,c) for s in S for c in C]\n",
    "print(SC[:30])"
   ]
  },
  {
   "cell_type": "code",
   "execution_count": 18,
   "metadata": {},
   "outputs": [],
   "source": [
    "# 生徒をどのクラスに割り当てるかを変数として定義\n",
    "x = {sc:prob.add_var(var_type='B') for sc in SC}\n",
    "#x = pulp.LpVariable.dicts('x', SC, cat='Binary')"
   ]
  },
  {
   "cell_type": "code",
   "execution_count": 19,
   "metadata": {},
   "outputs": [],
   "source": [
    "# (1)各生徒は１つのクラスに割り当てる\n",
    "for s in S:\n",
    "    prob += mip.xsum([x[s,c] for c in C]) == 1\n",
    "    #prob += pulp.lpSum([x[s,c] for c in C]) == 1"
   ]
  },
  {
   "cell_type": "code",
   "execution_count": 20,
   "metadata": {},
   "outputs": [],
   "source": [
    "# (2)各クラスの生徒の人数は39人以上、40人以下とする。\n",
    "for c in C:\n",
    "    prob += mip.xsum([x[s,c] for s in S]) >= 39\n",
    "    prob += mip.xsum([x[s,c] for s in S]) <= 40\n",
    "    #prob += pulp.lpSum([x[s,c] for s in S]) >= 39\n",
    "    #prob += pulp.lpSum([x[s,c] for s in S]) <= 40"
   ]
  },
  {
   "cell_type": "code",
   "execution_count": 21,
   "metadata": {},
   "outputs": [],
   "source": [
    "# 男子生徒のリスト\n",
    "S_male = [row.student_id for row in s_df.itertuples() if row.gender == 1]\n",
    "\n",
    "# 女子生徒のリスト\n",
    "S_female = [row.student_id for row in s_df.itertuples() if row.gender == 0]\n",
    "\n",
    "# (3) 各クラスの男子生徒、女子生徒の人数は20人以下とする。\n",
    "for c in C:\n",
    "    prob += mip.xsum([x[s,c] for s in S_male]) <= 20\n",
    "    prob += mip.xsum([x[s,c] for s in S_female]) <= 20\n",
    "    #prob += pulp.lpSum([x[s,c] for s in S_male]) <= 20\n",
    "    #prob += pulp.lpSum([x[s,c] for s in S_female]) <= 20"
   ]
  },
  {
   "cell_type": "code",
   "execution_count": 22,
   "metadata": {},
   "outputs": [
    {
     "name": "stdout",
     "output_type": "stream",
     "text": [
      "303.6446540880503\n"
     ]
    }
   ],
   "source": [
    "# 学力を辞書表現に変換\n",
    "score = {row.student_id:row.score for row in s_df.itertuples()}\n",
    "\n",
    "# 平均点の算出\n",
    "score_mean = s_df['score'].mean()\n",
    "print(score_mean)\n",
    "    \n",
    "# (4) 各クラスの学力試験の平均点は学年平均点±10点とする。    \n",
    "for c in C:\n",
    "    prob += (score_mean - 10) * mip.xsum([x[s,c] for s in S]) <= mip.xsum([x[s,c] * score[s] for s in S]) \n",
    "    prob += mip.xsum([x[s,c] * score[s] for s in S]) <= (score_mean + 10) * mip.xsum([x[s,c] for s in S])\n",
    "    #prob += (score_mean - 10) * pulp.lpSum([x[s,c] for s in S]) <= pulp.lpSum([x[s,c] * score[s] for s in S]) \n",
    "    #prob += pulp.lpSum([x[s,c] * score[s] for s in S]) <= (score_mean + 10) * pulp.lpSum([x[s,c] for s in S])"
   ]
  },
  {
   "cell_type": "code",
   "execution_count": 23,
   "metadata": {},
   "outputs": [],
   "source": [
    "# リーダー気質の生徒の集合\n",
    "S_leader = [row.student_id for row in s_df.itertuples() if row.leader_flag == 1]\n",
    "\n",
    "# (5)各クラスにリーダー気質の生徒を2人以上割り当てる。\n",
    "for c in C:\n",
    "    prob += mip.xsum([x[s,c] for s in S_leader]) >= 2\n",
    "    #prob += pulp.lpSum([x[s,c] for s in S_leader]) >= 2"
   ]
  },
  {
   "cell_type": "code",
   "execution_count": 24,
   "metadata": {},
   "outputs": [],
   "source": [
    "# 特別な支援が必要な生徒の集合\n",
    "S_support = [row.student_id for row in s_df.itertuples() if row.support_flag == 1]\n",
    "\n",
    "# (6) 特別な支援が必要な生徒は各クラスに1人以下とする。\n",
    "for c in C:\n",
    "    prob += mip.xsum([x[s,c] for s in S_support]) <= 1\n",
    "    #prob += pulp.lpSum([x[s,c] for s in S_support]) <= 1"
   ]
  },
  {
   "cell_type": "code",
   "execution_count": 25,
   "metadata": {},
   "outputs": [],
   "source": [
    "# 生徒の特定ペアリスト\n",
    "SS = [(row.student_id1, row.student_id2) for row in s_pair_df.itertuples()]\n",
    "\n",
    "# (7) 特定ペアの生徒は同一クラスに割り当てない。\n",
    "for s1, s2 in SS:\n",
    "    for c in C:\n",
    "        prob += x[s1,c] + x[s2,c] <= 1"
   ]
  },
  {
   "cell_type": "code",
   "execution_count": 26,
   "metadata": {},
   "outputs": [
    {
     "name": "stdout",
     "output_type": "stream",
     "text": [
      "Welcome to the CBC MILP Solver \n",
      "Version: Trunk\n",
      "Build Date: Oct 28 2021 \n",
      "\n",
      "Starting solution of the Linear programming relaxation problem using Primal Simplex\n",
      "\n",
      "Coin0506I Presolve 406 (0) rows, 2544 (0) columns and 15480 (0) elements\n",
      "Clp1000I sum of infeasibilities 7.24112e-06 - average 1.78353e-08, 0 fixed columns\n",
      "Coin0506I Presolve 406 (0) rows, 2544 (0) columns and 15480 (0) elements\n",
      "Clp0029I End of values pass after 2544 iterations\n",
      "Clp0000I Optimal - objective value 0\n",
      "Clp0000I Optimal - objective value 0\n",
      "Clp0000I Optimal - objective value 0\n",
      "Clp0032I Optimal objective 0 - 0 iterations time 0.182, Idiot 0.17\n",
      "\n",
      "Starting MIP optimization\n",
      "OptimizationStatus.OPTIMAL\n"
     ]
    }
   ],
   "source": [
    "# 求解\n",
    "prob.optimize()\n",
    "print(prob.status)\n",
    "#status = prob.solve()\n",
    "#print(status)\n",
    "#print(pulp.LpStatus[status])"
   ]
  },
  {
   "cell_type": "code",
   "execution_count": 27,
   "metadata": {},
   "outputs": [
    {
     "name": "stdout",
     "output_type": "stream",
     "text": [
      "Class: A\n",
      "Num: 40\n",
      "Student: [38, 45, 51, 64, 65, 72, 82, 104, 110, 113, 124, 132, 136, 154, 161, 163, 169, 174, 198, 203, 205, 209, 223, 231, 237, 248, 253, 254, 258, 264, 266, 282, 294, 299, 303, 309, 312, 316, 317, 318]\n",
      "\n",
      "Class: B\n",
      "Num: 40\n",
      "Student: [9, 19, 21, 24, 39, 46, 61, 66, 74, 79, 89, 99, 109, 122, 128, 137, 139, 142, 156, 164, 165, 173, 181, 192, 204, 212, 214, 221, 222, 228, 233, 240, 246, 252, 268, 275, 285, 293, 296, 306]\n",
      "\n",
      "Class: C\n",
      "Num: 39\n",
      "Student: [8, 10, 16, 27, 31, 47, 57, 67, 80, 83, 88, 90, 111, 116, 126, 129, 141, 145, 157, 158, 160, 172, 180, 185, 189, 199, 207, 211, 218, 227, 244, 249, 269, 283, 289, 292, 301, 307, 308]\n",
      "\n",
      "Class: D\n",
      "Num: 40\n",
      "Student: [2, 3, 5, 13, 18, 29, 35, 41, 54, 60, 70, 91, 93, 96, 100, 103, 120, 123, 131, 134, 140, 148, 159, 168, 182, 184, 195, 200, 210, 226, 229, 235, 262, 271, 280, 288, 298, 305, 311, 313]\n",
      "\n",
      "Class: E\n",
      "Num: 39\n",
      "Student: [7, 11, 14, 28, 30, 32, 40, 49, 50, 63, 71, 87, 106, 112, 117, 118, 121, 144, 151, 171, 177, 186, 187, 193, 196, 202, 213, 236, 239, 241, 261, 265, 267, 272, 273, 284, 291, 297, 310]\n",
      "\n",
      "Class: F\n",
      "Num: 40\n",
      "Student: [1, 15, 20, 23, 37, 42, 48, 53, 55, 68, 73, 76, 78, 85, 94, 95, 108, 125, 130, 146, 147, 152, 167, 170, 179, 190, 194, 216, 220, 225, 232, 238, 251, 256, 257, 260, 278, 279, 300, 302]\n",
      "\n",
      "Class: G\n",
      "Num: 40\n",
      "Student: [4, 12, 22, 33, 43, 52, 56, 62, 69, 77, 84, 97, 101, 105, 119, 127, 133, 138, 149, 150, 155, 175, 176, 183, 197, 201, 206, 208, 230, 234, 245, 247, 255, 274, 276, 277, 281, 290, 304, 314]\n",
      "\n",
      "Class: H\n",
      "Num: 40\n",
      "Student: [6, 17, 25, 26, 34, 36, 44, 58, 59, 75, 81, 86, 92, 98, 102, 107, 114, 115, 135, 143, 153, 162, 166, 178, 188, 191, 215, 217, 219, 224, 242, 243, 250, 259, 263, 270, 286, 287, 295, 315]\n",
      "\n"
     ]
    }
   ],
   "source": [
    "# 最適化結果の表示\n",
    "# 各クラスに割り当てられている生徒のリストを辞書に格納\n",
    "C2Ss = {}\n",
    "for c in C:\n",
    "    C2Ss[c] = [s for s in S if x[s,c].x==1]\n",
    "    #C2Ss[c] = [s for s in S if x[s,c].value()==1]\n",
    "            \n",
    "for c, Ss in C2Ss.items():\n",
    "    print('Class:', c)\n",
    "    print('Num:', len(Ss))\n",
    "    print('Student:', Ss)\n",
    "    print()"
   ]
  },
  {
   "cell_type": "code",
   "execution_count": 28,
   "metadata": {},
   "outputs": [
    {
     "name": "stdout",
     "output_type": "stream",
     "text": [
      "Cgl0005I 318 SOS with 2544 members\n",
      "Cgl0004I processed model has 398 rows, 2544 columns (2544 integer (2544 of which binary)) and 12936 elements\n",
      "Coin3009W Conflict graph built in 0.002 seconds, density: 0.089%\n",
      "Cgl0015I Clique Strengthening extended 0 cliques, 0 were dominated\n",
      "Cbc0038I Initial state - 24 integers unsatisfied sum - 3.2495\n",
      "Cbc0038I Pass   1: suminf.    0.03461 (4) obj. 0 iterations 175\n",
      "Cbc0038I Solution found of 0\n",
      "Cbc0038I Before mini branch and bound, 2534 integers at bound fixed and 0 continuous\n",
      "Cbc0038I Mini branch and bound did not improve solution (0.05 seconds)\n",
      "Cbc0038I After 0.05 seconds - Feasibility pump exiting with objective of 0 - took 0.02 seconds\n",
      "Cbc0012I Integer solution of 0 found by feasibility pump after 0 iterations and 0 nodes (0.05 seconds)\n",
      "Cbc0001I Search completed - best objective 0, took 0 iterations and 0 nodes (0.05 seconds)\n",
      "Cbc0035I Maximum depth 0, 0 variables fixed on reduced cost\n",
      "Total time (CPU seconds):       0.05   (Wallclock seconds):       0.06\n",
      "\n",
      "Starting solution of the Linear programming relaxation problem using Primal Simplex\n",
      "\n",
      "Coin0506I Presolve 406 (0) rows, 2544 (0) columns and 15480 (0) elements\n",
      "Clp1000I sum of infeasibilities 7.24112e-06 - average 1.78353e-08, 0 fixed columns\n",
      "Coin0506I Presolve 406 (0) rows, 2544 (0) columns and 15480 (0) elements\n",
      "Clp0006I 0  Obj 0\n",
      "Clp0029I End of values pass after 2544 iterations\n",
      "Clp0000I Optimal - objective value 0\n",
      "Clp0000I Optimal - objective value 0\n",
      "Clp0000I Optimal - objective value 0\n",
      "Clp0032I Optimal objective 0 - 0 iterations time 0.172, Idiot 0.17\n",
      "\n",
      "Starting MIP optimization\n",
      "Status: OptimizationStatus.OPTIMAL\n",
      "Class: A\n",
      "Num: 40\n",
      "Student: [38, 45, 51, 64, 65, 72, 82, 104, 110, 113, 124, 132, 136, 154, 161, 163, 169, 174, 198, 203, 205, 209, 223, 231, 237, 248, 253, 254, 258, 264, 266, 282, 294, 299, 303, 309, 312, 316, 317, 318]\n",
      "\n",
      "Class: B\n",
      "Num: 40\n",
      "Student: [9, 19, 21, 24, 39, 46, 61, 66, 74, 79, 89, 99, 109, 122, 128, 137, 139, 142, 156, 164, 165, 173, 181, 192, 204, 212, 214, 221, 222, 228, 233, 240, 246, 252, 268, 275, 285, 293, 296, 306]\n",
      "\n",
      "Class: C\n",
      "Num: 39\n",
      "Student: [8, 10, 16, 27, 31, 47, 57, 67, 80, 83, 88, 90, 111, 116, 126, 129, 141, 145, 157, 158, 160, 172, 180, 185, 189, 199, 207, 211, 218, 227, 244, 249, 269, 283, 289, 292, 301, 307, 308]\n",
      "\n",
      "Class: D\n",
      "Num: 40\n",
      "Student: [2, 3, 5, 13, 18, 29, 35, 41, 54, 60, 70, 91, 93, 96, 100, 103, 120, 123, 131, 134, 140, 148, 159, 168, 182, 184, 195, 200, 210, 226, 229, 235, 262, 271, 280, 288, 298, 305, 311, 313]\n",
      "\n",
      "Class: E\n",
      "Num: 39\n",
      "Student: [7, 11, 14, 28, 30, 32, 40, 49, 50, 63, 71, 87, 106, 112, 117, 118, 121, 144, 151, 171, 177, 186, 187, 193, 196, 202, 213, 236, 239, 241, 261, 265, 267, 272, 273, 284, 291, 297, 310]\n",
      "\n",
      "Class: F\n",
      "Num: 40\n",
      "Student: [1, 15, 20, 23, 37, 42, 48, 53, 55, 68, 73, 76, 78, 85, 94, 95, 108, 125, 130, 146, 147, 152, 167, 170, 179, 190, 194, 216, 220, 225, 232, 238, 251, 256, 257, 260, 278, 279, 300, 302]\n",
      "\n",
      "Class: G\n",
      "Num: 40\n",
      "Student: [4, 12, 22, 33, 43, 52, 56, 62, 69, 77, 84, 97, 101, 105, 119, 127, 133, 138, 149, 150, 155, 175, 176, 183, 197, 201, 206, 208, 230, 234, 245, 247, 255, 274, 276, 277, 281, 290, 304, 314]\n",
      "\n",
      "Class: H\n",
      "Num: 40\n",
      "Student: [6, 17, 25, 26, 34, 36, 44, 58, 59, 75, 81, 86, 92, 98, 102, 107, 114, 115, 135, 143, 153, 162, 166, 178, 188, 191, 215, 217, 219, 224, 242, 243, 250, 259, 263, 270, 286, 287, 295, 315]\n",
      "\n"
     ]
    }
   ],
   "source": [
    "import pandas as pd\n",
    "import mip\n",
    "\n",
    "s_df = pd.read_csv('students.csv')\n",
    "s_pair_df = pd.read_csv('student_pairs.csv')\n",
    "\n",
    "prob = mip.Model()\n",
    "\n",
    "# 生徒のリスト\n",
    "S = s_df['student_id'].tolist()\n",
    "\n",
    "# クラスのリスト\n",
    "C = ['A', 'B', 'C', 'D', 'E', 'F', 'G', 'H']\n",
    "\n",
    "# 生徒とクラスのペアのリスト\n",
    "SC = [(s,c) for s in S for c in C]\n",
    "\n",
    "# 生徒をどのクラスに割り当てるを変数として定義\n",
    "x = {sc:prob.add_var(var_type='B') for sc in SC}\n",
    "\n",
    "# (1)各生徒は１つのクラスに割り当てる\n",
    "for s in S:\n",
    "    prob += mip.xsum([x[s,c] for c in C]) == 1\n",
    "\n",
    "# (2)各クラスの生徒の人数は39人以上、40人以下とする。\n",
    "for c in C:\n",
    "    prob += mip.xsum([x[s,c] for s in S]) >= 39\n",
    "    prob += mip.xsum([x[s,c] for s in S]) <= 40\n",
    "\n",
    "# 男子生徒のリスト\n",
    "S_male = [row.student_id for row in s_df.itertuples() if row.gender == 1]\n",
    "\n",
    "# 女子生徒のリスト\n",
    "S_female = [row.student_id for row in s_df.itertuples() if row.gender == 0]\n",
    "\n",
    "# (3) 各クラスの男子生徒、女子生徒の人数は20人以下とする。\n",
    "for c in C:\n",
    "    prob += mip.xsum([x[s,c] for s in S_male]) <= 20\n",
    "    prob += mip.xsum([x[s,c] for s in S_female]) <= 20\n",
    "\n",
    "# 学力を辞書表現に変換\n",
    "score = {row.student_id:row.score for row in s_df.itertuples()}\n",
    "\n",
    "# 平均点の算出\n",
    "score_mean = s_df.score.mean()\n",
    "\n",
    "# (4) 各クラスの学力試験の平均点は学年平均点±10点とする。\n",
    "for c in C:\n",
    "    prob += mip.xsum([x[s,c]*score[s] for s in S]) >= (score_mean - 10) * mip.xsum([x[s,c] for s in S])\n",
    "    prob += mip.xsum([x[s,c]*score[s] for s in S]) <= (score_mean + 10) * mip.xsum([x[s,c] for s in S])\n",
    "\n",
    "# リーダー気質の生徒の集合\n",
    "S_leader = [row.student_id for row in s_df.itertuples() if row.leader_flag == 1]\n",
    "\n",
    "# (5)各クラスにリーダー気質の生徒を2人以上割り当てる。\n",
    "for c in C:\n",
    "    prob += mip.xsum([x[s,c] for s in S_leader]) >= 2\n",
    "\n",
    "# 特別な支援が必要な生徒の集合\n",
    "S_support = [row.student_id for row in s_df.itertuples() if row.support_flag == 1]\n",
    "\n",
    "# (6) 特別な支援が必要な生徒は各クラスに1人以下とする。\n",
    "for c in C:\n",
    "    prob += mip.xsum([x[s,c] for s in S_support]) <= 1\n",
    "\n",
    "    # 生徒の特定ペアリスト\n",
    "SS = [(row.student_id1, row.student_id2) for row in s_pair_df.itertuples()]\n",
    "\n",
    "# (7) 特定ペアの生徒は同一クラスに割り当てない。\n",
    "for row in s_pair_df.itertuples():\n",
    "    s1 = row.student_id1\n",
    "    s2 = row.student_id2\n",
    "    for c in C:\n",
    "        prob += x[s1,c] + x[s2,c] <= 1\n",
    "\n",
    "# 求解\n",
    "prob.optimize()\n",
    "print('Status:', prob.status)\n",
    "\n",
    "# 最適化結果の表示\n",
    "# 各クラスに割り当てられている生徒のリストを辞書に格納\n",
    "C2Ss = {}\n",
    "for c in C:\n",
    "    C2Ss[c] = [s for s in S if x[s,c].x==1]\n",
    "\n",
    "for c, Ss in C2Ss.items():\n",
    "    print('Class:', c)\n",
    "    print('Num:', len(Ss))\n",
    "    print('Student:', Ss)\n",
    "    print()\n",
    "    \n",
    "#####    \n",
    "#import pandas as pd\n",
    "#import pulp\n",
    "#\n",
    "#s_df = pd.read_csv('students.csv')\n",
    "#s_pair_df = pd.read_csv('student_pairs.csv')\n",
    "#\n",
    "#prob = pulp.LpProblem('ClassAssignmentProblem', pulp.LpMaximize)\n",
    "#\n",
    "## 生徒のリスト\n",
    "#S = s_df['student_id'].tolist()\n",
    "#\n",
    "## クラスのリスト\n",
    "#C = ['A', 'B', 'C', 'D', 'E', 'F', 'G', 'H']\n",
    "#\n",
    "## 生徒とクラスのペアのリスト\n",
    "#SC = [(s,c) for s in S for c in C]\n",
    "#\n",
    "## 生徒をどのクラスに割り当てるを変数として定義\n",
    "#x = pulp.LpVariable.dicts('x', SC, cat='Binary')\n",
    "#\n",
    "## (1)各生徒は１つのクラスに割り当てる\n",
    "#for s in S:\n",
    "#    prob += pulp.lpSum([x[s,c] for c in C]) == 1\n",
    "#\n",
    "## (2)各クラスの生徒の人数は39人以上、40人以下とする。\n",
    "#for c in C:\n",
    "#    prob += pulp.lpSum([x[s,c] for s in S]) >= 39\n",
    "#    prob += pulp.lpSum([x[s,c] for s in S]) <= 40\n",
    "#\n",
    "## 男子生徒のリスト\n",
    "#S_male = [row.student_id for row in s_df.itertuples() if row.gender == 1]\n",
    "#\n",
    "## 女子生徒のリスト\n",
    "#S_female = [row.student_id for row in s_df.itertuples() if row.gender == 0]\n",
    "#\n",
    "## (3) 各クラスの男子生徒、女子生徒の人数は20人以下とする。\n",
    "#for c in C:\n",
    "#    prob += pulp.lpSum([x[s,c] for s in S_male]) <= 20\n",
    "#    prob += pulp.lpSum([x[s,c] for s in S_female]) <= 20\n",
    "#\n",
    "## 学力を辞書表現に変換\n",
    "#score = {row.student_id:row.score for row in s_df.itertuples()}\n",
    "#\n",
    "## 平均点の算出\n",
    "#score_mean = s_df.score.mean()\n",
    "#\n",
    "## (4) 各クラスの学力試験の平均点は学年平均点±10点とする。\n",
    "#for c in C:\n",
    "#    prob += pulp.lpSum([x[s,c]*score[s] for s in S]) >= (score_mean - 10) * pulp.lpSum([x[s,c] for s in S])\n",
    "#    prob += pulp.lpSum([x[s,c]*score[s] for s in S]) <= (score_mean + 10) * pulp.lpSum([x[s,c] for s in S])\n",
    "#\n",
    "## リーダー気質の生徒の集合\n",
    "#S_leader = [row.student_id for row in s_df.itertuples() if row.leader_flag == 1]\n",
    "#\n",
    "## (5)各クラスにリーダー気質の生徒を2人以上割り当てる。\n",
    "#for c in C:\n",
    "#    prob += pulp.lpSum([x[s,c] for s in S_leader]) >= 2\n",
    "#\n",
    "## 特別な支援が必要な生徒の集合\n",
    "#S_support = [row.student_id for row in s_df.itertuples() if row.support_flag == 1]\n",
    "#\n",
    "## (6) 特別な支援が必要な生徒は各クラスに1人以下とする。\n",
    "#for c in C:\n",
    "#    prob += pulp.lpSum([x[s,c] for s in S_support]) <= 1\n",
    "#\n",
    "#    # 生徒の特定ペアリスト\n",
    "#SS = [(row.student_id1, row.student_id2) for row in s_pair_df.itertuples()]\n",
    "#\n",
    "## (7) 特定ペアの生徒は同一クラスに割り当てない。\n",
    "#for row in s_pair_df.itertuples():\n",
    "#    s1 = row.student_id1\n",
    "#    s2 = row.student_id2\n",
    "#    for c in C:\n",
    "#        prob += x[s1,c] + x[s2,c] <= 1\n",
    "#\n",
    "## 求解\n",
    "#status = prob.solve()\n",
    "#print('Status:', pulp.LpStatus[status])\n",
    "#\n",
    "## 最適化結果の表示\n",
    "## 各クラスに割り当てられている生徒のリストを辞書に格納\n",
    "#C2Ss = {}\n",
    "#for c in C:\n",
    "#    C2Ss[c] = [s for s in S if x[s,c].value()==1]\n",
    "#\n",
    "#for c, Ss in C2Ss.items():\n",
    "#    print('Class:', c)\n",
    "#    print('Num:', len(Ss))\n",
    "#    print('Student:', Ss)\n",
    "#    print()"
   ]
  },
  {
   "cell_type": "markdown",
   "metadata": {},
   "source": [
    "### 3.4 **数理モデルの検証**"
   ]
  },
  {
   "cell_type": "markdown",
   "metadata": {},
   "source": [
    "### ①解が要件を満たしているかどうか確認する"
   ]
  },
  {
   "cell_type": "markdown",
   "metadata": {},
   "source": [
    "要件(1) 学年の全生徒をそれぞれ①つのクラスに割り当てる"
   ]
  },
  {
   "cell_type": "code",
   "execution_count": 29,
   "metadata": {},
   "outputs": [],
   "source": [
    "for s in S:\n",
    "    # 割り当てられたクラスを取得\n",
    "    assigned_class = [c for c in C if x[s,c].x==1]\n",
    "    #assigned_class = [c for c in C if x[s,c].value()==1]\n",
    "\n",
    "    # 1つのクラスに割り当てられているか確認\n",
    "    if len(assigned_class) != 1:\n",
    "        print('error:', s, assigned_class)"
   ]
  },
  {
   "cell_type": "markdown",
   "metadata": {},
   "source": [
    "検証用データフレームの作成"
   ]
  },
  {
   "cell_type": "code",
   "execution_count": 30,
   "metadata": {},
   "outputs": [
    {
     "data": {
      "text/html": [
       "<div>\n",
       "<style scoped>\n",
       "    .dataframe tbody tr th:only-of-type {\n",
       "        vertical-align: middle;\n",
       "    }\n",
       "\n",
       "    .dataframe tbody tr th {\n",
       "        vertical-align: top;\n",
       "    }\n",
       "\n",
       "    .dataframe thead th {\n",
       "        text-align: right;\n",
       "    }\n",
       "</style>\n",
       "<table border=\"1\" class=\"dataframe\">\n",
       "  <thead>\n",
       "    <tr style=\"text-align: right;\">\n",
       "      <th></th>\n",
       "      <th>student_id</th>\n",
       "      <th>gender</th>\n",
       "      <th>leader_flag</th>\n",
       "      <th>support_flag</th>\n",
       "      <th>score</th>\n",
       "      <th>assigned_class</th>\n",
       "    </tr>\n",
       "  </thead>\n",
       "  <tbody>\n",
       "    <tr>\n",
       "      <th>0</th>\n",
       "      <td>1</td>\n",
       "      <td>0</td>\n",
       "      <td>0</td>\n",
       "      <td>0</td>\n",
       "      <td>335</td>\n",
       "      <td>F</td>\n",
       "    </tr>\n",
       "    <tr>\n",
       "      <th>1</th>\n",
       "      <td>2</td>\n",
       "      <td>1</td>\n",
       "      <td>0</td>\n",
       "      <td>0</td>\n",
       "      <td>379</td>\n",
       "      <td>D</td>\n",
       "    </tr>\n",
       "    <tr>\n",
       "      <th>2</th>\n",
       "      <td>3</td>\n",
       "      <td>0</td>\n",
       "      <td>0</td>\n",
       "      <td>0</td>\n",
       "      <td>350</td>\n",
       "      <td>D</td>\n",
       "    </tr>\n",
       "    <tr>\n",
       "      <th>3</th>\n",
       "      <td>4</td>\n",
       "      <td>0</td>\n",
       "      <td>0</td>\n",
       "      <td>0</td>\n",
       "      <td>301</td>\n",
       "      <td>G</td>\n",
       "    </tr>\n",
       "    <tr>\n",
       "      <th>4</th>\n",
       "      <td>5</td>\n",
       "      <td>1</td>\n",
       "      <td>0</td>\n",
       "      <td>0</td>\n",
       "      <td>317</td>\n",
       "      <td>D</td>\n",
       "    </tr>\n",
       "  </tbody>\n",
       "</table>\n",
       "</div>"
      ],
      "text/plain": [
       "   student_id  gender  leader_flag  support_flag  score assigned_class\n",
       "0           1       0            0             0    335              F\n",
       "1           2       1            0             0    379              D\n",
       "2           3       0            0             0    350              D\n",
       "3           4       0            0             0    301              G\n",
       "4           5       1            0             0    317              D"
      ]
     },
     "execution_count": 30,
     "metadata": {},
     "output_type": "execute_result"
    }
   ],
   "source": [
    "# 検証用のデータフレームの用意\n",
    "result_df = s_df.copy()\n",
    "\n",
    "# 各生徒がどのクラスに割り当てられたかの情報を辞書に格納\n",
    "S2C = {s:c for s in S for c in C if x[s,c].x==1}\n",
    "#S2C = {s:c for s in S for c in C if x[s,c].value()==1}\n",
    "\n",
    "# 生徒データに各生徒がどのクラスに割り当てられたかの情報を結合            \n",
    "result_df['assigned_class'] = result_df['student_id'].map(S2C)\n",
    "result_df.head(5)"
   ]
  },
  {
   "cell_type": "markdown",
   "metadata": {},
   "source": [
    "要件(2) 各クラスの生徒の人数は39人以上、40人以下とする"
   ]
  },
  {
   "cell_type": "code",
   "execution_count": 31,
   "metadata": {},
   "outputs": [
    {
     "data": {
      "text/plain": [
       "assigned_class\n",
       "A    40\n",
       "B    40\n",
       "C    39\n",
       "D    40\n",
       "E    39\n",
       "F    40\n",
       "G    40\n",
       "H    40\n",
       "Name: student_id, dtype: int64"
      ]
     },
     "execution_count": 31,
     "metadata": {},
     "output_type": "execute_result"
    }
   ],
   "source": [
    "result_df.groupby('assigned_class')['student_id'].count()"
   ]
  },
  {
   "cell_type": "markdown",
   "metadata": {},
   "source": [
    "(3) 各クラスの男子生徒、女子生徒の人数は20人以下とする。"
   ]
  },
  {
   "cell_type": "code",
   "execution_count": 32,
   "metadata": {},
   "outputs": [
    {
     "data": {
      "text/plain": [
       "assigned_class  gender\n",
       "A               0         20\n",
       "                1         20\n",
       "B               0         20\n",
       "                1         20\n",
       "C               0         20\n",
       "                1         19\n",
       "D               0         20\n",
       "                1         20\n",
       "E               0         20\n",
       "                1         19\n",
       "F               0         20\n",
       "                1         20\n",
       "G               0         20\n",
       "                1         20\n",
       "H               0         20\n",
       "                1         20\n",
       "Name: student_id, dtype: int64"
      ]
     },
     "execution_count": 32,
     "metadata": {},
     "output_type": "execute_result"
    }
   ],
   "source": [
    "result_df.groupby(['assigned_class', 'gender'])['student_id'].count()"
   ]
  },
  {
   "cell_type": "markdown",
   "metadata": {},
   "source": [
    "(4) 各クラスの学力試験の平均点は学年平均点±10点とする。"
   ]
  },
  {
   "cell_type": "code",
   "execution_count": 33,
   "metadata": {},
   "outputs": [
    {
     "data": {
      "text/plain": [
       "assigned_class\n",
       "A    301.625000\n",
       "B    312.550000\n",
       "C    294.923077\n",
       "D    299.725000\n",
       "E    295.000000\n",
       "F    313.000000\n",
       "G    298.350000\n",
       "H    313.550000\n",
       "Name: score, dtype: float64"
      ]
     },
     "execution_count": 33,
     "metadata": {},
     "output_type": "execute_result"
    }
   ],
   "source": [
    "result_df.groupby('assigned_class')['score'].mean()"
   ]
  },
  {
   "cell_type": "markdown",
   "metadata": {},
   "source": [
    "(5) 各クラスにリーダー気質の生徒を2人以上割り当てる。"
   ]
  },
  {
   "cell_type": "code",
   "execution_count": 34,
   "metadata": {},
   "outputs": [
    {
     "data": {
      "text/plain": [
       "assigned_class\n",
       "A    2\n",
       "B    2\n",
       "C    2\n",
       "D    2\n",
       "E    3\n",
       "F    2\n",
       "G    2\n",
       "H    2\n",
       "Name: leader_flag, dtype: int64"
      ]
     },
     "execution_count": 34,
     "metadata": {},
     "output_type": "execute_result"
    }
   ],
   "source": [
    "result_df.groupby(['assigned_class'])['leader_flag'].sum()"
   ]
  },
  {
   "cell_type": "markdown",
   "metadata": {},
   "source": [
    "(6) 特別な支援が必要な生徒は各クラスに1人以下とする。"
   ]
  },
  {
   "cell_type": "code",
   "execution_count": 35,
   "metadata": {},
   "outputs": [
    {
     "data": {
      "text/plain": [
       "assigned_class\n",
       "A    0\n",
       "B    0\n",
       "C    1\n",
       "D    1\n",
       "E    0\n",
       "F    1\n",
       "G    0\n",
       "H    1\n",
       "Name: support_flag, dtype: int64"
      ]
     },
     "execution_count": 35,
     "metadata": {},
     "output_type": "execute_result"
    }
   ],
   "source": [
    "result_df.groupby(['assigned_class'])['support_flag'].sum()"
   ]
  },
  {
   "cell_type": "markdown",
   "metadata": {},
   "source": [
    "(7) 特定ペアの生徒は同一クラスに割り当てない。"
   ]
  },
  {
   "cell_type": "code",
   "execution_count": 36,
   "metadata": {},
   "outputs": [
    {
     "name": "stdout",
     "output_type": "stream",
     "text": [
      "case: 0\n",
      "s1:118-E\n",
      "s2:189-C\n",
      "\n",
      "case: 1\n",
      "s1:72-A\n",
      "s2:50-E\n",
      "\n",
      "case: 2\n",
      "s1:314-G\n",
      "s2:233-B\n",
      "\n"
     ]
    }
   ],
   "source": [
    "for i, (s1, s2) in enumerate(SS):\n",
    "    print('case:',i)\n",
    "    c1 = S2C[s1]\n",
    "    c2 = S2C[s2]\n",
    "    print('s1:{}-{}'.format(s1, c1))\n",
    "    print('s2:{}-{}'.format(s2, c2))\n",
    "    print('')"
   ]
  },
  {
   "cell_type": "markdown",
   "metadata": {},
   "source": [
    "### ②設定した制約の見直しと課題の洗い出し"
   ]
  },
  {
   "cell_type": "code",
   "execution_count": 37,
   "metadata": {},
   "outputs": [],
   "source": [
    "# データの可視化ライブラリmatplotlibの取り込み\n",
    "import matplotlib.pyplot as plt"
   ]
  },
  {
   "cell_type": "code",
   "execution_count": 38,
   "metadata": {},
   "outputs": [
    {
     "data": {
      "image/png": "[encoded data removed]",
      "text/plain": [
       "<Figure size 864x1440 with 8 Axes>"
      ]
     },
     "metadata": {
      "needs_background": "light"
     },
     "output_type": "display_data"
    }
   ],
   "source": [
    "fig = plt.figure(figsize=(12,20))\n",
    "for i, c in enumerate(C):\n",
    "    cls_df = result_df[result_df['assigned_class']==c]\n",
    "    ax = fig.add_subplot(4\n",
    "                         , 2\n",
    "                         , i+1\n",
    "                         , xlabel='score'\n",
    "                         , ylabel='num'\n",
    "                         , xlim=(0, 500)\n",
    "                         , ylim=(0, 20)\n",
    "                         , title='Class:{:s}'.format(c)\n",
    "                        )\n",
    "    ax.hist(cls_df['score'], bins=range(0,500,40))"
   ]
  },
  {
   "cell_type": "markdown",
   "metadata": {},
   "source": [
    "### ③制約の改善と数理最適化モデルの修正"
   ]
  },
  {
   "cell_type": "code",
   "execution_count": 39,
   "metadata": {},
   "outputs": [
    {
     "data": {
      "text/html": [
       "<div>\n",
       "<style scoped>\n",
       "    .dataframe tbody tr th:only-of-type {\n",
       "        vertical-align: middle;\n",
       "    }\n",
       "\n",
       "    .dataframe tbody tr th {\n",
       "        vertical-align: top;\n",
       "    }\n",
       "\n",
       "    .dataframe thead th {\n",
       "        text-align: right;\n",
       "    }\n",
       "</style>\n",
       "<table border=\"1\" class=\"dataframe\">\n",
       "  <thead>\n",
       "    <tr style=\"text-align: right;\">\n",
       "      <th></th>\n",
       "      <th>student_id</th>\n",
       "      <th>gender</th>\n",
       "      <th>leader_flag</th>\n",
       "      <th>support_flag</th>\n",
       "      <th>score</th>\n",
       "      <th>score_rank</th>\n",
       "      <th>init_assigned_class</th>\n",
       "    </tr>\n",
       "  </thead>\n",
       "  <tbody>\n",
       "    <tr>\n",
       "      <th>0</th>\n",
       "      <td>1</td>\n",
       "      <td>0</td>\n",
       "      <td>0</td>\n",
       "      <td>0</td>\n",
       "      <td>335</td>\n",
       "      <td>109.0</td>\n",
       "      <td>F</td>\n",
       "    </tr>\n",
       "    <tr>\n",
       "      <th>1</th>\n",
       "      <td>2</td>\n",
       "      <td>1</td>\n",
       "      <td>0</td>\n",
       "      <td>0</td>\n",
       "      <td>379</td>\n",
       "      <td>38.0</td>\n",
       "      <td>G</td>\n",
       "    </tr>\n",
       "    <tr>\n",
       "      <th>2</th>\n",
       "      <td>3</td>\n",
       "      <td>0</td>\n",
       "      <td>0</td>\n",
       "      <td>0</td>\n",
       "      <td>350</td>\n",
       "      <td>79.0</td>\n",
       "      <td>H</td>\n",
       "    </tr>\n",
       "    <tr>\n",
       "      <th>3</th>\n",
       "      <td>4</td>\n",
       "      <td>0</td>\n",
       "      <td>0</td>\n",
       "      <td>0</td>\n",
       "      <td>301</td>\n",
       "      <td>172.0</td>\n",
       "      <td>E</td>\n",
       "    </tr>\n",
       "    <tr>\n",
       "      <th>4</th>\n",
       "      <td>5</td>\n",
       "      <td>1</td>\n",
       "      <td>0</td>\n",
       "      <td>0</td>\n",
       "      <td>317</td>\n",
       "      <td>147.0</td>\n",
       "      <td>D</td>\n",
       "    </tr>\n",
       "  </tbody>\n",
       "</table>\n",
       "</div>"
      ],
      "text/plain": [
       "   student_id  gender  leader_flag  support_flag  score  score_rank  \\\n",
       "0           1       0            0             0    335       109.0   \n",
       "1           2       1            0             0    379        38.0   \n",
       "2           3       0            0             0    350        79.0   \n",
       "3           4       0            0             0    301       172.0   \n",
       "4           5       1            0             0    317       147.0   \n",
       "\n",
       "  init_assigned_class  \n",
       "0                   F  \n",
       "1                   G  \n",
       "2                   H  \n",
       "3                   E  \n",
       "4                   D  "
      ]
     },
     "execution_count": 39,
     "metadata": {},
     "output_type": "execute_result"
    }
   ],
   "source": [
    "# 初期クラス編成のデータを作成\n",
    "# 学力をもとに順位を付与\n",
    "s_df['score_rank'] = s_df['score'].rank(ascending=False, method='first') \n",
    "\n",
    "# 学力順にクラス編成し、init_assigned_classカラムを作成\n",
    "class_dic = {0:'A', 1:'B', 2:'C', 3:'D', 4:'E', 5:'F', 6:'G', 7:'H'}\n",
    "s_df['init_assigned_class'] = s_df['score_rank'].map(lambda x:x % 8).map(class_dic)\n",
    "s_df.head()"
   ]
  },
  {
   "cell_type": "code",
   "execution_count": 40,
   "metadata": {},
   "outputs": [],
   "source": [
    "# init_flagを作成\n",
    "init_flag = {(s,c):0 for s in S for c in C}\n",
    "\n",
    "for row in s_df.itertuples():\n",
    "    init_flag[row.student_id, row.init_assigned_class] = 1"
   ]
  },
  {
   "cell_type": "code",
   "execution_count": 41,
   "metadata": {},
   "outputs": [
    {
     "data": {
      "image/png": "[encoded data removed]",
      "text/plain": [
       "<Figure size 864x1440 with 8 Axes>"
      ]
     },
     "metadata": {
      "needs_background": "light"
     },
     "output_type": "display_data"
    }
   ],
   "source": [
    "fig = plt.figure(figsize=(12,20))\n",
    "for i, c in enumerate(C):\n",
    "    cls_df = s_df[s_df['init_assigned_class']==c]\n",
    "    ax = fig.add_subplot(4\n",
    "                         , 2\n",
    "                         , i+1\n",
    "                         , xlabel='score'\n",
    "                         , ylabel='num'\n",
    "                         , xlim=(0, 500)\n",
    "                         , ylim=(0, 20)\n",
    "                         , title='Class:{:s}'.format(c)\n",
    "                        )\n",
    "    ax.hist(cls_df['score'], bins=range(0,500,40))"
   ]
  },
  {
   "cell_type": "raw",
   "metadata": {},
   "source": [
    "# 目的関数:初期クラス編成と最適化結果のクラス編成をできるだけ一致させる\n",
    "prob.objective = mip.maximize(mip.xsum([x[s,c] * init_flag[s,c] for s,c in SC]))\n",
    "#prob += pulp.lpSum([x[s,c] * init_flag[s,c] for s,c in SC])"
   ]
  },
  {
   "cell_type": "markdown",
   "metadata": {},
   "source": [
    "### コード全体"
   ]
  },
  {
   "cell_type": "code",
   "execution_count": 42,
   "metadata": {},
   "outputs": [
    {
     "name": "stdout",
     "output_type": "stream",
     "text": [
      "Cgl0005I 318 SOS with 2544 members\n",
      "Cgl0004I processed model has 398 rows, 2544 columns (2544 integer (2544 of which binary)) and 12936 elements\n",
      "Coin3009W Conflict graph built in 0.002 seconds, density: 0.089%\n",
      "Cgl0015I Clique Strengthening extended 0 cliques, 0 were dominated\n",
      "Cbc0038I Initial state - 24 integers unsatisfied sum - 3.2495\n",
      "Cbc0038I Pass   1: suminf.    0.03461 (4) obj. 0 iterations 175\n",
      "Cbc0038I Solution found of 0\n",
      "Cbc0038I Before mini branch and bound, 2534 integers at bound fixed and 0 continuous\n",
      "Cbc0038I Mini branch and bound did not improve solution (0.05 seconds)\n",
      "Cbc0038I After 0.05 seconds - Feasibility pump exiting with objective of 0 - took 0.02 seconds\n",
      "Cbc0012I Integer solution of 0 found by feasibility pump after 0 iterations and 0 nodes (0.05 seconds)\n",
      "Cbc0001I Search completed - best objective 0, took 0 iterations and 0 nodes (0.05 seconds)\n",
      "Cbc0035I Maximum depth 0, 0 variables fixed on reduced cost\n",
      "Total time (CPU seconds):       0.05   (Wallclock seconds):       0.06\n",
      "\n",
      "Starting solution of the Linear programming relaxation problem using Primal Simplex\n",
      "\n",
      "Coin0506I Presolve 406 (0) rows, 2544 (0) columns and 15480 (0) elements\n",
      "Clp1000I sum of infeasibilities 5.06422e-05 - average 1.24734e-07, 1120 fixed columns\n",
      "Coin0506I Presolve 369 (-37) rows, 1406 (-1138) columns and 8622 (-6858) elements\n",
      "Clp0006I 0  Obj 297.9856 Primal inf 1.7221703e-05 (13) Dual inf 6.7961825e+14 (611)\n",
      "Clp0029I End of values pass after 1404 iterations\n",
      "Clp0014I Perturbing problem by 0.001% of 1.6433274 - largest nonzero change 2.9969953e-05 ( 0.0025583034%) - largest zero change 2.982246e-05\n",
      "Clp0000I Optimal - objective value 298\n",
      "Clp0000I Optimal - objective value 298\n",
      "Coin0511I After Postsolve, objective 298, infeasibilities - dual 0 (0), primal 0 (0)\n",
      "Clp0006I 0  Obj 298\n",
      "Clp0000I Optimal - objective value 298\n",
      "Clp0000I Optimal - objective value 298\n",
      "Clp0000I Optimal - objective value 298\n",
      "Clp0032I Optimal objective 298 - 0 iterations time 0.132, Idiot 0.13\n",
      "\n",
      "Starting MIP optimization\n",
      "Status: OptimizationStatus.OPTIMAL\n",
      "Class: A\n",
      "Num: 39\n",
      "Student: [2, 5, 56, 68, 82, 89, 102, 106, 115, 117, 123, 124, 127, 140, 172, 173, 185, 186, 204, 210, 228, 255, 259, 273, 274, 277, 280, 285, 288, 289, 292, 295, 297, 298, 304, 308, 311, 313, 316]\n",
      "\n",
      "Class: B\n",
      "Num: 40\n",
      "Student: [17, 27, 30, 32, 35, 41, 49, 64, 66, 79, 83, 86, 96, 97, 114, 119, 122, 132, 134, 138, 141, 143, 149, 151, 158, 165, 178, 190, 198, 200, 209, 213, 216, 226, 237, 272, 296, 303, 306, 307]\n",
      "\n",
      "Class: C\n",
      "Num: 40\n",
      "Student: [21, 38, 44, 46, 51, 54, 62, 63, 73, 75, 76, 84, 85, 88, 99, 120, 142, 144, 150, 166, 183, 192, 193, 195, 201, 205, 207, 211, 212, 217, 221, 222, 243, 244, 263, 264, 287, 299, 309, 315]\n",
      "\n",
      "Class: D\n",
      "Num: 40\n",
      "Student: [11, 14, 23, 39, 47, 50, 61, 67, 74, 90, 92, 93, 100, 109, 116, 121, 131, 136, 147, 152, 155, 167, 169, 170, 176, 177, 196, 199, 218, 219, 227, 230, 231, 236, 239, 253, 257, 271, 294, 314]\n",
      "\n",
      "Class: E\n",
      "Num: 39\n",
      "Student: [8, 12, 13, 19, 22, 24, 43, 48, 55, 57, 59, 98, 104, 112, 125, 130, 133, 137, 139, 153, 180, 184, 189, 203, 214, 234, 235, 240, 241, 249, 251, 254, 256, 261, 266, 276, 283, 291, 302]\n",
      "\n",
      "Class: F\n",
      "Num: 40\n",
      "Student: [6, 16, 28, 29, 40, 42, 45, 58, 70, 77, 91, 118, 128, 129, 135, 145, 146, 148, 156, 161, 162, 163, 174, 181, 188, 194, 202, 224, 229, 238, 246, 258, 260, 262, 265, 286, 290, 300, 310, 312]\n",
      "\n",
      "Class: G\n",
      "Num: 40\n",
      "Student: [4, 7, 9, 10, 15, 18, 26, 31, 33, 36, 37, 52, 71, 78, 80, 94, 101, 110, 113, 126, 157, 159, 160, 175, 179, 182, 191, 197, 215, 242, 245, 247, 248, 252, 267, 268, 275, 282, 293, 305]\n",
      "\n",
      "Class: H\n",
      "Num: 40\n",
      "Student: [1, 3, 20, 25, 34, 53, 60, 65, 69, 72, 81, 87, 95, 103, 105, 107, 108, 111, 154, 164, 168, 171, 187, 206, 208, 220, 223, 225, 232, 233, 250, 269, 270, 278, 279, 281, 284, 301, 317, 318]\n",
      "\n"
     ]
    }
   ],
   "source": [
    "import pandas as pd\n",
    "import mip\n",
    "\n",
    "s_df = pd.read_csv('students.csv')\n",
    "s_pair_df = pd.read_csv('student_pairs.csv')\n",
    "\n",
    "prob = mip.Model()\n",
    "\n",
    "# 生徒のリスト\n",
    "S = s_df['student_id'].tolist()\n",
    "\n",
    "# クラスのリスト\n",
    "C = ['A', 'B', 'C', 'D', 'E', 'F', 'G', 'H']\n",
    "\n",
    "# 生徒とクラスのペアのリスト\n",
    "SC = [(s,c) for s in S for c in C]\n",
    "\n",
    "# 生徒をどのクラスに割り当てるを変数として定義\n",
    "x = {sc:prob.add_var(var_type='B') for sc in SC}\n",
    "\n",
    "# (1)各生徒は１つのクラスに割り当てる\n",
    "for s in S:\n",
    "    prob += mip.xsum([x[s,c] for c in C]) == 1\n",
    "\n",
    "# (2)各クラスの生徒の人数は39人以上、40人以下とする。\n",
    "for c in C:\n",
    "    prob += mip.xsum([x[s,c] for s in S]) >= 39\n",
    "    prob += mip.xsum([x[s,c] for s in S]) <= 40\n",
    "\n",
    "# 男子生徒のリスト\n",
    "S_male = [row.student_id for row in s_df.itertuples() if row.gender == 1]\n",
    "\n",
    "# 女子生徒のリスト\n",
    "S_female = [row.student_id for row in s_df.itertuples() if row.gender == 0]\n",
    "\n",
    "# (3) 各クラスの男子生徒、女子生徒の人数は20人以下とする。\n",
    "for c in C:\n",
    "    prob += mip.xsum([x[s,c] for s in S_male]) <= 20\n",
    "    prob += mip.xsum([x[s,c] for s in S_female]) <= 20\n",
    "\n",
    "# 学力を辞書表現に変換\n",
    "score = {row.student_id:row.score for row in s_df.itertuples()}\n",
    "\n",
    "# 平均点の算出\n",
    "score_mean = s_df.score.mean()\n",
    "\n",
    "# (4) 各クラスの学力試験の平均点は学年平均点±10点とする。\n",
    "for c in C:\n",
    "    prob += mip.xsum([x[s,c]*score[s] for s in S]) >= (score_mean - 10) * mip.xsum([x[s,c] for s in S])\n",
    "    prob += mip.xsum([x[s,c]*score[s] for s in S]) <= (score_mean + 10) * mip.xsum([x[s,c] for s in S])\n",
    "\n",
    "# リーダー気質の生徒の集合\n",
    "S_leader = [row.student_id for row in s_df.itertuples() if row.leader_flag == 1]\n",
    "\n",
    "# (5)各クラスにリーダー気質の生徒を2人以上割り当てる。\n",
    "for c in C:\n",
    "    prob += mip.xsum([x[s,c] for s in S_leader]) >= 2\n",
    "\n",
    "# 特別な支援が必要な生徒の集合\n",
    "S_support = [row.student_id for row in s_df.itertuples() if row.support_flag == 1]\n",
    "\n",
    "# (6) 特別な支援が必要な生徒は各クラスに1人以下とする。\n",
    "for c in C:\n",
    "    prob += mip.xsum([x[s,c] for s in S_support]) <= 1\n",
    "\n",
    "    # 生徒の特定ペアリスト\n",
    "SS = [(row.student_id1, row.student_id2) for row in s_pair_df.itertuples()]\n",
    "\n",
    "# (7) 特定ペアの生徒は同一クラスに割り当てない。\n",
    "for row in s_pair_df.itertuples():\n",
    "    s1 = row.student_id1\n",
    "    s2 = row.student_id2\n",
    "    for c in C:\n",
    "        prob += x[s1,c] + x[s2,c] <= 1\n",
    "\n",
    "# 初期クラス編成を作成\n",
    "s_df['score_rank'] = s_df['score'].rank(ascending=False, method='first')\n",
    "class_dic = {0:'A', 1:'B', 2:'C', 3:'D', 4:'E', 5:'F', 6:'G', 7:'H'}\n",
    "s_df['init_assigned_class'] = s_df['score_rank'].map(lambda x:x % 8).map(class_dic)\n",
    "init_flag = {(s,c): 0 for s in S for c in C}\n",
    "for row in s_df.itertuples():\n",
    "    init_flag[row.student_id, row.init_assigned_class] = 1\n",
    "    \n",
    "# 目的関数:初期クラス編成と最適化結果のクラス編成をできるだけ一致させる\n",
    "prob.objective = mip.maximize(mip.xsum([x[s,c] * init_flag[s,c] for s,c in SC]))\n",
    "        \n",
    "# 求解\n",
    "prob.optimize()\n",
    "print('Status:', prob.status)\n",
    "\n",
    "# 最適化結果の表示\n",
    "# 各クラスに割り当てられている生徒のリストを辞書に格納\n",
    "C2Ss = {}\n",
    "for c in C:\n",
    "    C2Ss[c] = [s for s in S if x[s,c].x==1]\n",
    "\n",
    "for c, Ss in C2Ss.items():\n",
    "    print('Class:', c)\n",
    "    print('Num:', len(Ss))\n",
    "    print('Student:', Ss)\n",
    "    print()\n",
    "    \n",
    "#####    \n",
    "#import pandas as pd\n",
    "#import pulp\n",
    "#\n",
    "#s_df = pd.read_csv('students.csv')\n",
    "#s_pair_df = pd.read_csv('student_pairs.csv')\n",
    "#\n",
    "#prob = pulp.LpProblem('ClassAssignmentProblem', pulp.LpMaximize)\n",
    "#\n",
    "## 生徒のリスト\n",
    "#S = s_df['student_id'].tolist()\n",
    "#\n",
    "## クラスのリスト\n",
    "#C = ['A', 'B', 'C', 'D', 'E', 'F', 'G', 'H']\n",
    "#\n",
    "## 生徒とクラスのペアのリスト\n",
    "#SC = [(s,c) for s in S for c in C]\n",
    "#\n",
    "## 生徒をどのクラスに割り当てるを変数として定義\n",
    "#x = pulp.LpVariable.dicts('x', SC, cat='Binary')\n",
    "#\n",
    "## (1)各生徒は１つのクラスに割り当てる\n",
    "#for s in S:\n",
    "#    prob += pulp.lpSum([x[s,c] for c in C]) == 1\n",
    "#\n",
    "## (2)各クラスの生徒の人数は39人以上、40人以下とする。\n",
    "#for c in C:\n",
    "#    prob += pulp.lpSum([x[s,c] for s in S]) >= 39\n",
    "#    prob += pulp.lpSum([x[s,c] for s in S]) <= 40\n",
    "#\n",
    "## 男子生徒のリスト\n",
    "#S_male = [row.student_id for row in s_df.itertuples() if row.gender == 1]\n",
    "#\n",
    "## 女子生徒のリスト\n",
    "#S_female = [row.student_id for row in s_df.itertuples() if row.gender == 0]\n",
    "#\n",
    "## (3) 各クラスの男子生徒、女子生徒の人数は20人以下とする。\n",
    "#for c in C:\n",
    "#    prob += pulp.lpSum([x[s,c] for s in S_male]) <= 20\n",
    "#    prob += pulp.lpSum([x[s,c] for s in S_female]) <= 20\n",
    "#\n",
    "## 学力を辞書表現に変換\n",
    "#score = {row.student_id:row.score for row in s_df.itertuples()}\n",
    "#\n",
    "## 平均点の算出\n",
    "#score_mean = s_df.score.mean()\n",
    "#\n",
    "## (4) 各クラスの学力試験の平均点は学年平均点±10点とする。\n",
    "#for c in C:\n",
    "#    prob += pulp.lpSum([x[s,c]*score[s] for s in S]) >= (score_mean - 10) * pulp.lpSum([x[s,c] for s in S])\n",
    "#    prob += pulp.lpSum([x[s,c]*score[s] for s in S]) <= (score_mean + 10) * pulp.lpSum([x[s,c] for s in S])\n",
    "#\n",
    "## リーダー気質の生徒の集合\n",
    "#S_leader = [row.student_id for row in s_df.itertuples() if row.leader_flag == 1]\n",
    "#\n",
    "## (5)各クラスにリーダー気質の生徒を2人以上割り当てる。\n",
    "#for c in C:\n",
    "#    prob += pulp.lpSum([x[s,c] for s in S_leader]) >= 2\n",
    "#\n",
    "## 特別な支援が必要な生徒の集合\n",
    "#S_support = [row.student_id for row in s_df.itertuples() if row.support_flag == 1]\n",
    "#\n",
    "## (6) 特別な支援が必要な生徒は各クラスに1人以下とする。\n",
    "#for c in C:\n",
    "#    prob += pulp.lpSum([x[s,c] for s in S_support]) <= 1\n",
    "#\n",
    "#    # 生徒の特定ペアリスト\n",
    "#SS = [(row.student_id1, row.student_id2) for row in s_pair_df.itertuples()]\n",
    "#\n",
    "## (7) 特定ペアの生徒は同一クラスに割り当てない。\n",
    "#for row in s_pair_df.itertuples():\n",
    "#    s1 = row.student_id1\n",
    "#    s2 = row.student_id2\n",
    "#    for c in C:\n",
    "#        prob += x[s1,c] + x[s2,c] <= 1\n",
    "#\n",
    "## 初期クラス編成を作成\n",
    "#s_df['score_rank'] = s_df['score'].rank(ascending=False, method='first')\n",
    "#class_dic = {0:'A', 1:'B', 2:'C', 3:'D', 4:'E', 5:'F', 6:'G', 7:'H'}\n",
    "#s_df['init_assigned_class'] = s_df['score_rank'].map(lambda x:x % 8).map(class_dic)\n",
    "#init_flag = {(s,c): 0 for s in S for c in C}\n",
    "#for row in s_df.itertuples():\n",
    "#    init_flag[row.student_id, row.init_assigned_class] = 1\n",
    "#    \n",
    "## 目的関数:初期クラス編成と最適化結果のクラス編成をできるだけ一致させる\n",
    "#prob += pulp.lpSum([x[s,c] * init_flag[s,c] for s,c in SC])        \n",
    "#\n",
    "## 求解\n",
    "#status = prob.solve()\n",
    "#print('Status:', pulp.LpStatus[status])\n",
    "#\n",
    "## 最適化結果の表示\n",
    "## 各クラスに割り当てられている生徒のリストを辞書に格納\n",
    "#C2Ss = {}\n",
    "#for c in C:\n",
    "#    C2Ss[c] = [s for s in S if x[s,c].value()==1]\n",
    "#\n",
    "#for c, Ss in C2Ss.items():\n",
    "#    print('Class:', c)\n",
    "#    print('Num:', len(Ss))\n",
    "#    print('Student:', Ss)\n",
    "#    print()    "
   ]
  },
  {
   "cell_type": "code",
   "execution_count": 43,
   "metadata": {},
   "outputs": [
    {
     "data": {
      "text/html": [
       "<div>\n",
       "<style scoped>\n",
       "    .dataframe tbody tr th:only-of-type {\n",
       "        vertical-align: middle;\n",
       "    }\n",
       "\n",
       "    .dataframe tbody tr th {\n",
       "        vertical-align: top;\n",
       "    }\n",
       "\n",
       "    .dataframe thead th {\n",
       "        text-align: right;\n",
       "    }\n",
       "</style>\n",
       "<table border=\"1\" class=\"dataframe\">\n",
       "  <thead>\n",
       "    <tr style=\"text-align: right;\">\n",
       "      <th></th>\n",
       "      <th>student_id</th>\n",
       "      <th>gender</th>\n",
       "      <th>leader_flag</th>\n",
       "      <th>support_flag</th>\n",
       "      <th>score</th>\n",
       "      <th>score_rank</th>\n",
       "      <th>init_assigned_class</th>\n",
       "      <th>assigned_class</th>\n",
       "    </tr>\n",
       "  </thead>\n",
       "  <tbody>\n",
       "    <tr>\n",
       "      <th>0</th>\n",
       "      <td>1</td>\n",
       "      <td>0</td>\n",
       "      <td>0</td>\n",
       "      <td>0</td>\n",
       "      <td>335</td>\n",
       "      <td>109.0</td>\n",
       "      <td>F</td>\n",
       "      <td>H</td>\n",
       "    </tr>\n",
       "    <tr>\n",
       "      <th>1</th>\n",
       "      <td>2</td>\n",
       "      <td>1</td>\n",
       "      <td>0</td>\n",
       "      <td>0</td>\n",
       "      <td>379</td>\n",
       "      <td>38.0</td>\n",
       "      <td>G</td>\n",
       "      <td>A</td>\n",
       "    </tr>\n",
       "    <tr>\n",
       "      <th>2</th>\n",
       "      <td>3</td>\n",
       "      <td>0</td>\n",
       "      <td>0</td>\n",
       "      <td>0</td>\n",
       "      <td>350</td>\n",
       "      <td>79.0</td>\n",
       "      <td>H</td>\n",
       "      <td>H</td>\n",
       "    </tr>\n",
       "    <tr>\n",
       "      <th>3</th>\n",
       "      <td>4</td>\n",
       "      <td>0</td>\n",
       "      <td>0</td>\n",
       "      <td>0</td>\n",
       "      <td>301</td>\n",
       "      <td>172.0</td>\n",
       "      <td>E</td>\n",
       "      <td>G</td>\n",
       "    </tr>\n",
       "    <tr>\n",
       "      <th>4</th>\n",
       "      <td>5</td>\n",
       "      <td>1</td>\n",
       "      <td>0</td>\n",
       "      <td>0</td>\n",
       "      <td>317</td>\n",
       "      <td>147.0</td>\n",
       "      <td>D</td>\n",
       "      <td>A</td>\n",
       "    </tr>\n",
       "  </tbody>\n",
       "</table>\n",
       "</div>"
      ],
      "text/plain": [
       "   student_id  gender  leader_flag  support_flag  score  score_rank  \\\n",
       "0           1       0            0             0    335       109.0   \n",
       "1           2       1            0             0    379        38.0   \n",
       "2           3       0            0             0    350        79.0   \n",
       "3           4       0            0             0    301       172.0   \n",
       "4           5       1            0             0    317       147.0   \n",
       "\n",
       "  init_assigned_class assigned_class  \n",
       "0                   F              H  \n",
       "1                   G              A  \n",
       "2                   H              H  \n",
       "3                   E              G  \n",
       "4                   D              A  "
      ]
     },
     "execution_count": 43,
     "metadata": {},
     "output_type": "execute_result"
    }
   ],
   "source": [
    "# 検証用のデータフレームの用意\n",
    "result_df2 = s_df.copy()\n",
    "\n",
    "# 各生徒がどのクラスに割り当てられたかの情報を辞書に格納\n",
    "S2C = {}\n",
    "for s in S:\n",
    "    S2C[s] = [c for c in C if x[s,c].x==1][0]\n",
    "    #S2C[s] = [c for c in C if x[s,c].value()==1][0]\n",
    "\n",
    "# 生徒データに各生徒が度のクラスに割り当てられたかの情報を結合            \n",
    "result_df2['assigned_class'] = result_df2['student_id'].map(S2C)\n",
    "result_df2.head(5)"
   ]
  },
  {
   "cell_type": "code",
   "execution_count": 44,
   "metadata": {},
   "outputs": [
    {
     "data": {
      "image/png": "[encoded data removed]",
      "text/plain": [
       "<Figure size 864x1440 with 8 Axes>"
      ]
     },
     "metadata": {
      "needs_background": "light"
     },
     "output_type": "display_data"
    }
   ],
   "source": [
    "fig = plt.figure(figsize=(12,20))\n",
    "for i, c in enumerate(C):\n",
    "    cls_df = result_df2[result_df2['assigned_class']==c]\n",
    "    ax = fig.add_subplot(4\n",
    "                         , 2\n",
    "                         , i+1\n",
    "                         , xlabel='score'\n",
    "                         , ylabel='num'\n",
    "                         , xlim=(0, 500)\n",
    "                         , ylim=(0, 20)\n",
    "                         , title='Class:{:s}'.format(c)\n",
    "                        )    \n",
    "    ax.hist(cls_df['score'], bins=range(0,500,40))"
   ]
  },
  {
   "cell_type": "code",
   "execution_count": null,
   "metadata": {},
   "outputs": [],
   "source": []
  }
 ],
 "metadata": {
  "kernelspec": {
   "display_name": "Python 3 (ipykernel)",
   "language": "python",
   "name": "python3"
  },
  "language_info": {
   "codemirror_mode": {
    "name": "ipython",
    "version": 3
   },
   "file_extension": ".py",
   "mimetype": "text/x-python",
   "name": "python",
   "nbconvert_exporter": "python",
   "pygments_lexer": "ipython3",
   "version": "3.9.13"
  }
 },
 "nbformat": 4,
 "nbformat_minor": 4
}
