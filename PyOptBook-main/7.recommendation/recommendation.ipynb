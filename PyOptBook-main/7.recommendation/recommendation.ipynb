{
 "cells": [
  {
   "cell_type": "markdown",
   "metadata": {},
   "source": [
    "# **第7章 商品推薦のための興味のスコアリング**"
   ]
  },
  {
   "cell_type": "markdown",
   "metadata": {},
   "source": [
    "### **7.3 データ分析**"
   ]
  },
  {
   "cell_type": "markdown",
   "metadata": {},
   "source": [
    "### ②データの概要"
   ]
  },
  {
   "cell_type": "code",
   "execution_count": 1,
   "metadata": {},
   "outputs": [
    {
     "name": "stdout",
     "output_type": "stream",
     "text": [
      "325908\n"
     ]
    },
    {
     "data": {
      "text/html": [
       "<div>\n",
       "<style scoped>\n",
       "    .dataframe tbody tr th:only-of-type {\n",
       "        vertical-align: middle;\n",
       "    }\n",
       "\n",
       "    .dataframe tbody tr th {\n",
       "        vertical-align: top;\n",
       "    }\n",
       "\n",
       "    .dataframe thead th {\n",
       "        text-align: right;\n",
       "    }\n",
       "</style>\n",
       "<table border=\"1\" class=\"dataframe\">\n",
       "  <thead>\n",
       "    <tr style=\"text-align: right;\">\n",
       "      <th></th>\n",
       "      <th>user_id</th>\n",
       "      <th>item_id</th>\n",
       "      <th>date</th>\n",
       "    </tr>\n",
       "  </thead>\n",
       "  <tbody>\n",
       "    <tr>\n",
       "      <th>0</th>\n",
       "      <td>4</td>\n",
       "      <td>205587</td>\n",
       "      <td>2015-07-04</td>\n",
       "    </tr>\n",
       "    <tr>\n",
       "      <th>1</th>\n",
       "      <td>4</td>\n",
       "      <td>748683</td>\n",
       "      <td>2015-07-04</td>\n",
       "    </tr>\n",
       "    <tr>\n",
       "      <th>2</th>\n",
       "      <td>4</td>\n",
       "      <td>790055</td>\n",
       "      <td>2015-07-04</td>\n",
       "    </tr>\n",
       "    <tr>\n",
       "      <th>3</th>\n",
       "      <td>4</td>\n",
       "      <td>790055</td>\n",
       "      <td>2015-07-04</td>\n",
       "    </tr>\n",
       "    <tr>\n",
       "      <th>4</th>\n",
       "      <td>4</td>\n",
       "      <td>764638</td>\n",
       "      <td>2015-07-04</td>\n",
       "    </tr>\n",
       "  </tbody>\n",
       "</table>\n",
       "</div>"
      ],
      "text/plain": [
       "   user_id  item_id       date\n",
       "0        4   205587 2015-07-04\n",
       "1        4   748683 2015-07-04\n",
       "2        4   790055 2015-07-04\n",
       "3        4   790055 2015-07-04\n",
       "4        4   764638 2015-07-04"
      ]
     },
     "execution_count": 1,
     "metadata": {},
     "output_type": "execute_result"
    }
   ],
   "source": [
    "import pandas as pd\n",
    "\n",
    "# access_log.csvより閲覧履歴を取り込む\n",
    "log_df = pd.read_csv('access_log.csv', parse_dates=['date'])\n",
    "print(len(log_df))\n",
    "log_df.head()"
   ]
  },
  {
   "cell_type": "code",
   "execution_count": 2,
   "metadata": {},
   "outputs": [
    {
     "data": {
      "text/plain": [
       "count    31443.000000\n",
       "mean        10.365042\n",
       "std         16.023399\n",
       "min          2.000000\n",
       "25%          3.000000\n",
       "50%          5.000000\n",
       "75%         11.000000\n",
       "max        632.000000\n",
       "Name: user_id, dtype: float64"
      ]
     },
     "execution_count": 2,
     "metadata": {},
     "output_type": "execute_result"
    }
   ],
   "source": [
    "# ユーザーID(user_id)の統計値を確認する\n",
    "log_df['user_id'].value_counts().describe()"
   ]
  },
  {
   "cell_type": "code",
   "execution_count": 3,
   "metadata": {},
   "outputs": [
    {
     "data": {
      "text/plain": [
       "count    87611.000000\n",
       "mean         3.719944\n",
       "std          8.802572\n",
       "min          1.000000\n",
       "25%          1.000000\n",
       "50%          2.000000\n",
       "75%          3.000000\n",
       "max        941.000000\n",
       "Name: item_id, dtype: float64"
      ]
     },
     "execution_count": 3,
     "metadata": {},
     "output_type": "execute_result"
    }
   ],
   "source": [
    "# 商品ID(item_id)の統計値を確認する\n",
    "log_df['item_id'].value_counts().describe()"
   ]
  },
  {
   "cell_type": "code",
   "execution_count": 4,
   "metadata": {},
   "outputs": [
    {
     "data": {
      "text/plain": [
       "2015-07-03    45441\n",
       "2015-07-02    45394\n",
       "2015-07-01    44163\n",
       "2015-07-04    43804\n",
       "2015-07-08    39933\n",
       "2015-07-05    39932\n",
       "2015-07-07    33930\n",
       "2015-07-06    33311\n",
       "Name: date, dtype: int64"
      ]
     },
     "execution_count": 4,
     "metadata": {},
     "output_type": "execute_result"
    }
   ],
   "source": [
    "# 閲覧日(date)の件数を確認する\n",
    "log_df['date'].value_counts()"
   ]
  },
  {
   "cell_type": "markdown",
   "metadata": {},
   "source": [
    "### **③ データの性質**"
   ]
  },
  {
   "cell_type": "code",
   "execution_count": 5,
   "metadata": {},
   "outputs": [
    {
     "name": "stdout",
     "output_type": "stream",
     "text": [
      "2015-07-01 00:00:00 2015-07-07 00:00:00 2015-07-08 00:00:00\n"
     ]
    }
   ],
   "source": [
    "# 日付操作をするライブラリdatetimeを取り込む\n",
    "import datetime\n",
    "\n",
    "start_date = datetime.datetime(2015,7,1)\n",
    "end_date = datetime.datetime(2015,7,7)\n",
    "target_date = datetime.datetime(2015,7,8)\n",
    "print(start_date, end_date, target_date) # 追記"
   ]
  },
  {
   "cell_type": "code",
   "execution_count": 6,
   "metadata": {},
   "outputs": [
    {
     "name": "stdout",
     "output_type": "stream",
     "text": [
      "285975\n"
     ]
    },
    {
     "data": {
      "text/html": [
       "<div>\n",
       "<style scoped>\n",
       "    .dataframe tbody tr th:only-of-type {\n",
       "        vertical-align: middle;\n",
       "    }\n",
       "\n",
       "    .dataframe tbody tr th {\n",
       "        vertical-align: top;\n",
       "    }\n",
       "\n",
       "    .dataframe thead th {\n",
       "        text-align: right;\n",
       "    }\n",
       "</style>\n",
       "<table border=\"1\" class=\"dataframe\">\n",
       "  <thead>\n",
       "    <tr style=\"text-align: right;\">\n",
       "      <th></th>\n",
       "      <th>user_id</th>\n",
       "      <th>item_id</th>\n",
       "      <th>date</th>\n",
       "    </tr>\n",
       "  </thead>\n",
       "  <tbody>\n",
       "    <tr>\n",
       "      <th>0</th>\n",
       "      <td>4</td>\n",
       "      <td>205587</td>\n",
       "      <td>2015-07-04</td>\n",
       "    </tr>\n",
       "    <tr>\n",
       "      <th>1</th>\n",
       "      <td>4</td>\n",
       "      <td>748683</td>\n",
       "      <td>2015-07-04</td>\n",
       "    </tr>\n",
       "    <tr>\n",
       "      <th>2</th>\n",
       "      <td>4</td>\n",
       "      <td>790055</td>\n",
       "      <td>2015-07-04</td>\n",
       "    </tr>\n",
       "  </tbody>\n",
       "</table>\n",
       "</div>"
      ],
      "text/plain": [
       "   user_id  item_id       date\n",
       "0        4   205587 2015-07-04\n",
       "1        4   748683 2015-07-04\n",
       "2        4   790055 2015-07-04"
      ]
     },
     "execution_count": 6,
     "metadata": {},
     "output_type": "execute_result"
    }
   ],
   "source": [
    "# 7月1日〜7月7日までのデータを抽出する（基準日7月8日は入っていない）\n",
    "x_df = log_df[(start_date <= log_df['date']) & (log_df['date'] <= end_date)]\n",
    "print(len(x_df))\n",
    "x_df.head(3)"
   ]
  },
  {
   "cell_type": "code",
   "execution_count": 7,
   "metadata": {},
   "outputs": [
    {
     "name": "stdout",
     "output_type": "stream",
     "text": [
      "39933\n"
     ]
    },
    {
     "data": {
      "text/html": [
       "<div>\n",
       "<style scoped>\n",
       "    .dataframe tbody tr th:only-of-type {\n",
       "        vertical-align: middle;\n",
       "    }\n",
       "\n",
       "    .dataframe tbody tr th {\n",
       "        vertical-align: top;\n",
       "    }\n",
       "\n",
       "    .dataframe thead th {\n",
       "        text-align: right;\n",
       "    }\n",
       "</style>\n",
       "<table border=\"1\" class=\"dataframe\">\n",
       "  <thead>\n",
       "    <tr style=\"text-align: right;\">\n",
       "      <th></th>\n",
       "      <th>user_id</th>\n",
       "      <th>item_id</th>\n",
       "      <th>date</th>\n",
       "    </tr>\n",
       "  </thead>\n",
       "  <tbody>\n",
       "    <tr>\n",
       "      <th>103</th>\n",
       "      <td>94</td>\n",
       "      <td>603852</td>\n",
       "      <td>2015-07-08</td>\n",
       "    </tr>\n",
       "    <tr>\n",
       "      <th>104</th>\n",
       "      <td>94</td>\n",
       "      <td>28600</td>\n",
       "      <td>2015-07-08</td>\n",
       "    </tr>\n",
       "    <tr>\n",
       "      <th>105</th>\n",
       "      <td>94</td>\n",
       "      <td>987320</td>\n",
       "      <td>2015-07-08</td>\n",
       "    </tr>\n",
       "    <tr>\n",
       "      <th>106</th>\n",
       "      <td>94</td>\n",
       "      <td>109924</td>\n",
       "      <td>2015-07-08</td>\n",
       "    </tr>\n",
       "    <tr>\n",
       "      <th>107</th>\n",
       "      <td>94</td>\n",
       "      <td>886214</td>\n",
       "      <td>2015-07-08</td>\n",
       "    </tr>\n",
       "  </tbody>\n",
       "</table>\n",
       "</div>"
      ],
      "text/plain": [
       "     user_id  item_id       date\n",
       "103       94   603852 2015-07-08\n",
       "104       94    28600 2015-07-08\n",
       "105       94   987320 2015-07-08\n",
       "106       94   109924 2015-07-08\n",
       "107       94   886214 2015-07-08"
      ]
     },
     "execution_count": 7,
     "metadata": {},
     "output_type": "execute_result"
    }
   ],
   "source": [
    "# 基準日7月8日のデータを抽出する\n",
    "y_df = log_df[log_df['date'] == target_date]\n",
    "print(len(y_df))\n",
    "y_df.head()"
   ]
  },
  {
   "cell_type": "code",
   "execution_count": 8,
   "metadata": {},
   "outputs": [],
   "source": [
    "# ユーザーIDと閲覧した商品IDに対して、最新度のリストを対応させる辞書を作成する（ただし、辞書の入れ子として作成）\n",
    "U2I2Rcens = {}\n",
    "for row in x_df.itertuples():\n",
    "    # 最新度(経過日数)の算出：基準日 - 最新の閲覧日\n",
    "    rcen = (target_date - row.date).days\n",
    "    \n",
    "    # 辞書に最新度を登録\n",
    "    U2I2Rcens.setdefault(row.user_id, {})\n",
    "    U2I2Rcens[row.user_id].setdefault(row.item_id, [])\n",
    "    U2I2Rcens[row.user_id][row.item_id].append(rcen)"
   ]
  },
  {
   "cell_type": "code",
   "execution_count": 9,
   "metadata": {},
   "outputs": [
    {
     "data": {
      "text/plain": [
       "{400521: [4, 2, 2, 2, 1], 678277: [4], 687963: [2], 178138: [1]}"
      ]
     },
     "execution_count": 9,
     "metadata": {},
     "output_type": "execute_result"
    }
   ],
   "source": [
    "# ユーザーID=2497について、閲覧した商品に対する最新度のリストを確認する\n",
    "U2I2Rcens[2497]"
   ]
  },
  {
   "cell_type": "code",
   "execution_count": 10,
   "metadata": {},
   "outputs": [
    {
     "name": "stdout",
     "output_type": "stream",
     "text": [
      "204661\n"
     ]
    },
    {
     "data": {
      "text/html": [
       "<div>\n",
       "<style scoped>\n",
       "    .dataframe tbody tr th:only-of-type {\n",
       "        vertical-align: middle;\n",
       "    }\n",
       "\n",
       "    .dataframe tbody tr th {\n",
       "        vertical-align: top;\n",
       "    }\n",
       "\n",
       "    .dataframe thead th {\n",
       "        text-align: right;\n",
       "    }\n",
       "</style>\n",
       "<table border=\"1\" class=\"dataframe\">\n",
       "  <thead>\n",
       "    <tr style=\"text-align: right;\">\n",
       "      <th></th>\n",
       "      <th>user_id</th>\n",
       "      <th>item_id</th>\n",
       "      <th>rcen</th>\n",
       "      <th>freq</th>\n",
       "    </tr>\n",
       "  </thead>\n",
       "  <tbody>\n",
       "    <tr>\n",
       "      <th>0</th>\n",
       "      <td>4</td>\n",
       "      <td>205587</td>\n",
       "      <td>4</td>\n",
       "      <td>1</td>\n",
       "    </tr>\n",
       "    <tr>\n",
       "      <th>1</th>\n",
       "      <td>4</td>\n",
       "      <td>748683</td>\n",
       "      <td>4</td>\n",
       "      <td>1</td>\n",
       "    </tr>\n",
       "    <tr>\n",
       "      <th>2</th>\n",
       "      <td>4</td>\n",
       "      <td>790055</td>\n",
       "      <td>4</td>\n",
       "      <td>3</td>\n",
       "    </tr>\n",
       "    <tr>\n",
       "      <th>3</th>\n",
       "      <td>4</td>\n",
       "      <td>764638</td>\n",
       "      <td>4</td>\n",
       "      <td>2</td>\n",
       "    </tr>\n",
       "    <tr>\n",
       "      <th>4</th>\n",
       "      <td>4</td>\n",
       "      <td>492434</td>\n",
       "      <td>4</td>\n",
       "      <td>1</td>\n",
       "    </tr>\n",
       "  </tbody>\n",
       "</table>\n",
       "</div>"
      ],
      "text/plain": [
       "   user_id  item_id  rcen  freq\n",
       "0        4   205587     4     1\n",
       "1        4   748683     4     1\n",
       "2        4   790055     4     3\n",
       "3        4   764638     4     2\n",
       "4        4   492434     4     1"
      ]
     },
     "execution_count": 10,
     "metadata": {},
     "output_type": "execute_result"
    }
   ],
   "source": [
    "# ユーザーIDと商品IDに対応する最新度(rcen)と頻度(freq)のデータを作成する\n",
    "Rows1 = []\n",
    "for user_id, I2Rcens in U2I2Rcens.items():\n",
    "    for item_id, Rcens in I2Rcens.items():\n",
    "        freq = len(Rcens)\n",
    "        rcen = min(Rcens)\n",
    "        Rows1.append((user_id, item_id, rcen, freq))\n",
    "UI2RF_df = pd.DataFrame(Rows1, columns=['user_id', 'item_id', 'rcen', 'freq'])\n",
    "print(len(UI2RF_df))\n",
    "UI2RF_df.head()"
   ]
  },
  {
   "cell_type": "code",
   "execution_count": 11,
   "metadata": {},
   "outputs": [
    {
     "name": "stdout",
     "output_type": "stream",
     "text": [
      "29651\n"
     ]
    },
    {
     "data": {
      "text/html": [
       "<div>\n",
       "<style scoped>\n",
       "    .dataframe tbody tr th:only-of-type {\n",
       "        vertical-align: middle;\n",
       "    }\n",
       "\n",
       "    .dataframe tbody tr th {\n",
       "        vertical-align: top;\n",
       "    }\n",
       "\n",
       "    .dataframe thead th {\n",
       "        text-align: right;\n",
       "    }\n",
       "</style>\n",
       "<table border=\"1\" class=\"dataframe\">\n",
       "  <thead>\n",
       "    <tr style=\"text-align: right;\">\n",
       "      <th></th>\n",
       "      <th>user_id</th>\n",
       "      <th>item_id</th>\n",
       "      <th>date</th>\n",
       "      <th>pv_flag</th>\n",
       "    </tr>\n",
       "  </thead>\n",
       "  <tbody>\n",
       "    <tr>\n",
       "      <th>103</th>\n",
       "      <td>94</td>\n",
       "      <td>603852</td>\n",
       "      <td>2015-07-08</td>\n",
       "      <td>1</td>\n",
       "    </tr>\n",
       "    <tr>\n",
       "      <th>104</th>\n",
       "      <td>94</td>\n",
       "      <td>28600</td>\n",
       "      <td>2015-07-08</td>\n",
       "      <td>1</td>\n",
       "    </tr>\n",
       "    <tr>\n",
       "      <th>105</th>\n",
       "      <td>94</td>\n",
       "      <td>987320</td>\n",
       "      <td>2015-07-08</td>\n",
       "      <td>1</td>\n",
       "    </tr>\n",
       "    <tr>\n",
       "      <th>106</th>\n",
       "      <td>94</td>\n",
       "      <td>109924</td>\n",
       "      <td>2015-07-08</td>\n",
       "      <td>1</td>\n",
       "    </tr>\n",
       "    <tr>\n",
       "      <th>107</th>\n",
       "      <td>94</td>\n",
       "      <td>886214</td>\n",
       "      <td>2015-07-08</td>\n",
       "      <td>1</td>\n",
       "    </tr>\n",
       "  </tbody>\n",
       "</table>\n",
       "</div>"
      ],
      "text/plain": [
       "     user_id  item_id       date  pv_flag\n",
       "103       94   603852 2015-07-08        1\n",
       "104       94    28600 2015-07-08        1\n",
       "105       94   987320 2015-07-08        1\n",
       "106       94   109924 2015-07-08        1\n",
       "107       94   886214 2015-07-08        1"
      ]
     },
     "execution_count": 11,
     "metadata": {},
     "output_type": "execute_result"
    }
   ],
   "source": [
    "# 閲覧フラグ(pv_flag)の作成\n",
    "y_df = y_df.drop_duplicates()\n",
    "print(len(y_df))\n",
    "y_df['pv_flag'] = 1\n",
    "y_df.head()"
   ]
  },
  {
   "cell_type": "code",
   "execution_count": 12,
   "metadata": {},
   "outputs": [
    {
     "name": "stdout",
     "output_type": "stream",
     "text": [
      "204661\n"
     ]
    },
    {
     "data": {
      "text/html": [
       "<div>\n",
       "<style scoped>\n",
       "    .dataframe tbody tr th:only-of-type {\n",
       "        vertical-align: middle;\n",
       "    }\n",
       "\n",
       "    .dataframe tbody tr th {\n",
       "        vertical-align: top;\n",
       "    }\n",
       "\n",
       "    .dataframe thead th {\n",
       "        text-align: right;\n",
       "    }\n",
       "</style>\n",
       "<table border=\"1\" class=\"dataframe\">\n",
       "  <thead>\n",
       "    <tr style=\"text-align: right;\">\n",
       "      <th></th>\n",
       "      <th>user_id</th>\n",
       "      <th>item_id</th>\n",
       "      <th>rcen</th>\n",
       "      <th>freq</th>\n",
       "      <th>pv_flag</th>\n",
       "    </tr>\n",
       "  </thead>\n",
       "  <tbody>\n",
       "    <tr>\n",
       "      <th>0</th>\n",
       "      <td>4</td>\n",
       "      <td>205587</td>\n",
       "      <td>4</td>\n",
       "      <td>1</td>\n",
       "      <td>0.0</td>\n",
       "    </tr>\n",
       "    <tr>\n",
       "      <th>1</th>\n",
       "      <td>4</td>\n",
       "      <td>748683</td>\n",
       "      <td>4</td>\n",
       "      <td>1</td>\n",
       "      <td>0.0</td>\n",
       "    </tr>\n",
       "    <tr>\n",
       "      <th>2</th>\n",
       "      <td>4</td>\n",
       "      <td>790055</td>\n",
       "      <td>4</td>\n",
       "      <td>3</td>\n",
       "      <td>0.0</td>\n",
       "    </tr>\n",
       "    <tr>\n",
       "      <th>3</th>\n",
       "      <td>4</td>\n",
       "      <td>764638</td>\n",
       "      <td>4</td>\n",
       "      <td>2</td>\n",
       "      <td>0.0</td>\n",
       "    </tr>\n",
       "    <tr>\n",
       "      <th>4</th>\n",
       "      <td>4</td>\n",
       "      <td>492434</td>\n",
       "      <td>4</td>\n",
       "      <td>1</td>\n",
       "      <td>0.0</td>\n",
       "    </tr>\n",
       "  </tbody>\n",
       "</table>\n",
       "</div>"
      ],
      "text/plain": [
       "   user_id  item_id  rcen  freq  pv_flag\n",
       "0        4   205587     4     1      0.0\n",
       "1        4   748683     4     1      0.0\n",
       "2        4   790055     4     3      0.0\n",
       "3        4   764638     4     2      0.0\n",
       "4        4   492434     4     1      0.0"
      ]
     },
     "execution_count": 12,
     "metadata": {},
     "output_type": "execute_result"
    }
   ],
   "source": [
    "# 閲覧フラグ(pv_flag)の追加\n",
    "UI2RFP_df = pd.merge(UI2RF_df, y_df[['user_id', 'item_id', 'pv_flag']], how='left', on=['user_id', 'item_id'])\n",
    "UI2RFP_df['pv_flag'].fillna(0, inplace=True)\n",
    "print(len(UI2RFP_df))\n",
    "UI2RFP_df.head()"
   ]
  },
  {
   "cell_type": "code",
   "execution_count": 13,
   "metadata": {},
   "outputs": [
    {
     "name": "stdout",
     "output_type": "stream",
     "text": [
      "[1, 2, 3, 4, 5, 6, 7]\n",
      "[1, 2, 3, 4, 5, 6, 7, 8, 9, 10, 11, 12, 13, 14, 15, 16, 17, 18, 19, 20, 21, 22, 23, 24, 25, 26, 27, 29, 31, 32, 34, 35, 41, 43, 58, 63, 118]\n"
     ]
    }
   ],
   "source": [
    "# 最新度(rcen)と頻度(freq)の取りうる範囲を確認\n",
    "print(sorted(UI2RFP_df['rcen'].unique()))\n",
    "print(sorted(UI2RFP_df['freq'].unique()))"
   ]
  },
  {
   "cell_type": "code",
   "execution_count": 14,
   "metadata": {},
   "outputs": [
    {
     "name": "stdout",
     "output_type": "stream",
     "text": [
      "203456\n"
     ]
    },
    {
     "data": {
      "text/html": [
       "<div>\n",
       "<style scoped>\n",
       "    .dataframe tbody tr th:only-of-type {\n",
       "        vertical-align: middle;\n",
       "    }\n",
       "\n",
       "    .dataframe tbody tr th {\n",
       "        vertical-align: top;\n",
       "    }\n",
       "\n",
       "    .dataframe thead th {\n",
       "        text-align: right;\n",
       "    }\n",
       "</style>\n",
       "<table border=\"1\" class=\"dataframe\">\n",
       "  <thead>\n",
       "    <tr style=\"text-align: right;\">\n",
       "      <th></th>\n",
       "      <th>user_id</th>\n",
       "      <th>item_id</th>\n",
       "      <th>rcen</th>\n",
       "      <th>freq</th>\n",
       "      <th>pv_flag</th>\n",
       "    </tr>\n",
       "  </thead>\n",
       "  <tbody>\n",
       "    <tr>\n",
       "      <th>0</th>\n",
       "      <td>4</td>\n",
       "      <td>205587</td>\n",
       "      <td>4</td>\n",
       "      <td>1</td>\n",
       "      <td>0.0</td>\n",
       "    </tr>\n",
       "    <tr>\n",
       "      <th>1</th>\n",
       "      <td>4</td>\n",
       "      <td>748683</td>\n",
       "      <td>4</td>\n",
       "      <td>1</td>\n",
       "      <td>0.0</td>\n",
       "    </tr>\n",
       "    <tr>\n",
       "      <th>2</th>\n",
       "      <td>4</td>\n",
       "      <td>790055</td>\n",
       "      <td>4</td>\n",
       "      <td>3</td>\n",
       "      <td>0.0</td>\n",
       "    </tr>\n",
       "    <tr>\n",
       "      <th>3</th>\n",
       "      <td>4</td>\n",
       "      <td>764638</td>\n",
       "      <td>4</td>\n",
       "      <td>2</td>\n",
       "      <td>0.0</td>\n",
       "    </tr>\n",
       "    <tr>\n",
       "      <th>4</th>\n",
       "      <td>4</td>\n",
       "      <td>492434</td>\n",
       "      <td>4</td>\n",
       "      <td>1</td>\n",
       "      <td>0.0</td>\n",
       "    </tr>\n",
       "  </tbody>\n",
       "</table>\n",
       "</div>"
      ],
      "text/plain": [
       "   user_id  item_id  rcen  freq  pv_flag\n",
       "0        4   205587     4     1      0.0\n",
       "1        4   748683     4     1      0.0\n",
       "2        4   790055     4     3      0.0\n",
       "3        4   764638     4     2      0.0\n",
       "4        4   492434     4     1      0.0"
      ]
     },
     "execution_count": 14,
     "metadata": {},
     "output_type": "execute_result"
    }
   ],
   "source": [
    "# 頻度(freq)が7以下になるようにデータを抽出(本書の都合でrcenと規模感を合わせるため)\n",
    "tar_df = UI2RFP_df[UI2RFP_df['freq'] <= 7]\n",
    "print(len(tar_df))\n",
    "tar_df.head()"
   ]
  },
  {
   "cell_type": "code",
   "execution_count": 15,
   "metadata": {},
   "outputs": [
    {
     "data": {
      "text/plain": [
       "2038.0"
      ]
     },
     "execution_count": 15,
     "metadata": {},
     "output_type": "execute_result"
    }
   ],
   "source": [
    "# 閲覧フラグ(pv_flag)の規模感の確認\n",
    "tar_df['pv_flag'].sum()"
   ]
  },
  {
   "cell_type": "code",
   "execution_count": 16,
   "metadata": {},
   "outputs": [
    {
     "data": {
      "text/html": [
       "<div>\n",
       "<style scoped>\n",
       "    .dataframe tbody tr th:only-of-type {\n",
       "        vertical-align: middle;\n",
       "    }\n",
       "\n",
       "    .dataframe tbody tr th {\n",
       "        vertical-align: top;\n",
       "    }\n",
       "\n",
       "    .dataframe thead th {\n",
       "        text-align: right;\n",
       "    }\n",
       "</style>\n",
       "<table border=\"1\" class=\"dataframe\">\n",
       "  <thead>\n",
       "    <tr style=\"text-align: right;\">\n",
       "      <th>pv_flag</th>\n",
       "      <th>neg</th>\n",
       "      <th>pos</th>\n",
       "    </tr>\n",
       "    <tr>\n",
       "      <th>rcen</th>\n",
       "      <th></th>\n",
       "      <th></th>\n",
       "    </tr>\n",
       "  </thead>\n",
       "  <tbody>\n",
       "    <tr>\n",
       "      <th>1</th>\n",
       "      <td>24595</td>\n",
       "      <td>571</td>\n",
       "    </tr>\n",
       "    <tr>\n",
       "      <th>2</th>\n",
       "      <td>24032</td>\n",
       "      <td>274</td>\n",
       "    </tr>\n",
       "    <tr>\n",
       "      <th>3</th>\n",
       "      <td>28212</td>\n",
       "      <td>326</td>\n",
       "    </tr>\n",
       "    <tr>\n",
       "      <th>4</th>\n",
       "      <td>30641</td>\n",
       "      <td>275</td>\n",
       "    </tr>\n",
       "    <tr>\n",
       "      <th>5</th>\n",
       "      <td>31510</td>\n",
       "      <td>225</td>\n",
       "    </tr>\n",
       "    <tr>\n",
       "      <th>6</th>\n",
       "      <td>31721</td>\n",
       "      <td>199</td>\n",
       "    </tr>\n",
       "    <tr>\n",
       "      <th>7</th>\n",
       "      <td>30707</td>\n",
       "      <td>168</td>\n",
       "    </tr>\n",
       "  </tbody>\n",
       "</table>\n",
       "</div>"
      ],
      "text/plain": [
       "pv_flag    neg  pos\n",
       "rcen               \n",
       "1        24595  571\n",
       "2        24032  274\n",
       "3        28212  326\n",
       "4        30641  275\n",
       "5        31510  225\n",
       "6        31721  199\n",
       "7        30707  168"
      ]
     },
     "execution_count": 16,
     "metadata": {},
     "output_type": "execute_result"
    }
   ],
   "source": [
    "# 最新度(recency)に関する閲覧数の集計\n",
    "rcen_df = pd.crosstab(index=tar_df['rcen'], columns=tar_df['pv_flag'])\n",
    "rcen_df = rcen_df.rename(columns = {0:'neg', 1:'pos'})\n",
    "rcen_df"
   ]
  },
  {
   "cell_type": "code",
   "execution_count": 17,
   "metadata": {},
   "outputs": [
    {
     "data": {
      "text/html": [
       "<div>\n",
       "<style scoped>\n",
       "    .dataframe tbody tr th:only-of-type {\n",
       "        vertical-align: middle;\n",
       "    }\n",
       "\n",
       "    .dataframe tbody tr th {\n",
       "        vertical-align: top;\n",
       "    }\n",
       "\n",
       "    .dataframe thead th {\n",
       "        text-align: right;\n",
       "    }\n",
       "</style>\n",
       "<table border=\"1\" class=\"dataframe\">\n",
       "  <thead>\n",
       "    <tr style=\"text-align: right;\">\n",
       "      <th>pv_flag</th>\n",
       "      <th>neg</th>\n",
       "      <th>pos</th>\n",
       "      <th>N</th>\n",
       "      <th>prob</th>\n",
       "    </tr>\n",
       "    <tr>\n",
       "      <th>rcen</th>\n",
       "      <th></th>\n",
       "      <th></th>\n",
       "      <th></th>\n",
       "      <th></th>\n",
       "    </tr>\n",
       "  </thead>\n",
       "  <tbody>\n",
       "    <tr>\n",
       "      <th>1</th>\n",
       "      <td>24595</td>\n",
       "      <td>571</td>\n",
       "      <td>25166</td>\n",
       "      <td>0.022689</td>\n",
       "    </tr>\n",
       "    <tr>\n",
       "      <th>2</th>\n",
       "      <td>24032</td>\n",
       "      <td>274</td>\n",
       "      <td>24306</td>\n",
       "      <td>0.011273</td>\n",
       "    </tr>\n",
       "    <tr>\n",
       "      <th>3</th>\n",
       "      <td>28212</td>\n",
       "      <td>326</td>\n",
       "      <td>28538</td>\n",
       "      <td>0.011423</td>\n",
       "    </tr>\n",
       "    <tr>\n",
       "      <th>4</th>\n",
       "      <td>30641</td>\n",
       "      <td>275</td>\n",
       "      <td>30916</td>\n",
       "      <td>0.008895</td>\n",
       "    </tr>\n",
       "    <tr>\n",
       "      <th>5</th>\n",
       "      <td>31510</td>\n",
       "      <td>225</td>\n",
       "      <td>31735</td>\n",
       "      <td>0.007090</td>\n",
       "    </tr>\n",
       "    <tr>\n",
       "      <th>6</th>\n",
       "      <td>31721</td>\n",
       "      <td>199</td>\n",
       "      <td>31920</td>\n",
       "      <td>0.006234</td>\n",
       "    </tr>\n",
       "    <tr>\n",
       "      <th>7</th>\n",
       "      <td>30707</td>\n",
       "      <td>168</td>\n",
       "      <td>30875</td>\n",
       "      <td>0.005441</td>\n",
       "    </tr>\n",
       "  </tbody>\n",
       "</table>\n",
       "</div>"
      ],
      "text/plain": [
       "pv_flag    neg  pos      N      prob\n",
       "rcen                                \n",
       "1        24595  571  25166  0.022689\n",
       "2        24032  274  24306  0.011273\n",
       "3        28212  326  28538  0.011423\n",
       "4        30641  275  30916  0.008895\n",
       "5        31510  225  31735  0.007090\n",
       "6        31721  199  31920  0.006234\n",
       "7        30707  168  30875  0.005441"
      ]
     },
     "execution_count": 17,
     "metadata": {},
     "output_type": "execute_result"
    },
    {
     "data": {
      "image/png": "[encoded data removed]",
      "text/plain": [
       "<Figure size 432x288 with 1 Axes>"
      ]
     },
     "metadata": {
      "needs_background": "light"
     },
     "output_type": "display_data"
    }
   ],
   "source": [
    "# 最新度(recency)に関する再閲覧確率の算出と確認\n",
    "rcen_df['N'] = rcen_df['neg'] + rcen_df['pos']\n",
    "rcen_df['prob'] = rcen_df['pos'] / rcen_df['N']\n",
    "rcen_df[['prob']].plot.bar()\n",
    "rcen_df"
   ]
  },
  {
   "cell_type": "code",
   "execution_count": 18,
   "metadata": {},
   "outputs": [
    {
     "data": {
      "text/html": [
       "<div>\n",
       "<style scoped>\n",
       "    .dataframe tbody tr th:only-of-type {\n",
       "        vertical-align: middle;\n",
       "    }\n",
       "\n",
       "    .dataframe tbody tr th {\n",
       "        vertical-align: top;\n",
       "    }\n",
       "\n",
       "    .dataframe thead th {\n",
       "        text-align: right;\n",
       "    }\n",
       "</style>\n",
       "<table border=\"1\" class=\"dataframe\">\n",
       "  <thead>\n",
       "    <tr style=\"text-align: right;\">\n",
       "      <th>pv_flag</th>\n",
       "      <th>neg</th>\n",
       "      <th>pos</th>\n",
       "    </tr>\n",
       "    <tr>\n",
       "      <th>freq</th>\n",
       "      <th></th>\n",
       "      <th></th>\n",
       "    </tr>\n",
       "  </thead>\n",
       "  <tbody>\n",
       "    <tr>\n",
       "      <th>1</th>\n",
       "      <td>161753</td>\n",
       "      <td>964</td>\n",
       "    </tr>\n",
       "    <tr>\n",
       "      <th>2</th>\n",
       "      <td>24938</td>\n",
       "      <td>476</td>\n",
       "    </tr>\n",
       "    <tr>\n",
       "      <th>3</th>\n",
       "      <td>7733</td>\n",
       "      <td>258</td>\n",
       "    </tr>\n",
       "    <tr>\n",
       "      <th>4</th>\n",
       "      <td>3527</td>\n",
       "      <td>149</td>\n",
       "    </tr>\n",
       "    <tr>\n",
       "      <th>5</th>\n",
       "      <td>1807</td>\n",
       "      <td>88</td>\n",
       "    </tr>\n",
       "    <tr>\n",
       "      <th>6</th>\n",
       "      <td>1038</td>\n",
       "      <td>63</td>\n",
       "    </tr>\n",
       "    <tr>\n",
       "      <th>7</th>\n",
       "      <td>622</td>\n",
       "      <td>40</td>\n",
       "    </tr>\n",
       "  </tbody>\n",
       "</table>\n",
       "</div>"
      ],
      "text/plain": [
       "pv_flag     neg  pos\n",
       "freq                \n",
       "1        161753  964\n",
       "2         24938  476\n",
       "3          7733  258\n",
       "4          3527  149\n",
       "5          1807   88\n",
       "6          1038   63\n",
       "7           622   40"
      ]
     },
     "execution_count": 18,
     "metadata": {},
     "output_type": "execute_result"
    }
   ],
   "source": [
    "# 頻度(frequency)に関する閲覧数の集計\n",
    "freq_df = pd.crosstab(index=tar_df['freq'], columns=tar_df['pv_flag'])\n",
    "freq_df = freq_df.rename(columns = {0:'neg', 1:'pos'})\n",
    "freq_df"
   ]
  },
  {
   "cell_type": "code",
   "execution_count": 19,
   "metadata": {},
   "outputs": [
    {
     "data": {
      "text/html": [
       "<div>\n",
       "<style scoped>\n",
       "    .dataframe tbody tr th:only-of-type {\n",
       "        vertical-align: middle;\n",
       "    }\n",
       "\n",
       "    .dataframe tbody tr th {\n",
       "        vertical-align: top;\n",
       "    }\n",
       "\n",
       "    .dataframe thead th {\n",
       "        text-align: right;\n",
       "    }\n",
       "</style>\n",
       "<table border=\"1\" class=\"dataframe\">\n",
       "  <thead>\n",
       "    <tr style=\"text-align: right;\">\n",
       "      <th>pv_flag</th>\n",
       "      <th>neg</th>\n",
       "      <th>pos</th>\n",
       "      <th>N</th>\n",
       "      <th>prob</th>\n",
       "    </tr>\n",
       "    <tr>\n",
       "      <th>freq</th>\n",
       "      <th></th>\n",
       "      <th></th>\n",
       "      <th></th>\n",
       "      <th></th>\n",
       "    </tr>\n",
       "  </thead>\n",
       "  <tbody>\n",
       "    <tr>\n",
       "      <th>1</th>\n",
       "      <td>161753</td>\n",
       "      <td>964</td>\n",
       "      <td>162717</td>\n",
       "      <td>0.005924</td>\n",
       "    </tr>\n",
       "    <tr>\n",
       "      <th>2</th>\n",
       "      <td>24938</td>\n",
       "      <td>476</td>\n",
       "      <td>25414</td>\n",
       "      <td>0.018730</td>\n",
       "    </tr>\n",
       "    <tr>\n",
       "      <th>3</th>\n",
       "      <td>7733</td>\n",
       "      <td>258</td>\n",
       "      <td>7991</td>\n",
       "      <td>0.032286</td>\n",
       "    </tr>\n",
       "    <tr>\n",
       "      <th>4</th>\n",
       "      <td>3527</td>\n",
       "      <td>149</td>\n",
       "      <td>3676</td>\n",
       "      <td>0.040533</td>\n",
       "    </tr>\n",
       "    <tr>\n",
       "      <th>5</th>\n",
       "      <td>1807</td>\n",
       "      <td>88</td>\n",
       "      <td>1895</td>\n",
       "      <td>0.046438</td>\n",
       "    </tr>\n",
       "    <tr>\n",
       "      <th>6</th>\n",
       "      <td>1038</td>\n",
       "      <td>63</td>\n",
       "      <td>1101</td>\n",
       "      <td>0.057221</td>\n",
       "    </tr>\n",
       "    <tr>\n",
       "      <th>7</th>\n",
       "      <td>622</td>\n",
       "      <td>40</td>\n",
       "      <td>662</td>\n",
       "      <td>0.060423</td>\n",
       "    </tr>\n",
       "  </tbody>\n",
       "</table>\n",
       "</div>"
      ],
      "text/plain": [
       "pv_flag     neg  pos       N      prob\n",
       "freq                                  \n",
       "1        161753  964  162717  0.005924\n",
       "2         24938  476   25414  0.018730\n",
       "3          7733  258    7991  0.032286\n",
       "4          3527  149    3676  0.040533\n",
       "5          1807   88    1895  0.046438\n",
       "6          1038   63    1101  0.057221\n",
       "7           622   40     662  0.060423"
      ]
     },
     "execution_count": 19,
     "metadata": {},
     "output_type": "execute_result"
    },
    {
     "data": {
      "image/png": "[encoded data removed]",
      "text/plain": [
       "<Figure size 432x288 with 1 Axes>"
      ]
     },
     "metadata": {
      "needs_background": "light"
     },
     "output_type": "display_data"
    }
   ],
   "source": [
    "# 頻度(frequency)に関する再閲覧確率の算出と確認\n",
    "freq_df['N'] = freq_df['neg'] + freq_df['pos']\n",
    "freq_df['prob'] = freq_df['pos'] / freq_df['N']\n",
    "freq_df[['prob']].plot.bar()\n",
    "freq_df"
   ]
  },
  {
   "cell_type": "markdown",
   "metadata": {},
   "source": [
    "### **7.4 数理モデリングと実装**"
   ]
  },
  {
   "cell_type": "markdown",
   "metadata": {},
   "source": [
    "### ①数理モデル"
   ]
  },
  {
   "cell_type": "code",
   "execution_count": 20,
   "metadata": {},
   "outputs": [
    {
     "name": "stdout",
     "output_type": "stream",
     "text": [
      "203456\n"
     ]
    },
    {
     "data": {
      "text/html": [
       "<div>\n",
       "<style scoped>\n",
       "    .dataframe tbody tr th:only-of-type {\n",
       "        vertical-align: middle;\n",
       "    }\n",
       "\n",
       "    .dataframe tbody tr th {\n",
       "        vertical-align: top;\n",
       "    }\n",
       "\n",
       "    .dataframe thead th {\n",
       "        text-align: right;\n",
       "    }\n",
       "</style>\n",
       "<table border=\"1\" class=\"dataframe\">\n",
       "  <thead>\n",
       "    <tr style=\"text-align: right;\">\n",
       "      <th></th>\n",
       "      <th>user_id</th>\n",
       "      <th>item_id</th>\n",
       "      <th>rcen</th>\n",
       "      <th>freq</th>\n",
       "      <th>pv_flag</th>\n",
       "    </tr>\n",
       "  </thead>\n",
       "  <tbody>\n",
       "    <tr>\n",
       "      <th>0</th>\n",
       "      <td>4</td>\n",
       "      <td>205587</td>\n",
       "      <td>4</td>\n",
       "      <td>1</td>\n",
       "      <td>0.0</td>\n",
       "    </tr>\n",
       "    <tr>\n",
       "      <th>1</th>\n",
       "      <td>4</td>\n",
       "      <td>748683</td>\n",
       "      <td>4</td>\n",
       "      <td>1</td>\n",
       "      <td>0.0</td>\n",
       "    </tr>\n",
       "    <tr>\n",
       "      <th>2</th>\n",
       "      <td>4</td>\n",
       "      <td>790055</td>\n",
       "      <td>4</td>\n",
       "      <td>3</td>\n",
       "      <td>0.0</td>\n",
       "    </tr>\n",
       "    <tr>\n",
       "      <th>3</th>\n",
       "      <td>4</td>\n",
       "      <td>764638</td>\n",
       "      <td>4</td>\n",
       "      <td>2</td>\n",
       "      <td>0.0</td>\n",
       "    </tr>\n",
       "    <tr>\n",
       "      <th>4</th>\n",
       "      <td>4</td>\n",
       "      <td>492434</td>\n",
       "      <td>4</td>\n",
       "      <td>1</td>\n",
       "      <td>0.0</td>\n",
       "    </tr>\n",
       "  </tbody>\n",
       "</table>\n",
       "</div>"
      ],
      "text/plain": [
       "   user_id  item_id  rcen  freq  pv_flag\n",
       "0        4   205587     4     1      0.0\n",
       "1        4   748683     4     1      0.0\n",
       "2        4   790055     4     3      0.0\n",
       "3        4   764638     4     2      0.0\n",
       "4        4   492434     4     1      0.0"
      ]
     },
     "execution_count": 20,
     "metadata": {},
     "output_type": "execute_result"
    }
   ],
   "source": [
    "# tar_dfの(再)確認\n",
    "print(len(tar_df))\n",
    "tar_df.head()"
   ]
  },
  {
   "cell_type": "code",
   "execution_count": 21,
   "metadata": {},
   "outputs": [],
   "source": [
    "# 最新度(rcen)と頻度(freq)に対する総件数と再閲覧件数の算出\n",
    "RF2N = {}\n",
    "RF2PV = {}\n",
    "for row in tar_df.itertuples():\n",
    "    RF2N.setdefault((row.rcen, row.freq), 0)\n",
    "    RF2PV.setdefault((row.rcen, row.freq), 0)\n",
    "    RF2N[row.rcen, row.freq] += 1\n",
    "    if row.pv_flag == 1:\n",
    "        RF2PV[row.rcen, row.freq] += 1"
   ]
  },
  {
   "cell_type": "code",
   "execution_count": 22,
   "metadata": {},
   "outputs": [],
   "source": [
    "# 最新度(rcen)と頻度(freq)に対する再閲覧確率の算出\n",
    "RF2Prob = {}\n",
    "for rf, N in RF2N.items():\n",
    "    RF2Prob[rf] = RF2PV[rf] / N"
   ]
  },
  {
   "cell_type": "code",
   "execution_count": 23,
   "metadata": {},
   "outputs": [
    {
     "name": "stdout",
     "output_type": "stream",
     "text": [
      "49\n"
     ]
    },
    {
     "data": {
      "text/html": [
       "<div>\n",
       "<style scoped>\n",
       "    .dataframe tbody tr th:only-of-type {\n",
       "        vertical-align: middle;\n",
       "    }\n",
       "\n",
       "    .dataframe tbody tr th {\n",
       "        vertical-align: top;\n",
       "    }\n",
       "\n",
       "    .dataframe thead th {\n",
       "        text-align: right;\n",
       "    }\n",
       "</style>\n",
       "<table border=\"1\" class=\"dataframe\">\n",
       "  <thead>\n",
       "    <tr style=\"text-align: right;\">\n",
       "      <th></th>\n",
       "      <th>rcen</th>\n",
       "      <th>freq</th>\n",
       "      <th>N</th>\n",
       "      <th>pv</th>\n",
       "      <th>prob</th>\n",
       "    </tr>\n",
       "  </thead>\n",
       "  <tbody>\n",
       "    <tr>\n",
       "      <th>0</th>\n",
       "      <td>1</td>\n",
       "      <td>1</td>\n",
       "      <td>19602</td>\n",
       "      <td>245</td>\n",
       "      <td>0.012499</td>\n",
       "    </tr>\n",
       "    <tr>\n",
       "      <th>1</th>\n",
       "      <td>1</td>\n",
       "      <td>2</td>\n",
       "      <td>3323</td>\n",
       "      <td>132</td>\n",
       "      <td>0.039723</td>\n",
       "    </tr>\n",
       "    <tr>\n",
       "      <th>2</th>\n",
       "      <td>1</td>\n",
       "      <td>3</td>\n",
       "      <td>1120</td>\n",
       "      <td>81</td>\n",
       "      <td>0.072321</td>\n",
       "    </tr>\n",
       "    <tr>\n",
       "      <th>3</th>\n",
       "      <td>1</td>\n",
       "      <td>4</td>\n",
       "      <td>539</td>\n",
       "      <td>36</td>\n",
       "      <td>0.066790</td>\n",
       "    </tr>\n",
       "    <tr>\n",
       "      <th>4</th>\n",
       "      <td>1</td>\n",
       "      <td>5</td>\n",
       "      <td>285</td>\n",
       "      <td>36</td>\n",
       "      <td>0.126316</td>\n",
       "    </tr>\n",
       "  </tbody>\n",
       "</table>\n",
       "</div>"
      ],
      "text/plain": [
       "   rcen  freq      N   pv      prob\n",
       "0     1     1  19602  245  0.012499\n",
       "1     1     2   3323  132  0.039723\n",
       "2     1     3   1120   81  0.072321\n",
       "3     1     4    539   36  0.066790\n",
       "4     1     5    285   36  0.126316"
      ]
     },
     "execution_count": 23,
     "metadata": {},
     "output_type": "execute_result"
    }
   ],
   "source": [
    "# 最新度(rcen)と頻度(freq)に対して総件数、再閲覧件数、再閲覧確率を対応付けるデータの作成\n",
    "Rows3 = []\n",
    "for rf, N in sorted(RF2N.items()):\n",
    "    pv = RF2PV[rf]\n",
    "    prob = RF2Prob[rf]\n",
    "    row = (rf[0], rf[1], N, pv, prob)\n",
    "    Rows3.append(row)\n",
    "rf_df = pd.DataFrame(Rows3, columns = ['rcen', 'freq', 'N', 'pv', 'prob'])\n",
    "print(len(rf_df))\n",
    "rf_df.head()"
   ]
  },
  {
   "cell_type": "code",
   "execution_count": 24,
   "metadata": {},
   "outputs": [
    {
     "data": {
      "text/html": [
       "<div>\n",
       "<style scoped>\n",
       "    .dataframe tbody tr th:only-of-type {\n",
       "        vertical-align: middle;\n",
       "    }\n",
       "\n",
       "    .dataframe tbody tr th {\n",
       "        vertical-align: top;\n",
       "    }\n",
       "\n",
       "    .dataframe thead th {\n",
       "        text-align: right;\n",
       "    }\n",
       "</style>\n",
       "<table border=\"1\" class=\"dataframe\">\n",
       "  <thead>\n",
       "    <tr style=\"text-align: right;\">\n",
       "      <th>freq</th>\n",
       "      <th>1</th>\n",
       "      <th>2</th>\n",
       "      <th>3</th>\n",
       "      <th>4</th>\n",
       "      <th>5</th>\n",
       "      <th>6</th>\n",
       "      <th>7</th>\n",
       "    </tr>\n",
       "    <tr>\n",
       "      <th>rcen</th>\n",
       "      <th></th>\n",
       "      <th></th>\n",
       "      <th></th>\n",
       "      <th></th>\n",
       "      <th></th>\n",
       "      <th></th>\n",
       "      <th></th>\n",
       "    </tr>\n",
       "  </thead>\n",
       "  <tbody>\n",
       "    <tr>\n",
       "      <th>1</th>\n",
       "      <td>0.012499</td>\n",
       "      <td>0.039723</td>\n",
       "      <td>0.072321</td>\n",
       "      <td>0.066790</td>\n",
       "      <td>0.126316</td>\n",
       "      <td>0.112994</td>\n",
       "      <td>0.175000</td>\n",
       "    </tr>\n",
       "    <tr>\n",
       "      <th>2</th>\n",
       "      <td>0.005856</td>\n",
       "      <td>0.021189</td>\n",
       "      <td>0.026973</td>\n",
       "      <td>0.056645</td>\n",
       "      <td>0.066225</td>\n",
       "      <td>0.098765</td>\n",
       "      <td>0.063830</td>\n",
       "    </tr>\n",
       "    <tr>\n",
       "      <th>3</th>\n",
       "      <td>0.006107</td>\n",
       "      <td>0.023230</td>\n",
       "      <td>0.039621</td>\n",
       "      <td>0.053265</td>\n",
       "      <td>0.039427</td>\n",
       "      <td>0.054054</td>\n",
       "      <td>0.050420</td>\n",
       "    </tr>\n",
       "    <tr>\n",
       "      <th>4</th>\n",
       "      <td>0.005454</td>\n",
       "      <td>0.015366</td>\n",
       "      <td>0.024521</td>\n",
       "      <td>0.046901</td>\n",
       "      <td>0.036667</td>\n",
       "      <td>0.037838</td>\n",
       "      <td>0.018349</td>\n",
       "    </tr>\n",
       "    <tr>\n",
       "      <th>5</th>\n",
       "      <td>0.004376</td>\n",
       "      <td>0.015504</td>\n",
       "      <td>0.023673</td>\n",
       "      <td>0.014925</td>\n",
       "      <td>0.021898</td>\n",
       "      <td>0.028902</td>\n",
       "      <td>0.030612</td>\n",
       "    </tr>\n",
       "    <tr>\n",
       "      <th>6</th>\n",
       "      <td>0.004456</td>\n",
       "      <td>0.009848</td>\n",
       "      <td>0.024514</td>\n",
       "      <td>0.019569</td>\n",
       "      <td>0.008511</td>\n",
       "      <td>0.024793</td>\n",
       "      <td>0.025316</td>\n",
       "    </tr>\n",
       "    <tr>\n",
       "      <th>7</th>\n",
       "      <td>0.004256</td>\n",
       "      <td>0.009086</td>\n",
       "      <td>0.014056</td>\n",
       "      <td>0.023377</td>\n",
       "      <td>0.009091</td>\n",
       "      <td>0.020408</td>\n",
       "      <td>0.000000</td>\n",
       "    </tr>\n",
       "  </tbody>\n",
       "</table>\n",
       "</div>"
      ],
      "text/plain": [
       "freq         1         2         3         4         5         6         7\n",
       "rcen                                                                      \n",
       "1     0.012499  0.039723  0.072321  0.066790  0.126316  0.112994  0.175000\n",
       "2     0.005856  0.021189  0.026973  0.056645  0.066225  0.098765  0.063830\n",
       "3     0.006107  0.023230  0.039621  0.053265  0.039427  0.054054  0.050420\n",
       "4     0.005454  0.015366  0.024521  0.046901  0.036667  0.037838  0.018349\n",
       "5     0.004376  0.015504  0.023673  0.014925  0.021898  0.028902  0.030612\n",
       "6     0.004456  0.009848  0.024514  0.019569  0.008511  0.024793  0.025316\n",
       "7     0.004256  0.009086  0.014056  0.023377  0.009091  0.020408  0.000000"
      ]
     },
     "execution_count": 24,
     "metadata": {},
     "output_type": "execute_result"
    }
   ],
   "source": [
    "# 横持ち（テーブル形式）で確認\n",
    "rf_df.pivot_table(index='rcen', columns='freq', values='prob')"
   ]
  },
  {
   "cell_type": "code",
   "execution_count": 25,
   "metadata": {},
   "outputs": [],
   "source": [
    "# データの可視化に必要なライブラリ群を取り込む\n",
    "import numpy as np\n",
    "from mpl_toolkits.mplot3d import Axes3D\n",
    "import matplotlib.pyplot as plt"
   ]
  },
  {
   "cell_type": "code",
   "execution_count": 26,
   "metadata": {},
   "outputs": [
    {
     "data": {
      "text/plain": [
       "<mpl_toolkits.mplot3d.art3d.Line3DCollection at 0x1205453a0>"
      ]
     },
     "execution_count": 26,
     "metadata": {},
     "output_type": "execute_result"
    },
    {
     "data": {
      "image/png": "[encoded data removed]",
      "text/plain": [
       "<Figure size 432x288 with 1 Axes>"
      ]
     },
     "metadata": {
      "needs_background": "light"
     },
     "output_type": "display_data"
    }
   ],
   "source": [
    "# 最新度(rcen)と頻度(freq)に対して再閲覧確率を対応付ける3Dグラフの作成\n",
    "Freq = rf_df['freq'].unique().tolist()\n",
    "Rcen = rf_df['rcen'].unique().tolist()\n",
    "Z = [rf_df[(rf_df['freq']==freq) & (rf_df['rcen']==rcen)]['prob'].iloc[0] for freq in Freq for rcen in Rcen]\n",
    "Z = np.array(Z).reshape((len(Freq), len(Rcen)))\n",
    "X, Y = np.meshgrid(Rcen, Freq)  \n",
    "fig = plt.figure()\n",
    "ax = fig.add_subplot(111\n",
    "                     , projection=\"3d\"\n",
    "                     , xlabel='rcen'\n",
    "                     , ylabel='freq'\n",
    "                     , zlabel='prob'\n",
    "                    )\n",
    "ax.plot_wireframe(X, Y, Z)"
   ]
  },
  {
   "cell_type": "markdown",
   "metadata": {},
   "source": [
    "### **②数理最適化モデル** "
   ]
  },
  {
   "cell_type": "code",
   "execution_count": 27,
   "metadata": {},
   "outputs": [],
   "source": [
    "import cvxopt"
   ]
  },
  {
   "cell_type": "markdown",
   "metadata": {},
   "source": [
    "(1)`rcen`と`freq`に対して再閲覧確率`pred_prob`|を推定する"
   ]
  },
  {
   "cell_type": "code",
   "execution_count": 28,
   "metadata": {},
   "outputs": [
    {
     "name": "stdout",
     "output_type": "stream",
     "text": [
      "[1, 2, 3, 4, 5, 6, 7]\n",
      "[1, 2, 3, 4, 5, 6, 7]\n"
     ]
    }
   ],
   "source": [
    "# 最新度(rcen)のリストと頻度(freq)のリストの作成\n",
    "R = sorted(tar_df['rcen'].unique().tolist())\n",
    "F = sorted(tar_df['freq'].unique().tolist())\n",
    "print(R)\n",
    "print(F)"
   ]
  },
  {
   "cell_type": "code",
   "execution_count": 29,
   "metadata": {},
   "outputs": [
    {
     "name": "stdout",
     "output_type": "stream",
     "text": [
      "[0, 1, 2, 3, 4, 5, 6, 7, 8, 9, 10, 11, 12, 13, 14, 15, 16, 17, 18, 19, 20, 21, 22, 23, 24, 25, 26, 27, 28, 29, 30, 31, 32, 33, 34, 35, 36, 37, 38, 39, 40, 41, 42, 43, 44, 45, 46, 47, 48]\n",
      "{(1, 1): 0, (1, 2): 1, (1, 3): 2, (1, 4): 3, (1, 5): 4, (1, 6): 5, (1, 7): 6, (2, 1): 7, (2, 2): 8, (2, 3): 9, (2, 4): 10, (2, 5): 11, (2, 6): 12, (2, 7): 13, (3, 1): 14, (3, 2): 15, (3, 3): 16, (3, 4): 17, (3, 5): 18, (3, 6): 19, (3, 7): 20, (4, 1): 21, (4, 2): 22, (4, 3): 23, (4, 4): 24, (4, 5): 25, (4, 6): 26, (4, 7): 27, (5, 1): 28, (5, 2): 29, (5, 3): 30, (5, 4): 31, (5, 5): 32, (5, 6): 33, (5, 7): 34, (6, 1): 35, (6, 2): 36, (6, 3): 37, (6, 4): 38, (6, 5): 39, (6, 6): 40, (6, 7): 41, (7, 1): 42, (7, 2): 43, (7, 3): 44, (7, 4): 45, (7, 5): 46, (7, 6): 47, (7, 7): 48}\n"
     ]
    }
   ],
   "source": [
    "# 最新度(rcen)と頻度(freq)のペアに対して変数の索引を作成する（何番目の変数かを決める）\n",
    "Idx = []\n",
    "RF2Idx = {}\n",
    "idx = 0\n",
    "for r in R:\n",
    "    for f in F:\n",
    "        Idx.append(idx)\n",
    "        RF2Idx[r, f] = idx \n",
    "        idx += 1\n",
    "print(Idx)\n",
    "print(RF2Idx)"
   ]
  },
  {
   "cell_type": "code",
   "execution_count": 30,
   "metadata": {},
   "outputs": [],
   "source": [
    "# 制約の定義に用いる行列Gとベクトルhを作成するための準備\n",
    "G_list = []\n",
    "h_list = []\n",
    "var_vec = [0.0] * len(Idx)"
   ]
  },
  {
   "cell_type": "code",
   "execution_count": 31,
   "metadata": {},
   "outputs": [],
   "source": [
    "# - pred_prob[r,f] <= 0 のモデリング\n",
    "for r in R:\n",
    "    for f in F:\n",
    "        idx = RF2Idx[r,f]\n",
    "        G_row = var_vec[:]\n",
    "        G_row[idx] = -1 # pred_prob[r,f]の係数は-1\n",
    "        G_list.append(G_row)\n",
    "        h_list.append(0) # 右辺は定数項0\n",
    "        \n",
    "# pred_prob[r,f] <= 1 のモデリング\n",
    "for r in R:\n",
    "    for f in F:\n",
    "        idx = RF2Idx[r,f]\n",
    "        G_row = var_vec[:]\n",
    "        G_row[idx] = 1 # pred_prob[r,f]の係数は1\n",
    "        G_list.append(G_row)\n",
    "        h_list.append(1) # 右辺は定数項1       "
   ]
  },
  {
   "cell_type": "markdown",
   "metadata": {},
   "source": [
    "(2)`pred_prob`は`rcen`について単調減少する"
   ]
  },
  {
   "cell_type": "code",
   "execution_count": 32,
   "metadata": {},
   "outputs": [],
   "source": [
    "# - pred_prob[r,f] + pred_prob[r+1,f] <= 0 のモデリング\n",
    "for r in R[:-1]:\n",
    "    for f in F:\n",
    "        idx1 = RF2Idx[r,f]\n",
    "        idx2 = RF2Idx[r+1,f]\n",
    "        G_row = var_vec[:]\n",
    "        G_row[idx1] = -1 # pred_prob[r,f]の係数は-1\n",
    "        G_row[idx2] = 1  # pred_prob[r+1,f]の係数は1\n",
    "        G_list.append(G_row)\n",
    "        h_list.append(0) # 右辺は定数項0"
   ]
  },
  {
   "cell_type": "markdown",
   "metadata": {},
   "source": [
    "(3)`pred_prob`は`freq`について単調増加する"
   ]
  },
  {
   "cell_type": "code",
   "execution_count": 33,
   "metadata": {},
   "outputs": [],
   "source": [
    "# pred_prob[r,f] - pred_prob[r,f+1] <= 0 のモデリング\n",
    "for r in R:\n",
    "    for f in F[:-1]:\n",
    "        idx1 = RF2Idx[r,f]\n",
    "        idx2 = RF2Idx[r,f+1]\n",
    "        G_row = var_vec[:]\n",
    "        G_row[idx1] = 1  # pred_prob[r,f]の係数は1\n",
    "        G_row[idx2] = -1 # pred_prob[r,f+1]の係数は-1\n",
    "        G_list.append(G_row)\n",
    "        h_list.append(0) # 右辺は定数項0"
   ]
  },
  {
   "cell_type": "markdown",
   "metadata": {},
   "source": [
    "(4)`pred_prob`と`prob`の二乗誤差を総件数の重み付きで最小化する"
   ]
  },
  {
   "cell_type": "code",
   "execution_count": 34,
   "metadata": {},
   "outputs": [],
   "source": [
    "# 目的関数の定義に用いる行列Pとベクトルqを作成するための準備\n",
    "P_list = []\n",
    "q_list = []"
   ]
  },
  {
   "cell_type": "code",
   "execution_count": 35,
   "metadata": {},
   "outputs": [],
   "source": [
    "# N[r,f] * pred_prob[r,f]^2 - 2 * N[r,f] * pred_prob[r,f] のモデリング\n",
    "for r in R:\n",
    "    for f in F:\n",
    "        idx = RF2Idx[r,f]\n",
    "        N = RF2N[r,f]\n",
    "        prob = RF2Prob[r,f]\n",
    "        P_row = var_vec[:]\n",
    "        P_row[idx] = 2 * N # (1/2)を打ち消すために2を掛ける\n",
    "        P_list.append(P_row)\n",
    "        ｑ_list.append( - 2 * N * prob)"
   ]
  },
  {
   "cell_type": "code",
   "execution_count": 36,
   "metadata": {},
   "outputs": [],
   "source": [
    "# 行列の作成\n",
    "G = cvxopt.matrix(np.array(G_list), tc='d')\n",
    "h = cvxopt.matrix(np.array(h_list), tc='d')\n",
    "P = cvxopt.matrix(np.array(P_list), tc='d')\n",
    "q = cvxopt.matrix(np.array(q_list), tc='d')"
   ]
  },
  {
   "cell_type": "code",
   "execution_count": 37,
   "metadata": {},
   "outputs": [
    {
     "name": "stdout",
     "output_type": "stream",
     "text": [
      "     pcost       dcost       gap    pres   dres\n",
      " 0: -5.2389e+01 -1.0625e+02  4e+02  2e+00  1e-02\n",
      " 1: -5.2153e+01 -7.1273e+01  3e+01  5e-02  3e-04\n",
      " 2: -5.2167e+01 -5.9818e+01  1e+01  2e-02  1e-04\n",
      " 3: -5.1831e+01 -5.4852e+01  3e+00  2e-03  1e-05\n",
      " 4: -5.1954e+01 -5.2335e+01  4e-01  2e-04  1e-06\n",
      " 5: -5.1980e+01 -5.2002e+01  2e-02  4e-06  3e-08\n",
      " 6: -5.1983e+01 -5.1983e+01  8e-04  1e-07  7e-10\n",
      " 7: -5.1983e+01 -5.1983e+01  3e-05  2e-09  1e-11\n",
      "Optimal solution found.\n"
     ]
    },
    {
     "data": {
      "text/plain": [
       "'optimal'"
      ]
     },
     "execution_count": 37,
     "metadata": {},
     "output_type": "execute_result"
    }
   ],
   "source": [
    "# 求解\n",
    "sol = cvxopt.solvers.qp(P, q, G, h)\n",
    "status = sol['status']\n",
    "status"
   ]
  },
  {
   "cell_type": "code",
   "execution_count": 38,
   "metadata": {},
   "outputs": [
    {
     "data": {
      "text/html": [
       "<div>\n",
       "<style scoped>\n",
       "    .dataframe tbody tr th:only-of-type {\n",
       "        vertical-align: middle;\n",
       "    }\n",
       "\n",
       "    .dataframe tbody tr th {\n",
       "        vertical-align: top;\n",
       "    }\n",
       "\n",
       "    .dataframe thead th {\n",
       "        text-align: right;\n",
       "    }\n",
       "</style>\n",
       "<table border=\"1\" class=\"dataframe\">\n",
       "  <thead>\n",
       "    <tr style=\"text-align: right;\">\n",
       "      <th></th>\n",
       "      <th>rcen</th>\n",
       "      <th>freq</th>\n",
       "      <th>N</th>\n",
       "      <th>pv</th>\n",
       "      <th>prob</th>\n",
       "      <th>pred_prob</th>\n",
       "    </tr>\n",
       "  </thead>\n",
       "  <tbody>\n",
       "    <tr>\n",
       "      <th>0</th>\n",
       "      <td>1</td>\n",
       "      <td>1</td>\n",
       "      <td>19602</td>\n",
       "      <td>245</td>\n",
       "      <td>0.012499</td>\n",
       "      <td>0.012499</td>\n",
       "    </tr>\n",
       "    <tr>\n",
       "      <th>1</th>\n",
       "      <td>1</td>\n",
       "      <td>2</td>\n",
       "      <td>3323</td>\n",
       "      <td>132</td>\n",
       "      <td>0.039723</td>\n",
       "      <td>0.039723</td>\n",
       "    </tr>\n",
       "    <tr>\n",
       "      <th>2</th>\n",
       "      <td>1</td>\n",
       "      <td>3</td>\n",
       "      <td>1120</td>\n",
       "      <td>81</td>\n",
       "      <td>0.072321</td>\n",
       "      <td>0.070524</td>\n",
       "    </tr>\n",
       "    <tr>\n",
       "      <th>3</th>\n",
       "      <td>1</td>\n",
       "      <td>4</td>\n",
       "      <td>539</td>\n",
       "      <td>36</td>\n",
       "      <td>0.066790</td>\n",
       "      <td>0.070524</td>\n",
       "    </tr>\n",
       "    <tr>\n",
       "      <th>4</th>\n",
       "      <td>1</td>\n",
       "      <td>5</td>\n",
       "      <td>285</td>\n",
       "      <td>36</td>\n",
       "      <td>0.126316</td>\n",
       "      <td>0.121212</td>\n",
       "    </tr>\n",
       "  </tbody>\n",
       "</table>\n",
       "</div>"
      ],
      "text/plain": [
       "   rcen  freq      N   pv      prob  pred_prob\n",
       "0     1     1  19602  245  0.012499   0.012499\n",
       "1     1     2   3323  132  0.039723   0.039723\n",
       "2     1     3   1120   81  0.072321   0.070524\n",
       "3     1     4    539   36  0.066790   0.070524\n",
       "4     1     5    285   36  0.126316   0.121212"
      ]
     },
     "execution_count": 38,
     "metadata": {},
     "output_type": "execute_result"
    }
   ],
   "source": [
    "# 最新度(rcen)と頻度(freq)に対応する推定した再閲覧確率の辞書を作成\n",
    "RF2PredProb = {}\n",
    "X = sol['x']\n",
    "for r in R:\n",
    "    for f in F:\n",
    "        idx = RF2Idx[r,f]\n",
    "        pred_prob = X[idx]\n",
    "        RF2PredProb[r,f] = pred_prob\n",
    "rf_df['pred_prob'] = rf_df.apply(lambda x:RF2PredProb[x['rcen'], x['freq']], axis=1)\n",
    "rf_df.head()        "
   ]
  },
  {
   "cell_type": "markdown",
   "metadata": {},
   "source": [
    "### **7.5 数理モデルの検証**"
   ]
  },
  {
   "cell_type": "markdown",
   "metadata": {},
   "source": [
    "### ①数理モデルの確認"
   ]
  },
  {
   "cell_type": "code",
   "execution_count": 39,
   "metadata": {},
   "outputs": [
    {
     "data": {
      "text/html": [
       "<div>\n",
       "<style scoped>\n",
       "    .dataframe tbody tr th:only-of-type {\n",
       "        vertical-align: middle;\n",
       "    }\n",
       "\n",
       "    .dataframe tbody tr th {\n",
       "        vertical-align: top;\n",
       "    }\n",
       "\n",
       "    .dataframe thead th {\n",
       "        text-align: right;\n",
       "    }\n",
       "</style>\n",
       "<table border=\"1\" class=\"dataframe\">\n",
       "  <thead>\n",
       "    <tr style=\"text-align: right;\">\n",
       "      <th>freq</th>\n",
       "      <th>1</th>\n",
       "      <th>2</th>\n",
       "      <th>3</th>\n",
       "      <th>4</th>\n",
       "      <th>5</th>\n",
       "      <th>6</th>\n",
       "      <th>7</th>\n",
       "    </tr>\n",
       "    <tr>\n",
       "      <th>rcen</th>\n",
       "      <th></th>\n",
       "      <th></th>\n",
       "      <th></th>\n",
       "      <th></th>\n",
       "      <th></th>\n",
       "      <th></th>\n",
       "      <th></th>\n",
       "    </tr>\n",
       "  </thead>\n",
       "  <tbody>\n",
       "    <tr>\n",
       "      <th>1</th>\n",
       "      <td>0.012499</td>\n",
       "      <td>0.039723</td>\n",
       "      <td>0.070524</td>\n",
       "      <td>0.070524</td>\n",
       "      <td>0.121212</td>\n",
       "      <td>0.121212</td>\n",
       "      <td>0.175000</td>\n",
       "    </tr>\n",
       "    <tr>\n",
       "      <th>2</th>\n",
       "      <td>0.005992</td>\n",
       "      <td>0.022278</td>\n",
       "      <td>0.033765</td>\n",
       "      <td>0.056645</td>\n",
       "      <td>0.066225</td>\n",
       "      <td>0.085938</td>\n",
       "      <td>0.085938</td>\n",
       "    </tr>\n",
       "    <tr>\n",
       "      <th>3</th>\n",
       "      <td>0.005992</td>\n",
       "      <td>0.022278</td>\n",
       "      <td>0.033765</td>\n",
       "      <td>0.048780</td>\n",
       "      <td>0.048780</td>\n",
       "      <td>0.052631</td>\n",
       "      <td>0.052632</td>\n",
       "    </tr>\n",
       "    <tr>\n",
       "      <th>4</th>\n",
       "      <td>0.005454</td>\n",
       "      <td>0.015436</td>\n",
       "      <td>0.024521</td>\n",
       "      <td>0.040302</td>\n",
       "      <td>0.040302</td>\n",
       "      <td>0.040302</td>\n",
       "      <td>0.040302</td>\n",
       "    </tr>\n",
       "    <tr>\n",
       "      <th>5</th>\n",
       "      <td>0.004417</td>\n",
       "      <td>0.015433</td>\n",
       "      <td>0.021029</td>\n",
       "      <td>0.021029</td>\n",
       "      <td>0.021903</td>\n",
       "      <td>0.028900</td>\n",
       "      <td>0.030615</td>\n",
       "    </tr>\n",
       "    <tr>\n",
       "      <th>6</th>\n",
       "      <td>0.004417</td>\n",
       "      <td>0.009848</td>\n",
       "      <td>0.021026</td>\n",
       "      <td>0.021026</td>\n",
       "      <td>0.021026</td>\n",
       "      <td>0.024746</td>\n",
       "      <td>0.025389</td>\n",
       "    </tr>\n",
       "    <tr>\n",
       "      <th>7</th>\n",
       "      <td>0.004256</td>\n",
       "      <td>0.009086</td>\n",
       "      <td>0.014056</td>\n",
       "      <td>0.017426</td>\n",
       "      <td>0.017426</td>\n",
       "      <td>0.017426</td>\n",
       "      <td>0.017426</td>\n",
       "    </tr>\n",
       "  </tbody>\n",
       "</table>\n",
       "</div>"
      ],
      "text/plain": [
       "freq         1         2         3         4         5         6         7\n",
       "rcen                                                                      \n",
       "1     0.012499  0.039723  0.070524  0.070524  0.121212  0.121212  0.175000\n",
       "2     0.005992  0.022278  0.033765  0.056645  0.066225  0.085938  0.085938\n",
       "3     0.005992  0.022278  0.033765  0.048780  0.048780  0.052631  0.052632\n",
       "4     0.005454  0.015436  0.024521  0.040302  0.040302  0.040302  0.040302\n",
       "5     0.004417  0.015433  0.021029  0.021029  0.021903  0.028900  0.030615\n",
       "6     0.004417  0.009848  0.021026  0.021026  0.021026  0.024746  0.025389\n",
       "7     0.004256  0.009086  0.014056  0.017426  0.017426  0.017426  0.017426"
      ]
     },
     "execution_count": 39,
     "metadata": {},
     "output_type": "execute_result"
    }
   ],
   "source": [
    "# 横持ちのデータに変更\n",
    "rf_df.pivot_table(index='rcen', columns='freq', values='pred_prob')"
   ]
  },
  {
   "cell_type": "code",
   "execution_count": 40,
   "metadata": {},
   "outputs": [
    {
     "data": {
      "text/plain": [
       "<mpl_toolkits.mplot3d.art3d.Line3DCollection at 0x120725550>"
      ]
     },
     "execution_count": 40,
     "metadata": {},
     "output_type": "execute_result"
    },
    {
     "data": {
      "image/png": "[encoded data removed]",
      "text/plain": [
       "<Figure size 432x288 with 1 Axes>"
      ]
     },
     "metadata": {
      "needs_background": "light"
     },
     "output_type": "display_data"
    }
   ],
   "source": [
    "# 最新度(rcen)と頻度(freq)に対して推定した再閲覧確率を対応付ける3Dグラフの作成\n",
    "Freq = rf_df.freq.unique().tolist()\n",
    "Rcen = rf_df.rcen.unique().tolist()\n",
    "Z = [rf_df[(rf_df['freq']==freq) & (rf_df['rcen']==rcen)]['pred_prob'].iloc[0] for freq in Freq for rcen in Rcen]\n",
    "Z = np.array(Z).reshape((len(Freq), len(Rcen)))\n",
    "X, Y = np.meshgrid(Rcen, Freq)  \n",
    "fig = plt.figure()\n",
    "ax = fig.add_subplot(111\n",
    "                     , projection=\"3d\"\n",
    "                     , xlabel='rcen'\n",
    "                     , ylabel='freq'\n",
    "                     , zlabel='pred_prob'\n",
    "                    )\n",
    "ax.plot_wireframe(X, Y, Z)"
   ]
  },
  {
   "cell_type": "markdown",
   "metadata": {},
   "source": [
    "### **②数理モデルの適用**"
   ]
  },
  {
   "cell_type": "code",
   "execution_count": 41,
   "metadata": {},
   "outputs": [
    {
     "data": {
      "text/html": [
       "<div>\n",
       "<style scoped>\n",
       "    .dataframe tbody tr th:only-of-type {\n",
       "        vertical-align: middle;\n",
       "    }\n",
       "\n",
       "    .dataframe tbody tr th {\n",
       "        vertical-align: top;\n",
       "    }\n",
       "\n",
       "    .dataframe thead th {\n",
       "        text-align: right;\n",
       "    }\n",
       "</style>\n",
       "<table border=\"1\" class=\"dataframe\">\n",
       "  <thead>\n",
       "    <tr style=\"text-align: right;\">\n",
       "      <th></th>\n",
       "      <th>item_name</th>\n",
       "      <th>rcen</th>\n",
       "      <th>freq</th>\n",
       "    </tr>\n",
       "  </thead>\n",
       "  <tbody>\n",
       "    <tr>\n",
       "      <th>0</th>\n",
       "      <td>item1</td>\n",
       "      <td>1</td>\n",
       "      <td>6</td>\n",
       "    </tr>\n",
       "    <tr>\n",
       "      <th>1</th>\n",
       "      <td>item2</td>\n",
       "      <td>2</td>\n",
       "      <td>2</td>\n",
       "    </tr>\n",
       "    <tr>\n",
       "      <th>2</th>\n",
       "      <td>item3</td>\n",
       "      <td>1</td>\n",
       "      <td>2</td>\n",
       "    </tr>\n",
       "    <tr>\n",
       "      <th>3</th>\n",
       "      <td>item4</td>\n",
       "      <td>1</td>\n",
       "      <td>1</td>\n",
       "    </tr>\n",
       "  </tbody>\n",
       "</table>\n",
       "</div>"
      ],
      "text/plain": [
       "  item_name  rcen  freq\n",
       "0     item1     1     6\n",
       "1     item2     2     2\n",
       "2     item3     1     2\n",
       "3     item4     1     1"
      ]
     },
     "execution_count": 41,
     "metadata": {},
     "output_type": "execute_result"
    }
   ],
   "source": [
    "# はじめに紹介したデータを作成\n",
    "Rows4 = [('item1', 1, 6)\n",
    "        , ('item2', 2, 2)\n",
    "        , ('item3', 1, 2)\n",
    "        , ('item4', 1, 1)\n",
    "        ]\n",
    "sample_df = pd.DataFrame(Rows4, columns=['item_name', 'rcen', 'freq'])\n",
    "sample_df"
   ]
  },
  {
   "cell_type": "code",
   "execution_count": 42,
   "metadata": {},
   "outputs": [
    {
     "data": {
      "text/html": [
       "<div>\n",
       "<style scoped>\n",
       "    .dataframe tbody tr th:only-of-type {\n",
       "        vertical-align: middle;\n",
       "    }\n",
       "\n",
       "    .dataframe tbody tr th {\n",
       "        vertical-align: top;\n",
       "    }\n",
       "\n",
       "    .dataframe thead th {\n",
       "        text-align: right;\n",
       "    }\n",
       "</style>\n",
       "<table border=\"1\" class=\"dataframe\">\n",
       "  <thead>\n",
       "    <tr style=\"text-align: right;\">\n",
       "      <th></th>\n",
       "      <th>item_name</th>\n",
       "      <th>rcen</th>\n",
       "      <th>freq</th>\n",
       "      <th>N</th>\n",
       "      <th>pv</th>\n",
       "      <th>prob</th>\n",
       "      <th>pred_prob</th>\n",
       "    </tr>\n",
       "  </thead>\n",
       "  <tbody>\n",
       "    <tr>\n",
       "      <th>0</th>\n",
       "      <td>item1</td>\n",
       "      <td>1</td>\n",
       "      <td>6</td>\n",
       "      <td>177</td>\n",
       "      <td>20</td>\n",
       "      <td>0.112994</td>\n",
       "      <td>0.121212</td>\n",
       "    </tr>\n",
       "    <tr>\n",
       "      <th>1</th>\n",
       "      <td>item2</td>\n",
       "      <td>2</td>\n",
       "      <td>2</td>\n",
       "      <td>3162</td>\n",
       "      <td>67</td>\n",
       "      <td>0.021189</td>\n",
       "      <td>0.022278</td>\n",
       "    </tr>\n",
       "    <tr>\n",
       "      <th>2</th>\n",
       "      <td>item3</td>\n",
       "      <td>1</td>\n",
       "      <td>2</td>\n",
       "      <td>3323</td>\n",
       "      <td>132</td>\n",
       "      <td>0.039723</td>\n",
       "      <td>0.039723</td>\n",
       "    </tr>\n",
       "    <tr>\n",
       "      <th>3</th>\n",
       "      <td>item4</td>\n",
       "      <td>1</td>\n",
       "      <td>1</td>\n",
       "      <td>19602</td>\n",
       "      <td>245</td>\n",
       "      <td>0.012499</td>\n",
       "      <td>0.012499</td>\n",
       "    </tr>\n",
       "  </tbody>\n",
       "</table>\n",
       "</div>"
      ],
      "text/plain": [
       "  item_name  rcen  freq      N   pv      prob  pred_prob\n",
       "0     item1     1     6    177   20  0.112994   0.121212\n",
       "1     item2     2     2   3162   67  0.021189   0.022278\n",
       "2     item3     1     2   3323  132  0.039723   0.039723\n",
       "3     item4     1     1  19602  245  0.012499   0.012499"
      ]
     },
     "execution_count": 42,
     "metadata": {},
     "output_type": "execute_result"
    }
   ],
   "source": [
    "# 推定した再閲覧確率を結合\n",
    "pd.merge(sample_df, rf_df, left_on=['rcen', 'freq'], right_on=['rcen', 'freq'])"
   ]
  },
  {
   "cell_type": "markdown",
   "metadata": {},
   "source": [
    "### **③数理モデルのブラッシュアップ**"
   ]
  },
  {
   "cell_type": "code",
   "execution_count": 43,
   "metadata": {},
   "outputs": [
    {
     "data": {
      "text/plain": [
       "rcen\n",
       "1         NaN\n",
       "2   -0.011416\n",
       "3    0.000150\n",
       "4   -0.002528\n",
       "5   -0.001805\n",
       "6   -0.000856\n",
       "7   -0.000793\n",
       "Name: prob, dtype: float64"
      ]
     },
     "execution_count": 43,
     "metadata": {},
     "output_type": "execute_result"
    },
    {
     "data": {
      "image/png": "[encoded data removed]",
      "text/plain": [
       "<Figure size 432x288 with 1 Axes>"
      ]
     },
     "metadata": {
      "needs_background": "light"
     },
     "output_type": "display_data"
    }
   ],
   "source": [
    "# 最新度(rcen)に対して、再閲覧確率の下降幅が小さくなることを確認\n",
    "rcen_df['prob'].diff().plot.bar()\n",
    "rcen_df['prob'].diff()"
   ]
  },
  {
   "cell_type": "code",
   "execution_count": 44,
   "metadata": {},
   "outputs": [
    {
     "data": {
      "text/plain": [
       "freq\n",
       "1         NaN\n",
       "2    0.012805\n",
       "3    0.013556\n",
       "4    0.008247\n",
       "5    0.005905\n",
       "6    0.010783\n",
       "7    0.003202\n",
       "Name: prob, dtype: float64"
      ]
     },
     "execution_count": 44,
     "metadata": {},
     "output_type": "execute_result"
    },
    {
     "data": {
      "image/png": "[encoded data removed]",
      "text/plain": [
       "<Figure size 432x288 with 1 Axes>"
      ]
     },
     "metadata": {
      "needs_background": "light"
     },
     "output_type": "display_data"
    }
   ],
   "source": [
    "# 頻度(freq)に対して、再閲覧確率の上昇幅が小さくなることを確認\n",
    "freq_df['prob'].diff().plot.bar()\n",
    "freq_df['prob'].diff()"
   ]
  },
  {
   "cell_type": "raw",
   "metadata": {},
   "source": [
    "# - pred_prob[r,f] + 2 * pred_prob[r+1,f] - pred_prob[r+2,f] <= 0 のモデリング\n",
    "for r in R[:-2]:\n",
    "    for f in F:\n",
    "        idx1 = RF2Idx[r,f]\n",
    "        idx2 = RF2Idx[r+1,f]\n",
    "        idx3 = RF2Idx[r+2,f]\n",
    "        G_row = var_vec[:]\n",
    "        G_row[idx1] = -1 # pred_prob[r,f]の係数は-1\n",
    "        G_row[idx2] = 2  # pred_prob[r+1,f]の係数は2\n",
    "        G_row[idx3] = -1 # pred_prob[r+2,f]の係数は-1\n",
    "        G_list.append(G_row)\n",
    "        h_list.append(0) # 右辺は定数項0\n",
    "        \n",
    "# pred_prob[r,f] - 2 * pred_prob[r,f+1] + pred_prob[r,f+2] <= 0 のモデリング\n",
    "for r in R:\n",
    "    for f in F[:-2]:\n",
    "        idx1 = RF2Idx[r,f]\n",
    "        idx2 = RF2Idx[r,f+1]\n",
    "        idx3 = RF2Idx[r,f+2]\n",
    "        G_row = var_vec[:]\n",
    "        G_row[idx1] = 1  # pred_prob[r,f]の係数は-1\n",
    "        G_row[idx2] = -2 # pred_prob[r,f+1]の係数は2\n",
    "        G_row[idx3] = 1  # pred_prob[r,f+2]の係数は-1\n",
    "        G_list.append(G_row)\n",
    "        h_list.append(0) # 右辺は定数項0        "
   ]
  },
  {
   "cell_type": "markdown",
   "metadata": {},
   "source": [
    "### 全体のコード"
   ]
  },
  {
   "cell_type": "code",
   "execution_count": 45,
   "metadata": {},
   "outputs": [
    {
     "name": "stdout",
     "output_type": "stream",
     "text": [
      "     pcost       dcost       gap    pres   dres\n",
      " 0: -5.2387e+01 -1.0684e+02  5e+02  2e+00  2e-02\n",
      " 1: -5.2162e+01 -7.3611e+01  5e+01  2e-01  1e-03\n",
      " 2: -5.1452e+01 -6.2961e+01  2e+01  4e-02  4e-04\n",
      " 3: -5.1298e+01 -5.5766e+01  6e+00  1e-02  8e-05\n",
      " 4: -5.1190e+01 -5.2365e+01  1e+00  1e-03  1e-05\n",
      " 5: -5.1182e+01 -5.1589e+01  4e-01  1e-04  1e-06\n",
      " 6: -5.1206e+01 -5.1382e+01  2e-01  5e-05  4e-07\n",
      " 7: -5.1216e+01 -5.1298e+01  8e-02  6e-06  5e-08\n",
      " 8: -5.1223e+01 -5.1241e+01  2e-02  1e-06  1e-08\n",
      " 9: -5.1225e+01 -5.1228e+01  2e-03  2e-16  4e-16\n",
      "10: -5.1226e+01 -5.1226e+01  7e-05  2e-16  4e-16\n",
      "11: -5.1226e+01 -5.1226e+01  1e-06  2e-16  2e-15\n",
      "Optimal solution found.\n",
      "optimal\n"
     ]
    }
   ],
   "source": [
    "import cvxopt\n",
    "\n",
    "R = sorted(tar_df['rcen'].unique().tolist())\n",
    "F = sorted(tar_df['freq'].unique().tolist())\n",
    "\n",
    "Idx = []\n",
    "RF2Idx = {}\n",
    "idx = 0\n",
    "for r in R:\n",
    "    for f in F:\n",
    "        Idx.append(idx)\n",
    "        RF2Idx[r, f] = idx \n",
    "        idx += 1\n",
    "\n",
    "G_list = []\n",
    "h_list = []\n",
    "var_vec = [0.0] * len(Idx)\n",
    "\n",
    "# - pred_prob[r,f] <= 0 のモデリング\n",
    "for r in R:\n",
    "    for f in F:\n",
    "        idx = RF2Idx[r,f]\n",
    "        G_row = var_vec[:]\n",
    "        G_row[idx] = -1 # pred_prob[r,f]の係数は-1\n",
    "        G_list.append(G_row)\n",
    "        h_list.append(0) # 右辺は定数項0\n",
    "        \n",
    "# pred_prob[r,f] <= 1 のモデリング\n",
    "for r in R:\n",
    "    for f in F:\n",
    "        idx = RF2Idx[r,f]\n",
    "        G_row = var_vec[:]\n",
    "        G_row[idx] = 1\n",
    "        G_list.append(G_row)\n",
    "        h_list.append(1)        \n",
    "\n",
    "# - pred_prob[r,f] + pred_prob[r+1,f] <= 0 のモデリング\n",
    "for r in R[:-1]:\n",
    "    for f in F:\n",
    "        idx1 = RF2Idx[r,f]\n",
    "        idx2 = RF2Idx[r+1,f]\n",
    "        G_row = var_vec[:]\n",
    "        G_row[idx1] = -1 # pred_prob[r,f]の係数は-1\n",
    "        G_row[idx2] = 1  # pred_prob[r+1,f]の係数は1\n",
    "        G_list.append(G_row)\n",
    "        h_list.append(0) # 右辺は定数項0        \n",
    "        \n",
    "# pred_prob[r,f] - pred_prob[r,f+1] <= 0 のモデリング\n",
    "for r in R:\n",
    "    for f in F[:-1]:\n",
    "        idx1 = RF2Idx[r,f]\n",
    "        idx2 = RF2Idx[r,f+1]\n",
    "        G_row = var_vec[:]\n",
    "        G_row[idx1] = 1  # pred_prob[r,f]の係数は1\n",
    "        G_row[idx2] = -1 # pred_prob[r,f+1]の係数は-1\n",
    "        G_list.append(G_row)\n",
    "        h_list.append(0) # 右辺は定数項0        \n",
    "        \n",
    "# - pred_prob[r,f] + 2 * pred_prob[r+1,f] - pred_prob[r+2,f] <= 0 のモデリング\n",
    "for r in R[:-2]:\n",
    "    for f in F:\n",
    "        idx1 = RF2Idx[r,f]\n",
    "        idx2 = RF2Idx[r+1,f]\n",
    "        idx3 = RF2Idx[r+2,f]\n",
    "        G_row = var_vec[:]\n",
    "        G_row[idx1] = -1 # pred_prob[r,f]の係数は-1\n",
    "        G_row[idx2] = 2  # pred_prob[r+1,f]の係数は2\n",
    "        G_row[idx3] = -1 # pred_prob[r+2,f]の係数は-1\n",
    "        G_list.append(G_row)\n",
    "        h_list.append(0) # 右辺は定数項0\n",
    "        \n",
    "# pred_prob[r,f] - 2 * pred_prob[r,f+1] + pred_prob[r,f+2] <= 0 のモデリング\n",
    "for r in R:\n",
    "    for f in F[:-2]:\n",
    "        idx1 = RF2Idx[r,f]\n",
    "        idx2 = RF2Idx[r,f+1]\n",
    "        idx3 = RF2Idx[r,f+2]\n",
    "        G_row = var_vec[:]\n",
    "        G_row[idx1] = 1  # pred_prob[r,f]の係数は-1\n",
    "        G_row[idx2] = -2 # pred_prob[r,f+1]の係数は2\n",
    "        G_row[idx3] = 1  # pred_prob[r,f+2]の係数は-1\n",
    "        G_list.append(G_row)\n",
    "        h_list.append(0) # 右辺は定数項0\n",
    "        \n",
    "P_list = []\n",
    "q_list = []\n",
    "\n",
    "# N[r,f] * pred_prob[r,f]^2 - 2 * N[r,f] * prob[r,f] のモデリング\n",
    "for r in R:\n",
    "    for f in F:\n",
    "        idx = RF2Idx[r,f]\n",
    "        N = RF2N[r,f]\n",
    "        prob = RF2Prob[r,f]\n",
    "        P_row = var_vec[:]\n",
    "        P_row[idx] = 2 * N # (1/2)を打ち消すために2を掛ける\n",
    "        P_list.append(P_row)\n",
    "        ｑ_list.append( - 2 * N * prob)\n",
    "\n",
    "G = cvxopt.matrix(np.array(G_list), tc='d')\n",
    "h = cvxopt.matrix(np.array(h_list), tc='d')\n",
    "P = cvxopt.matrix(np.array(P_list), tc='d')\n",
    "q = cvxopt.matrix(np.array(q_list), tc='d')\n",
    "\n",
    "sol = cvxopt.solvers.qp(P, q, G, h)\n",
    "status = sol['status']\n",
    "print(status)"
   ]
  },
  {
   "cell_type": "code",
   "execution_count": 46,
   "metadata": {},
   "outputs": [
    {
     "data": {
      "text/html": [
       "<div>\n",
       "<style scoped>\n",
       "    .dataframe tbody tr th:only-of-type {\n",
       "        vertical-align: middle;\n",
       "    }\n",
       "\n",
       "    .dataframe tbody tr th {\n",
       "        vertical-align: top;\n",
       "    }\n",
       "\n",
       "    .dataframe thead th {\n",
       "        text-align: right;\n",
       "    }\n",
       "</style>\n",
       "<table border=\"1\" class=\"dataframe\">\n",
       "  <thead>\n",
       "    <tr style=\"text-align: right;\">\n",
       "      <th></th>\n",
       "      <th>rcen</th>\n",
       "      <th>freq</th>\n",
       "      <th>N</th>\n",
       "      <th>pv</th>\n",
       "      <th>prob</th>\n",
       "      <th>pred_prob</th>\n",
       "      <th>pred_prob2</th>\n",
       "    </tr>\n",
       "  </thead>\n",
       "  <tbody>\n",
       "    <tr>\n",
       "      <th>0</th>\n",
       "      <td>1</td>\n",
       "      <td>1</td>\n",
       "      <td>19602</td>\n",
       "      <td>245</td>\n",
       "      <td>0.012499</td>\n",
       "      <td>0.012499</td>\n",
       "      <td>0.012499</td>\n",
       "    </tr>\n",
       "    <tr>\n",
       "      <th>1</th>\n",
       "      <td>1</td>\n",
       "      <td>2</td>\n",
       "      <td>3323</td>\n",
       "      <td>132</td>\n",
       "      <td>0.039723</td>\n",
       "      <td>0.039723</td>\n",
       "      <td>0.039723</td>\n",
       "    </tr>\n",
       "    <tr>\n",
       "      <th>2</th>\n",
       "      <td>1</td>\n",
       "      <td>3</td>\n",
       "      <td>1120</td>\n",
       "      <td>81</td>\n",
       "      <td>0.072321</td>\n",
       "      <td>0.070524</td>\n",
       "      <td>0.066240</td>\n",
       "    </tr>\n",
       "    <tr>\n",
       "      <th>3</th>\n",
       "      <td>1</td>\n",
       "      <td>4</td>\n",
       "      <td>539</td>\n",
       "      <td>36</td>\n",
       "      <td>0.066790</td>\n",
       "      <td>0.070524</td>\n",
       "      <td>0.087729</td>\n",
       "    </tr>\n",
       "    <tr>\n",
       "      <th>4</th>\n",
       "      <td>1</td>\n",
       "      <td>5</td>\n",
       "      <td>285</td>\n",
       "      <td>36</td>\n",
       "      <td>0.126316</td>\n",
       "      <td>0.121212</td>\n",
       "      <td>0.109218</td>\n",
       "    </tr>\n",
       "  </tbody>\n",
       "</table>\n",
       "</div>"
      ],
      "text/plain": [
       "   rcen  freq      N   pv      prob  pred_prob  pred_prob2\n",
       "0     1     1  19602  245  0.012499   0.012499    0.012499\n",
       "1     1     2   3323  132  0.039723   0.039723    0.039723\n",
       "2     1     3   1120   81  0.072321   0.070524    0.066240\n",
       "3     1     4    539   36  0.066790   0.070524    0.087729\n",
       "4     1     5    285   36  0.126316   0.121212    0.109218"
      ]
     },
     "execution_count": 46,
     "metadata": {},
     "output_type": "execute_result"
    }
   ],
   "source": [
    "# 最新度(rcen)と頻度(freq)に対応する推定した再閲覧確率の辞書を作成\n",
    "RF2PredProb2 = {}\n",
    "X = sol['x']\n",
    "for r in R:\n",
    "    for f in F:\n",
    "        idx = RF2Idx[r,f]\n",
    "        pred_prob = X[idx]\n",
    "        RF2PredProb2[r,f] = pred_prob\n",
    "rf_df['pred_prob2'] = rf_df.apply(lambda x:RF2PredProb2[x['rcen'], x['freq']], axis=1)\n",
    "rf_df.head()        "
   ]
  },
  {
   "cell_type": "code",
   "execution_count": 47,
   "metadata": {},
   "outputs": [
    {
     "data": {
      "text/plain": [
       "<mpl_toolkits.mplot3d.art3d.Line3DCollection at 0x1207bbd60>"
      ]
     },
     "execution_count": 47,
     "metadata": {},
     "output_type": "execute_result"
    },
    {
     "data": {
      "image/png": "[encoded data removed]",
      "text/plain": [
       "<Figure size 432x288 with 1 Axes>"
      ]
     },
     "metadata": {
      "needs_background": "light"
     },
     "output_type": "display_data"
    }
   ],
   "source": [
    "# 最新度(rcen)と頻度(freq)に対して推定した再閲覧確率を対応付ける3Dグラフの作成\n",
    "Freq = rf_df['freq'].unique().tolist()\n",
    "Rcen = rf_df['rcen'].unique().tolist()\n",
    "Z = [rf_df[(rf_df['freq']==freq) & (rf_df['rcen']==rcen)]['pred_prob2'].iloc[0] for freq in Freq for rcen in Rcen]\n",
    "Z = np.array(Z).reshape((len(Freq), len(Rcen)))\n",
    "X, Y = np.meshgrid(Rcen, Freq)  \n",
    "fig = plt.figure()\n",
    "ax = fig.add_subplot(111\n",
    "                     , projection=\"3d\"\n",
    "                     , xlabel='rcen'\n",
    "                     , ylabel='freq'\n",
    "                     , zlabel='pred_prob2'\n",
    "                    )\n",
    "ax.plot_wireframe(X, Y, Z)"
   ]
  },
  {
   "cell_type": "markdown",
   "metadata": {},
   "source": [
    "### **7.7 凸二次計画問題の行列表現の補足**"
   ]
  },
  {
   "cell_type": "code",
   "execution_count": 48,
   "metadata": {},
   "outputs": [
    {
     "name": "stdout",
     "output_type": "stream",
     "text": [
      "     pcost       dcost       gap    pres   dres\n",
      " 0: -2.7425e+00 -6.4628e+00  2e+01  2e+00  2e-01\n",
      " 1: -2.6356e+00 -4.4661e+00  2e+00  3e-16  1e-16\n",
      " 2: -2.7282e+00 -2.8191e+00  9e-02  2e-16  1e-16\n",
      " 3: -2.7361e+00 -2.7394e+00  3e-03  1e-16  1e-16\n",
      " 4: -2.7368e+00 -2.7369e+00  3e-05  2e-16  8e-17\n",
      " 5: -2.7368e+00 -2.7368e+00  3e-07  1e-16  9e-17\n",
      "Optimal solution found.\n",
      "status: optimal\n",
      "x: 0.09736840835953961\n",
      "x: 0.16052635585676464\n",
      "x: 0.22368416017154524\n"
     ]
    }
   ],
   "source": [
    "import numpy as np\n",
    "import cvxopt\n",
    "\n",
    "G_list = [[-1, 0, 0]\n",
    "         ,[ 1, 0, 0]\n",
    "         ,[ 0,-1, 0]\n",
    "         ,[ 0, 1, 0]\n",
    "         ,[ 0, 0,-1]\n",
    "         ,[ 0, 0, 1]\n",
    "         ,[ 1,-1, 0]\n",
    "         ,[ 0, 1,-1]\n",
    "         ,[ 1,-2, 1]\n",
    "]\n",
    "\n",
    "h_list = [0\n",
    "          ,1\n",
    "          ,0\n",
    "          ,1\n",
    "          ,0\n",
    "          ,1\n",
    "          ,0\n",
    "          ,0\n",
    "          ,0]\n",
    "\n",
    "P_list = [[2*100 ,0    ,0   ]\n",
    "         ,[0     ,2*50 ,0   ]\n",
    "         ,[0     ,0    ,2*10]\n",
    "]\n",
    "\n",
    "q_list = [-2 * 100 * 0.1\n",
    "          ,-2 * 50 * 0.15\n",
    "          ,-2 * 10 * 0.25\n",
    "         ]\n",
    "\n",
    "G = cvxopt.matrix(np.array(G_list), tc='d')\n",
    "h = cvxopt.matrix(np.array(h_list), tc='d')\n",
    "P = cvxopt.matrix(np.array(P_list), tc='d')\n",
    "q = cvxopt.matrix(np.array(q_list), tc='d')\n",
    "\n",
    "sol = cvxopt.solvers.qp(P, q, G, h)\n",
    "status = sol['status']\n",
    "print('status:',status)\n",
    "\n",
    "X = sol['x']\n",
    "for x in X:\n",
    "    print('x:',x)"
   ]
  }
 ],
 "metadata": {
  "kernelspec": {
   "display_name": "Python 3",
   "language": "python",
   "name": "python3"
  },
  "language_info": {
   "codemirror_mode": {
    "name": "ipython",
    "version": 3
   },
   "file_extension": ".py",
   "mimetype": "text/x-python",
   "name": "python",
   "nbconvert_exporter": "python",
   "pygments_lexer": "ipython3",
   "version": "3.8.5"
  }
 },
 "nbformat": 4,
 "nbformat_minor": 4
}
