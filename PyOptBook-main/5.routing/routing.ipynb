{
 "cells": [
  {
   "cell_type": "markdown",
   "metadata": {},
   "source": [
    "### ❷ 問題設定とデータの確認\n",
    "必要なライブラリのインポート"
   ]
  },
  {
   "cell_type": "code",
   "execution_count": 1,
   "metadata": {
    "pycharm": {
     "is_executing": false
    }
   },
   "outputs": [],
   "source": [
    "from IPython.core.display import display\n",
    "import numpy as np\n",
    "import pandas as pd\n",
    "import os, sys\n",
    "import matplotlib.pyplot as plt\n",
    "import matplotlib as mpl\n",
    "import pulp\n",
    "from itertools import product, combinations_with_replacement\n",
    "from joblib import Parallel, delayed"
   ]
  },
  {
   "cell_type": "markdown",
   "metadata": {},
   "source": [
    "問題設定に必要な数値群"
   ]
  },
  {
   "cell_type": "code",
   "execution_count": 2,
   "metadata": {
    "pycharm": {
     "is_executing": false
    }
   },
   "outputs": [],
   "source": [
    "np.random.seed(10)\n",
    "num_places = 10  # 地点の数\n",
    "num_days = 30  # 計画の対象日数\n",
    "num_requests = 120  # 荷物の数\n",
    "\n",
    "mean_travel_time_to_destinations = 100  # 自社から平均的に100分程度距離に配達先候補があるとしてデータを作る．\n",
    "H_regular = 8*60  # 8時間が定時労働\n",
    "H_max_overtime = 3*60  # 残業3時間まで\n",
    "c = 3000//60  # 残業による経費60分 3000円\n",
    "W = 4000  # 4 トントラックを利用\n",
    "delivery_outsourcing_unit_cost = 4600  # 100kg あたり4600円の配送費用\n",
    "delivery_time_window = 3  # 連続する3日が配達可能な候補日となる．\n",
    "avg_weight = 1000  # 荷物の平均的な重さを1000kgとする\n"
   ]
  },
  {
   "cell_type": "code",
   "execution_count": 3,
   "metadata": {
    "pycharm": {
     "is_executing": false
    }
   },
   "outputs": [],
   "source": [
    "K = range(num_places)  # 地点の集合\n",
    "o = 0  # 自社拠点を表す地点\n",
    "K_minus_o = K[1:]  # 配達先の集合\n",
    "_K = np.random.normal(0, mean_travel_time_to_destinations, size=(len(K), 2))  # 各地点の座標を設定\n",
    "_K[o,:] = 0  # 自社拠点は原点とする．\n",
    "t = np.array([[np.floor(np.linalg.norm(_K[k] - _K[l])) for k in K] for l in K])  # 各地点間の移動時間行列(分)\n",
    "\n",
    "D = range(num_days)  # 日付の集合\n",
    "R = range(num_requests)  # 荷物の集合\n",
    "k = np.random.choice(K_minus_o, size=len(R))  # k[r] は 荷物 r の配送先を表す\n",
    "d_0 = np.random.choice(D, size=len(R))  # d_0[r] は荷物 r の配送可能日の初日を表す\n",
    "d_1 = d_0 + delivery_time_window-1   # d_1[r] は荷物 r の配送可能日の最終日を表す\n",
    "w = np.floor(np.random.gamma(10, avg_weight/10, size=len(R)))  # w[r] が荷物 r の重さ(kg)を表す\n",
    "f = np.ceil(w/100)*delivery_outsourcing_unit_cost  # f[r] が荷物 r の外部委託時の配送料を表す"
   ]
  },
  {
   "cell_type": "markdown",
   "metadata": {},
   "source": [
    "各種値の可視化"
   ]
  },
  {
   "cell_type": "code",
   "execution_count": 4,
   "metadata": {
    "pycharm": {
     "is_executing": false
    }
   },
   "outputs": [
    {
     "data": {
      "image/png": "[encoded data removed]",
      "text/plain": [
       "<Figure size 432x288 with 1 Axes>"
      ]
     },
     "metadata": {
      "needs_background": "light"
     },
     "output_type": "display_data"
    }
   ],
   "source": [
    "a = plt.subplot()\n",
    "a.scatter(_K[1:,0], _K[1:,1], marker='x')\n",
    "a.scatter(_K[0,0], _K[0,1], marker='o')\n",
    "a.set_aspect('equal')\n",
    "plt.show()"
   ]
  },
  {
   "cell_type": "code",
   "execution_count": 5,
   "metadata": {
    "pycharm": {
     "is_executing": false
    }
   },
   "outputs": [
    {
     "data": {
      "text/plain": [
       "(array([ 0.,  0.,  0.,  0.,  2.,  9.,  7., 11., 14., 12., 22., 14., 14.,\n",
       "         9.,  2.,  1.,  2.,  0.,  1.,  0.]),\n",
       " array([   0.,  100.,  200.,  300.,  400.,  500.,  600.,  700.,  800.,\n",
       "         900., 1000., 1100., 1200., 1300., 1400., 1500., 1600., 1700.,\n",
       "        1800., 1900., 2000.]),\n",
       " <BarContainer object of 20 artists>)"
      ]
     },
     "execution_count": 5,
     "metadata": {},
     "output_type": "execute_result"
    },
    {
     "data": {
      "image/png": "[encoded data removed]",
      "text/plain": [
       "<Figure size 432x288 with 1 Axes>"
      ]
     },
     "metadata": {
      "needs_background": "light"
     },
     "output_type": "display_data"
    }
   ],
   "source": [
    "plt.hist(w, bins=20, range=(0,2000))"
   ]
  },
  {
   "cell_type": "markdown",
   "metadata": {},
   "source": [
    "### ❸ 日ごとのスケジュールの列挙"
   ]
  },
  {
   "cell_type": "code",
   "execution_count": 6,
   "metadata": {},
   "outputs": [],
   "source": [
    "def simulate_route(z):\n",
    "    # enumerate_routes の中でのみ用いる関数\n",
    "    # z は k_minus_o の部分集合を意味するは長さnum_places の 0 または1の値のリストで、\n",
    "    # z[k] == 1 (k in K) が k への訪問があることを意味する．\n",
    "\n",
    "    if z[0] == 0:  # 自社拠点を通らない移動経路は不適切なので None を返し，後段で除去する．\n",
    "        return None\n",
    "\n",
    "    # 巡回セールスマン問題を解く\n",
    "    daily_route_prob = pulp.LpProblem(sense=pulp.LpMinimize)\n",
    "\n",
    "    # k から l への移動の有無\n",
    "    x = {\n",
    "        (k, l): \n",
    "            pulp.LpVariable(f'x_{k}_{l}', cat='Binary') if k != l else pulp.LpAffineExpression()\n",
    "        for k, l in product(K, K)\n",
    "    }\n",
    "\n",
    "    # MTZ 定式化のための補助変数\n",
    "    u = {\n",
    "        k: pulp.LpVariable(\n",
    "            f'u_{k}', \n",
    "            lowBound=1, \n",
    "            upBound=len(K) - 1,\n",
    "        )\n",
    "        for k in K_minus_o\n",
    "    }\n",
    "    # MTZ 定式化の補助変数の説明では訪問順序であることを意識して u[0] を変数かのように書いたが，\n",
    "    # 実際には 0 に固定されている値であるので，ここでは変数としては u[0] は定義しない．    \n",
    "\n",
    "    h = pulp.LpVariable(f'h', lowBound=0, cat='Continuous')\n",
    "\n",
    "    # 移動の構造\n",
    "    for l in K:\n",
    "        daily_route_prob += (\n",
    "            pulp.lpSum([x[k,l] for k in K]) <= 1\n",
    "        )\n",
    "\n",
    "    for l in K:\n",
    "        if z[l] == 1:\n",
    "            # z で l への訪問が指定されている場合，必ず訪問するようにする．\n",
    "            daily_route_prob += (\n",
    "                pulp.lpSum([x[k,l] for k in K]) == 1\n",
    "            )\n",
    "            daily_route_prob += (\n",
    "                pulp.lpSum([x[l,k] for k in K]) == 1\n",
    "            )\n",
    "\n",
    "        else:\n",
    "            # z で l への訪問が禁止されている場合，訪問ができないように x に制約を入れる\n",
    "            daily_route_prob += (\n",
    "                pulp.lpSum([x[k,l] for k in K]) == 0\n",
    "            )\n",
    "            daily_route_prob += (\n",
    "                pulp.lpSum([x[l,k] for k in K]) == 0                \n",
    "            )\n",
    "            \n",
    "\n",
    "    # サイクルの除去．\n",
    "    for k, l in product(K_minus_o, K_minus_o):\n",
    "        daily_route_prob += (\n",
    "            u[k] + 1 <= u[l] + len(K_minus_o) * (1 - x[k, l])\n",
    "        )    \n",
    "\n",
    "    # 労務関係．(巡回セールスマン問題にはない制約だが，これが満たされない場合実行不可能としたいので追加)\n",
    "    travel = pulp.lpSum([t[k, l]*x[k, l] for k, l in product(K, K)]) # 移動時間\n",
    "    daily_route_prob += (travel - H_regular <= h)\n",
    "    daily_route_prob += (h <= H_max_overtime)\n",
    "\n",
    "    # 目的関数\n",
    "    daily_route_prob += travel\n",
    "    daily_route_prob.solve()\n",
    "\n",
    "    return {\n",
    "        'z': z,\n",
    "        'route': { # k から l への移動の有無を辞書で保持\n",
    "            (k, l): x[k, l].value() \n",
    "            for k, l in product(K, K)\n",
    "        },\n",
    "        'optimal': daily_route_prob.status == 1,\n",
    "        '移動時間': travel.value(),\n",
    "        '残業時間': h.value(),\n",
    "    }\n",
    "\n",
    "def enumerate_routes():\n",
    "    # 移動経路を列挙する    \n",
    "    # joblib を用いて計算を並列化(16並列)して，K_minus_o のすべての部分集合に対する最短の移動経路を列挙\n",
    "    # これは次のコードを並列化したもの．\n",
    "    # routes = []\n",
    "    # for z in product([0,1], repeat=len(K)):\n",
    "    #     routes.append(simulate_route(z))\n",
    "    routes = Parallel(n_jobs=16)(\n",
    "        [delayed(simulate_route)(z) for z in product([0,1], repeat=len(K))]\n",
    "    )\n",
    "    \n",
    "    # 結果が None のもの（自社拠点を通らないもの）を除去\n",
    "    routes = pd.DataFrame(filter(lambda x: x is not None, routes))\n",
    "    \n",
    "    # 結果が Optimal でないもの（ここでは移動時間が長すぎて実行不能となるもの）を除去\n",
    "    routes = routes[routes.optimal].copy()\n",
    "    return routes\n",
    "\n",
    "routes_df = enumerate_routes()"
   ]
  },
  {
   "cell_type": "code",
   "execution_count": 7,
   "metadata": {},
   "outputs": [
    {
     "data": {
      "text/html": [
       "<div>\n",
       "<style scoped>\n",
       "    .dataframe tbody tr th:only-of-type {\n",
       "        vertical-align: middle;\n",
       "    }\n",
       "\n",
       "    .dataframe tbody tr th {\n",
       "        vertical-align: top;\n",
       "    }\n",
       "\n",
       "    .dataframe thead th {\n",
       "        text-align: right;\n",
       "    }\n",
       "</style>\n",
       "<table border=\"1\" class=\"dataframe\">\n",
       "  <thead>\n",
       "    <tr style=\"text-align: right;\">\n",
       "      <th></th>\n",
       "      <th>z</th>\n",
       "      <th>route</th>\n",
       "      <th>optimal</th>\n",
       "      <th>移動時間</th>\n",
       "      <th>残業時間</th>\n",
       "    </tr>\n",
       "  </thead>\n",
       "  <tbody>\n",
       "    <tr>\n",
       "      <th>1</th>\n",
       "      <td>(1, 0, 0, 0, 0, 0, 0, 0, 0, 1)</td>\n",
       "      <td>{(0, 0): 0, (0, 1): 0.0, (0, 2): 0.0, (0, 3): ...</td>\n",
       "      <td>True</td>\n",
       "      <td>366.0</td>\n",
       "      <td>0.0</td>\n",
       "    </tr>\n",
       "    <tr>\n",
       "      <th>2</th>\n",
       "      <td>(1, 0, 0, 0, 0, 0, 0, 0, 1, 0)</td>\n",
       "      <td>{(0, 0): 0, (0, 1): 0.0, (0, 2): 0.0, (0, 3): ...</td>\n",
       "      <td>True</td>\n",
       "      <td>228.0</td>\n",
       "      <td>0.0</td>\n",
       "    </tr>\n",
       "    <tr>\n",
       "      <th>3</th>\n",
       "      <td>(1, 0, 0, 0, 0, 0, 0, 0, 1, 1)</td>\n",
       "      <td>{(0, 0): 0, (0, 1): 0.0, (0, 2): 0.0, (0, 3): ...</td>\n",
       "      <td>True</td>\n",
       "      <td>585.0</td>\n",
       "      <td>105.0</td>\n",
       "    </tr>\n",
       "    <tr>\n",
       "      <th>4</th>\n",
       "      <td>(1, 0, 0, 0, 0, 0, 0, 1, 0, 0)</td>\n",
       "      <td>{(0, 0): 0, (0, 1): 0.0, (0, 2): 0.0, (0, 3): ...</td>\n",
       "      <td>True</td>\n",
       "      <td>100.0</td>\n",
       "      <td>0.0</td>\n",
       "    </tr>\n",
       "    <tr>\n",
       "      <th>5</th>\n",
       "      <td>(1, 0, 0, 0, 0, 0, 0, 1, 0, 1)</td>\n",
       "      <td>{(0, 0): 0, (0, 1): 0.0, (0, 2): 0.0, (0, 3): ...</td>\n",
       "      <td>True</td>\n",
       "      <td>430.0</td>\n",
       "      <td>0.0</td>\n",
       "    </tr>\n",
       "    <tr>\n",
       "      <th>...</th>\n",
       "      <td>...</td>\n",
       "      <td>...</td>\n",
       "      <td>...</td>\n",
       "      <td>...</td>\n",
       "      <td>...</td>\n",
       "    </tr>\n",
       "    <tr>\n",
       "      <th>486</th>\n",
       "      <td>(1, 1, 1, 1, 1, 0, 0, 1, 1, 0)</td>\n",
       "      <td>{(0, 0): 0, (0, 1): 1.0, (0, 2): 0.0, (0, 3): ...</td>\n",
       "      <td>True</td>\n",
       "      <td>558.0</td>\n",
       "      <td>78.0</td>\n",
       "    </tr>\n",
       "    <tr>\n",
       "      <th>488</th>\n",
       "      <td>(1, 1, 1, 1, 1, 0, 1, 0, 0, 0)</td>\n",
       "      <td>{(0, 0): 0, (0, 1): 0.0, (0, 2): 0.0, (0, 3): ...</td>\n",
       "      <td>True</td>\n",
       "      <td>614.0</td>\n",
       "      <td>134.0</td>\n",
       "    </tr>\n",
       "    <tr>\n",
       "      <th>490</th>\n",
       "      <td>(1, 1, 1, 1, 1, 0, 1, 0, 1, 0)</td>\n",
       "      <td>{(0, 0): 0, (0, 1): 0.0, (0, 2): 0.0, (0, 3): ...</td>\n",
       "      <td>True</td>\n",
       "      <td>617.0</td>\n",
       "      <td>137.0</td>\n",
       "    </tr>\n",
       "    <tr>\n",
       "      <th>492</th>\n",
       "      <td>(1, 1, 1, 1, 1, 0, 1, 1, 0, 0)</td>\n",
       "      <td>{(0, 0): 0, (0, 1): 1.0, (0, 2): 0.0, (0, 3): ...</td>\n",
       "      <td>True</td>\n",
       "      <td>626.0</td>\n",
       "      <td>146.0</td>\n",
       "    </tr>\n",
       "    <tr>\n",
       "      <th>494</th>\n",
       "      <td>(1, 1, 1, 1, 1, 0, 1, 1, 1, 0)</td>\n",
       "      <td>{(0, 0): 0, (0, 1): 0.0, (0, 2): 0.0, (0, 3): ...</td>\n",
       "      <td>True</td>\n",
       "      <td>629.0</td>\n",
       "      <td>149.0</td>\n",
       "    </tr>\n",
       "  </tbody>\n",
       "</table>\n",
       "<p>285 rows × 5 columns</p>\n",
       "</div>"
      ],
      "text/plain": [
       "                                  z  \\\n",
       "1    (1, 0, 0, 0, 0, 0, 0, 0, 0, 1)   \n",
       "2    (1, 0, 0, 0, 0, 0, 0, 0, 1, 0)   \n",
       "3    (1, 0, 0, 0, 0, 0, 0, 0, 1, 1)   \n",
       "4    (1, 0, 0, 0, 0, 0, 0, 1, 0, 0)   \n",
       "5    (1, 0, 0, 0, 0, 0, 0, 1, 0, 1)   \n",
       "..                              ...   \n",
       "486  (1, 1, 1, 1, 1, 0, 0, 1, 1, 0)   \n",
       "488  (1, 1, 1, 1, 1, 0, 1, 0, 0, 0)   \n",
       "490  (1, 1, 1, 1, 1, 0, 1, 0, 1, 0)   \n",
       "492  (1, 1, 1, 1, 1, 0, 1, 1, 0, 0)   \n",
       "494  (1, 1, 1, 1, 1, 0, 1, 1, 1, 0)   \n",
       "\n",
       "                                                 route  optimal   移動時間   残業時間  \n",
       "1    {(0, 0): 0, (0, 1): 0.0, (0, 2): 0.0, (0, 3): ...     True  366.0    0.0  \n",
       "2    {(0, 0): 0, (0, 1): 0.0, (0, 2): 0.0, (0, 3): ...     True  228.0    0.0  \n",
       "3    {(0, 0): 0, (0, 1): 0.0, (0, 2): 0.0, (0, 3): ...     True  585.0  105.0  \n",
       "4    {(0, 0): 0, (0, 1): 0.0, (0, 2): 0.0, (0, 3): ...     True  100.0    0.0  \n",
       "5    {(0, 0): 0, (0, 1): 0.0, (0, 2): 0.0, (0, 3): ...     True  430.0    0.0  \n",
       "..                                                 ...      ...    ...    ...  \n",
       "486  {(0, 0): 0, (0, 1): 1.0, (0, 2): 0.0, (0, 3): ...     True  558.0   78.0  \n",
       "488  {(0, 0): 0, (0, 1): 0.0, (0, 2): 0.0, (0, 3): ...     True  614.0  134.0  \n",
       "490  {(0, 0): 0, (0, 1): 0.0, (0, 2): 0.0, (0, 3): ...     True  617.0  137.0  \n",
       "492  {(0, 0): 0, (0, 1): 1.0, (0, 2): 0.0, (0, 3): ...     True  626.0  146.0  \n",
       "494  {(0, 0): 0, (0, 1): 0.0, (0, 2): 0.0, (0, 3): ...     True  629.0  149.0  \n",
       "\n",
       "[285 rows x 5 columns]"
      ]
     },
     "execution_count": 7,
     "metadata": {},
     "output_type": "execute_result"
    }
   ],
   "source": [
    "routes_df"
   ]
  },
  {
   "cell_type": "code",
   "execution_count": 8,
   "metadata": {},
   "outputs": [],
   "source": [
    "def is_OK(requests):\n",
    "    # 指定された荷物の配送が重量制約のもとで可能かを確認する\n",
    "    # 可能である場合は配送を実行できる最短の移動経路のインデックス (routes_df におけるもの) とその所要時間を返す\n",
    "    # 不可能であれば，False を返す\n",
    "    # requests: R に含まれるリストで，配送する荷物の一覧を表す\n",
    "    \n",
    "    weight = sum([w[r] for r in requests])\n",
    "    if weight > W:\n",
    "        return False\n",
    "    \n",
    "    # ルート関係\n",
    "    best_route_idx = None\n",
    "    best_hours = sys.float_info.max\n",
    "    for route_idx, row in routes_df.iterrows():\n",
    "        all_requests_on_route = all([row.z[k[r]] == 1 for r in requests])\n",
    "        if all_requests_on_route and row.移動時間 < best_hours:\n",
    "            best_route_idx = route_idx\n",
    "            best_hours = row.移動時間\n",
    "    if best_route_idx is None:\n",
    "        return False\n",
    "    else:\n",
    "        return best_route_idx, best_hours\n",
    "\n",
    "    \n",
    "def _enumerate_feasible_schedules(requests_cands, current_idx_set, idx_to_add, res):\n",
    "    # R に含まれるリスト requests_cands を候補として\n",
    "    # current_idx_set で指定される荷物に加えて配送することができる\n",
    "    # requests_cands[idx_to_add:] の部分集合をすべて列挙する．（再帰的に計算する）\n",
    "    # 配送可能な荷物の集合は， リスト res に追加される\n",
    "    \n",
    "    # idx_set_to_check = current_idx_set + [idx_to_add] で指定される\n",
    "    # 荷物が配送可能かを確認する．\n",
    "    idx_set_to_check = current_idx_set + [idx_to_add]\n",
    "    next_idx = idx_to_add + 1\n",
    "    is_next_idx_valid = next_idx < len(requests_cands)\n",
    "    requests = [requests_cands[i] for i in idx_set_to_check]\n",
    "    is_ok = is_OK(requests)\n",
    "    \n",
    "    if is_ok:\n",
    "        # idx_set_to_check で指定される荷物が配送可能であれば，\n",
    "        # その配送に用いられる移動経路の情報を記録する．\n",
    "        best_route_idx, best_hour = is_ok\n",
    "        res.append(\n",
    "            {\n",
    "                'requests': [requests_cands[i] for i in idx_set_to_check], \n",
    "                'route_idx': best_route_idx, \n",
    "                'hours': best_hour\n",
    "            }\n",
    "        )\n",
    "        if is_next_idx_valid:\n",
    "            # さらに荷物を追加できるかを確認する．\n",
    "            _enumerate_feasible_schedules(requests_cands, idx_set_to_check, next_idx, res)\n",
    "    if is_next_idx_valid:\n",
    "        # idx_to_add をスキップして， next_idx 以降の荷物が追加できるかを確認する．\n",
    "        _enumerate_feasible_schedules(requests_cands, current_idx_set, next_idx, res)\n",
    "\n",
    "        \n",
    "def enumerate_feasible_schedules(d: int):\n",
    "    # _enumerate_feasible_schedules を用いて d 日に考慮すべきスケジュールを列挙する．\n",
    "    \n",
    "    # 配送日指定に合うものだけを探索する\n",
    "    requests_cands = [r for r in R if d_0[r] <= d <= d_1[r]]\n",
    "\n",
    "    # res に d 日の実行可能なスケジュールを格納する\n",
    "    res = [\n",
    "        {'requests': [], 'route_idx': 0, 'hours': 0}\n",
    "    ]\n",
    "    _enumerate_feasible_schedules(requests_cands, [], 0, res)\n",
    "\n",
    "    # res を DataFrame 型にして後処理に必要な値を計算\n",
    "    feasible_schedules_df = pd.DataFrame(res)\n",
    "    feasible_schedules_df['overwork'] = (feasible_schedules_df.hours - H_regular).clip(0)\n",
    "    feasible_schedules_df['requests_set'] = feasible_schedules_df.requests.apply(set)\n",
    "\n",
    "    # feasible_schedules_df のうち，不要なスケジュールを削除する．\n",
    "    # すなわちあるスケジュールが別のスケジュールに対して\n",
    "    #   - 配送する荷物の集合の包含関係での比較\n",
    "    #   - 残業時間の比較\n",
    "    # の2つの比較で同時に負けている場合には，そのスケジュールは利用価値がないため，破棄する．\n",
    "    \n",
    "    # 残すスケジュールの index の候補\n",
    "    idx_cands = set(feasible_schedules_df.index)\n",
    "    # 破棄するスケジュールの index の候補\n",
    "    dominated_idx_set = set()\n",
    "    for dominant_idx in feasible_schedules_df.index:\n",
    "        for checked_idx in feasible_schedules_df.index:\n",
    "            # 配送する荷物の集合の包含関係での比較\n",
    "            requests_strict_dominance = (\n",
    "                feasible_schedules_df.requests_set.loc[checked_idx] < \n",
    "                feasible_schedules_df.requests_set.loc[dominant_idx] \n",
    "            ) \n",
    "            # 残業時間の比較\n",
    "            overwork_weak_dominance = (\n",
    "                feasible_schedules_df.overwork.loc[checked_idx] >=\n",
    "                feasible_schedules_df.overwork.loc[dominant_idx]                 \n",
    "            )\n",
    "            if requests_strict_dominance and overwork_weak_dominance:\n",
    "                dominated_idx_set.add(checked_idx)\n",
    "                \n",
    "    nondominated_idx_set = idx_cands - dominated_idx_set\n",
    "    nondominated_feasible_schedules_df = feasible_schedules_df.loc[nondominated_idx_set, :]\n",
    "    return nondominated_feasible_schedules_df\n",
    "\n",
    "_schedules = Parallel(n_jobs=16)([delayed(enumerate_feasible_schedules)(d) for d in D] )\n",
    "feasible_schedules = dict(zip(D, _schedules))\n"
   ]
  },
  {
   "cell_type": "code",
   "execution_count": 9,
   "metadata": {},
   "outputs": [
    {
     "name": "stdout",
     "output_type": "stream",
     "text": [
      "一日の最大スケジュール候補数: 939\n",
      "スケジュール候補数の合計: 8430\n"
     ]
    }
   ],
   "source": [
    "print('一日の最大スケジュール候補数:', max([len(df) for df in feasible_schedules.values()]))\n",
    "print('スケジュール候補数の合計:',sum([len(df) for df in feasible_schedules.values()]))"
   ]
  },
  {
   "cell_type": "markdown",
   "metadata": {},
   "source": [
    "### ❹ 問題を解く"
   ]
  },
  {
   "cell_type": "markdown",
   "metadata": {},
   "source": [
    "<!-- ### 決定変数\n",
    "* $z_{dq} \\in \\{0, 1\\} \\ (d\\in[D], q \\in \\{0, 1\\})$\n",
    "  * どのルートを採用するか \n",
    "* $y_{dr} \\in \\{0, 1\\} \\ (d\\in[D], r \\in R)$\n",
    "  * 自社トラックによる配送を表す変数．\n",
    "* $h_d \\in \\mathbb{R}_+ \\space(d \\in [D])$\n",
    "  * 残業時間を表す補助変数\n",
    " -->"
   ]
  },
  {
   "cell_type": "code",
   "execution_count": 10,
   "metadata": {},
   "outputs": [
    {
     "data": {
      "text/plain": [
       "1"
      ]
     },
     "execution_count": 10,
     "metadata": {},
     "output_type": "execute_result"
    }
   ],
   "source": [
    "prob = pulp.LpProblem(sense=pulp.LpMinimize)\n",
    "\n",
    "# ■ 変数\n",
    "# 日毎にどの配送計画を採用するか\n",
    "z = {}\n",
    "for d in D:\n",
    "    for q in feasible_schedules[d].index:\n",
    "        z[d, q] = pulp.LpVariable(f'z_{d}_{q}', cat='Binary')\n",
    "\n",
    "# 配送を外注するかどうかの補助変数\n",
    "y = {\n",
    "    r: pulp.LpVariable(f'y_{r}', cat='Continuous', lowBound=0, upBound=1)\n",
    "    for r in R\n",
    "}   \n",
    "\n",
    "# ■ 制約・目的関数定義の準備\n",
    "# 荷物 r の配送の回数を y, z の言葉で表現しておく\n",
    "deliv_count = {r: pulp.LpAffineExpression() for r in R}\n",
    "for d in D:\n",
    "    for q in feasible_schedules[d].index:\n",
    "        for r in feasible_schedules[d].loc[q].requests:\n",
    "            deliv_count[r] += z[d, q]\n",
    "\n",
    "# 日付 d の残業時間を y, z の言葉で表現しておく\n",
    "h = {\n",
    "    d: pulp.lpSum(\n",
    "        z[d, q] * feasible_schedules[d].overwork.loc[q]\n",
    "        for q in feasible_schedules[d].index\n",
    "    )\n",
    "    for d in D\n",
    "}\n",
    "\n",
    "# ■ 制約\n",
    "# 1日1つのスケジュールを選択する\n",
    "for d in D: \n",
    "    prob += (\n",
    "        pulp.lpSum(z[d, q] for q in feasible_schedules[d].index) == 1\n",
    "    )\n",
    "\n",
    "# y が外部委託による配送を表すように\n",
    "for r in R:\n",
    "    prob += (\n",
    "        y[r] >= 1 - deliv_count[r]\n",
    "    )\n",
    "    \n",
    "# ■ 目的関数\n",
    "obj_overtime = pulp.lpSum([c * h[d] for d in D])\n",
    "obj_outsorcing = pulp.lpSum(\n",
    "    [f[r] * y[r] for r in R]\n",
    ")\n",
    "\n",
    "obj_total = obj_overtime + obj_outsorcing\n",
    "prob += obj_total    \n",
    "\n",
    "\n",
    "# ■ 求解\n",
    "prob.solve()"
   ]
  },
  {
   "cell_type": "markdown",
   "metadata": {},
   "source": [
    "### ❺ 得られた解の確認"
   ]
  },
  {
   "cell_type": "code",
   "execution_count": 11,
   "metadata": {
    "scrolled": false
   },
   "outputs": [],
   "source": [
    "# 日毎に可視化\n",
    "def visualize_route(d):\n",
    "    for q in feasible_schedules[d].index:\n",
    "        if z[d, q].value() > 0.5:\n",
    "            route_summary = feasible_schedules[d].loc[q]   \n",
    "            route_geography = routes_df.loc[route_summary.route_idx]   \n",
    "            break\n",
    "            \n",
    "    # 背景\n",
    "    a = plt.subplot()\n",
    "    a.scatter(_K[1:,0], _K[1:,1], marker='x')\n",
    "    a.scatter(_K[0,0], _K[0,1], marker='o')\n",
    "    \n",
    "    # 移動経路\n",
    "    motions = [(k_from, k_to) for (k_from, k_to), used in route_geography.route.items() if used > 0]\n",
    "    for k_from, k_to in motions:\n",
    "        p_from = _K[int(k_from)]\n",
    "        p_to =  _K[int(k_to)]\n",
    "        a.arrow(\n",
    "            *p_from, *(p_to-p_from), \n",
    "            head_width=3,\n",
    "            length_includes_head=True,\n",
    "            overhang=0.5,\n",
    "            color='gray',\n",
    "            alpha=0.5\n",
    "        )\n",
    "        \n",
    "        requests_at_k_to = [r for r in route_summary.requests if k[r] == k_to]      \n",
    "        a.text(*p_to, ' '.join([str(r) for r in requests_at_k_to]))\n",
    "        \n",
    "    plt.title(f'Schedule for day: {d}')\n",
    "    plt.show()\n"
   ]
  },
  {
   "cell_type": "code",
   "execution_count": 12,
   "metadata": {},
   "outputs": [
    {
     "data": {
      "image/png": "[encoded data removed]",
      "text/plain": [
       "<Figure size 432x288 with 1 Axes>"
      ]
     },
     "metadata": {
      "needs_background": "light"
     },
     "output_type": "display_data"
    }
   ],
   "source": [
    "# 0日目のスケジュール\n",
    "visualize_route(0)"
   ]
  },
  {
   "cell_type": "code",
   "execution_count": 13,
   "metadata": {},
   "outputs": [
    {
     "data": {
      "text/html": [
       "<div>\n",
       "<style scoped>\n",
       "    .dataframe tbody tr th:only-of-type {\n",
       "        vertical-align: middle;\n",
       "    }\n",
       "\n",
       "    .dataframe tbody tr th {\n",
       "        vertical-align: top;\n",
       "    }\n",
       "\n",
       "    .dataframe thead th {\n",
       "        text-align: right;\n",
       "    }\n",
       "</style>\n",
       "<table border=\"1\" class=\"dataframe\">\n",
       "  <thead>\n",
       "    <tr style=\"text-align: right;\">\n",
       "      <th></th>\n",
       "      <th>outsourced</th>\n",
       "      <th>weight</th>\n",
       "      <th>freight</th>\n",
       "      <th>location</th>\n",
       "      <th>distance_from_o</th>\n",
       "    </tr>\n",
       "  </thead>\n",
       "  <tbody>\n",
       "    <tr>\n",
       "      <th>0</th>\n",
       "      <td>0.0</td>\n",
       "      <td>1147.0</td>\n",
       "      <td>55200.0</td>\n",
       "      <td>2</td>\n",
       "      <td>95.0</td>\n",
       "    </tr>\n",
       "    <tr>\n",
       "      <th>1</th>\n",
       "      <td>0.0</td>\n",
       "      <td>1166.0</td>\n",
       "      <td>55200.0</td>\n",
       "      <td>5</td>\n",
       "      <td>127.0</td>\n",
       "    </tr>\n",
       "    <tr>\n",
       "      <th>2</th>\n",
       "      <td>0.0</td>\n",
       "      <td>588.0</td>\n",
       "      <td>27600.0</td>\n",
       "      <td>3</td>\n",
       "      <td>28.0</td>\n",
       "    </tr>\n",
       "    <tr>\n",
       "      <th>3</th>\n",
       "      <td>0.0</td>\n",
       "      <td>770.0</td>\n",
       "      <td>36800.0</td>\n",
       "      <td>7</td>\n",
       "      <td>50.0</td>\n",
       "    </tr>\n",
       "    <tr>\n",
       "      <th>4</th>\n",
       "      <td>0.0</td>\n",
       "      <td>1836.0</td>\n",
       "      <td>87400.0</td>\n",
       "      <td>8</td>\n",
       "      <td>114.0</td>\n",
       "    </tr>\n",
       "    <tr>\n",
       "      <th>...</th>\n",
       "      <td>...</td>\n",
       "      <td>...</td>\n",
       "      <td>...</td>\n",
       "      <td>...</td>\n",
       "      <td>...</td>\n",
       "    </tr>\n",
       "    <tr>\n",
       "      <th>115</th>\n",
       "      <td>0.0</td>\n",
       "      <td>1250.0</td>\n",
       "      <td>59800.0</td>\n",
       "      <td>5</td>\n",
       "      <td>127.0</td>\n",
       "    </tr>\n",
       "    <tr>\n",
       "      <th>116</th>\n",
       "      <td>0.0</td>\n",
       "      <td>1222.0</td>\n",
       "      <td>59800.0</td>\n",
       "      <td>1</td>\n",
       "      <td>154.0</td>\n",
       "    </tr>\n",
       "    <tr>\n",
       "      <th>117</th>\n",
       "      <td>0.0</td>\n",
       "      <td>956.0</td>\n",
       "      <td>46000.0</td>\n",
       "      <td>3</td>\n",
       "      <td>28.0</td>\n",
       "    </tr>\n",
       "    <tr>\n",
       "      <th>118</th>\n",
       "      <td>0.0</td>\n",
       "      <td>1088.0</td>\n",
       "      <td>50600.0</td>\n",
       "      <td>9</td>\n",
       "      <td>183.0</td>\n",
       "    </tr>\n",
       "    <tr>\n",
       "      <th>119</th>\n",
       "      <td>0.0</td>\n",
       "      <td>940.0</td>\n",
       "      <td>46000.0</td>\n",
       "      <td>1</td>\n",
       "      <td>154.0</td>\n",
       "    </tr>\n",
       "  </tbody>\n",
       "</table>\n",
       "<p>120 rows × 5 columns</p>\n",
       "</div>"
      ],
      "text/plain": [
       "     outsourced  weight  freight  location  distance_from_o\n",
       "0           0.0  1147.0  55200.0         2             95.0\n",
       "1           0.0  1166.0  55200.0         5            127.0\n",
       "2           0.0   588.0  27600.0         3             28.0\n",
       "3           0.0   770.0  36800.0         7             50.0\n",
       "4           0.0  1836.0  87400.0         8            114.0\n",
       "..          ...     ...      ...       ...              ...\n",
       "115         0.0  1250.0  59800.0         5            127.0\n",
       "116         0.0  1222.0  59800.0         1            154.0\n",
       "117         0.0   956.0  46000.0         3             28.0\n",
       "118         0.0  1088.0  50600.0         9            183.0\n",
       "119         0.0   940.0  46000.0         1            154.0\n",
       "\n",
       "[120 rows x 5 columns]"
      ]
     },
     "execution_count": 13,
     "metadata": {},
     "output_type": "execute_result"
    }
   ],
   "source": [
    "requests_summary_df = pd.DataFrame(\n",
    "    [{\n",
    "        'outsourced': y[r].value(),\n",
    "        'weight': w[r],\n",
    "        'freight': f[r],\n",
    "        'location': k[r],\n",
    "        'distance_from_o': t[k[r], o]\n",
    "    } for r in R]\n",
    ")\n",
    "requests_summary_df"
   ]
  },
  {
   "cell_type": "code",
   "execution_count": 14,
   "metadata": {},
   "outputs": [
    {
     "data": {
      "text/html": [
       "<div>\n",
       "<style scoped>\n",
       "    .dataframe tbody tr th:only-of-type {\n",
       "        vertical-align: middle;\n",
       "    }\n",
       "\n",
       "    .dataframe tbody tr th {\n",
       "        vertical-align: top;\n",
       "    }\n",
       "\n",
       "    .dataframe thead th {\n",
       "        text-align: right;\n",
       "    }\n",
       "</style>\n",
       "<table border=\"1\" class=\"dataframe\">\n",
       "  <thead>\n",
       "    <tr style=\"text-align: right;\">\n",
       "      <th></th>\n",
       "      <th>weight</th>\n",
       "      <th>freight</th>\n",
       "      <th>distance_from_o</th>\n",
       "    </tr>\n",
       "    <tr>\n",
       "      <th>outsourced</th>\n",
       "      <th></th>\n",
       "      <th></th>\n",
       "      <th></th>\n",
       "    </tr>\n",
       "  </thead>\n",
       "  <tbody>\n",
       "    <tr>\n",
       "      <th>0.0</th>\n",
       "      <td>1012.845455</td>\n",
       "      <td>48718.181818</td>\n",
       "      <td>106.609091</td>\n",
       "    </tr>\n",
       "    <tr>\n",
       "      <th>1.0</th>\n",
       "      <td>955.200000</td>\n",
       "      <td>45080.000000</td>\n",
       "      <td>121.700000</td>\n",
       "    </tr>\n",
       "  </tbody>\n",
       "</table>\n",
       "</div>"
      ],
      "text/plain": [
       "                 weight       freight  distance_from_o\n",
       "outsourced                                            \n",
       "0.0         1012.845455  48718.181818       106.609091\n",
       "1.0          955.200000  45080.000000       121.700000"
      ]
     },
     "execution_count": 14,
     "metadata": {},
     "output_type": "execute_result"
    }
   ],
   "source": [
    "requests_summary_df.groupby('outsourced')[['weight', 'freight', 'distance_from_o']].agg('mean')"
   ]
  },
  {
   "cell_type": "code",
   "execution_count": 15,
   "metadata": {
    "scrolled": false
   },
   "outputs": [
    {
     "data": {
      "image/png": "[encoded data removed]",
      "text/plain": [
       "<Figure size 432x288 with 2 Axes>"
      ]
     },
     "metadata": {
      "needs_background": "light"
     },
     "output_type": "display_data"
    }
   ],
   "source": [
    "requests_summary_df.plot.scatter(x='distance_from_o', y='freight', c='outsourced', cmap='cool')\n",
    "plt.show()"
   ]
  },
  {
   "cell_type": "code",
   "execution_count": null,
   "metadata": {},
   "outputs": [],
   "source": []
  }
 ],
 "metadata": {
  "kernelspec": {
   "display_name": "Python 3",
   "language": "python",
   "name": "python3"
  },
  "language_info": {
   "codemirror_mode": {
    "name": "ipython",
    "version": 3
   },
   "file_extension": ".py",
   "mimetype": "text/x-python",
   "name": "python",
   "nbconvert_exporter": "python",
   "pygments_lexer": "ipython3",
   "version": "3.7.7"
  },
  "pycharm": {
   "stem_cell": {
    "cell_type": "raw",
    "metadata": {
     "collapsed": false
    },
    "source": []
   }
  },
  "varInspector": {
   "cols": {
    "lenName": 16,
    "lenType": 16,
    "lenVar": 40
   },
   "kernels_config": {
    "python": {
     "delete_cmd_postfix": "",
     "delete_cmd_prefix": "del ",
     "library": "var_list.py",
     "varRefreshCmd": "print(var_dic_list())"
    },
    "r": {
     "delete_cmd_postfix": ") ",
     "delete_cmd_prefix": "rm(",
     "library": "var_list.r",
     "varRefreshCmd": "cat(var_dic_list()) "
    }
   },
   "types_to_exclude": [
    "module",
    "function",
    "builtin_function_or_method",
    "instance",
    "_Feature"
   ],
   "window_display": false
  }
 },
 "nbformat": 4,
 "nbformat_minor": 4
}
