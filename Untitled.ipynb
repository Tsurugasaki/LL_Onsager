{
 "cells": [
  {
   "cell_type": "code",
   "execution_count": 1,
   "id": "975f4f58",
   "metadata": {},
   "outputs": [],
   "source": [
    "import pandas as pd\n",
    "s_df = pd.read_csv('students.csv')"
   ]
  },
  {
   "cell_type": "code",
   "execution_count": 2,
   "id": "5de0681d",
   "metadata": {},
   "outputs": [
    {
     "data": {
      "text/plain": [
       "318"
      ]
     },
     "execution_count": 2,
     "metadata": {},
     "output_type": "execute_result"
    }
   ],
   "source": [
    "len(s_df)"
   ]
  },
  {
   "cell_type": "code",
   "execution_count": 3,
   "id": "10313cdc",
   "metadata": {},
   "outputs": [
    {
     "data": {
      "text/html": [
       "<div>\n",
       "<style scoped>\n",
       "    .dataframe tbody tr th:only-of-type {\n",
       "        vertical-align: middle;\n",
       "    }\n",
       "\n",
       "    .dataframe tbody tr th {\n",
       "        vertical-align: top;\n",
       "    }\n",
       "\n",
       "    .dataframe thead th {\n",
       "        text-align: right;\n",
       "    }\n",
       "</style>\n",
       "<table border=\"1\" class=\"dataframe\">\n",
       "  <thead>\n",
       "    <tr style=\"text-align: right;\">\n",
       "      <th></th>\n",
       "      <th>student_id</th>\n",
       "      <th>gender</th>\n",
       "      <th>leader_flag</th>\n",
       "      <th>support_flag</th>\n",
       "      <th>score</th>\n",
       "    </tr>\n",
       "  </thead>\n",
       "  <tbody>\n",
       "    <tr>\n",
       "      <th>0</th>\n",
       "      <td>1</td>\n",
       "      <td>0</td>\n",
       "      <td>0</td>\n",
       "      <td>0</td>\n",
       "      <td>335</td>\n",
       "    </tr>\n",
       "    <tr>\n",
       "      <th>1</th>\n",
       "      <td>2</td>\n",
       "      <td>1</td>\n",
       "      <td>0</td>\n",
       "      <td>0</td>\n",
       "      <td>379</td>\n",
       "    </tr>\n",
       "    <tr>\n",
       "      <th>2</th>\n",
       "      <td>3</td>\n",
       "      <td>0</td>\n",
       "      <td>0</td>\n",
       "      <td>0</td>\n",
       "      <td>350</td>\n",
       "    </tr>\n",
       "    <tr>\n",
       "      <th>3</th>\n",
       "      <td>4</td>\n",
       "      <td>0</td>\n",
       "      <td>0</td>\n",
       "      <td>0</td>\n",
       "      <td>301</td>\n",
       "    </tr>\n",
       "    <tr>\n",
       "      <th>4</th>\n",
       "      <td>5</td>\n",
       "      <td>1</td>\n",
       "      <td>0</td>\n",
       "      <td>0</td>\n",
       "      <td>317</td>\n",
       "    </tr>\n",
       "  </tbody>\n",
       "</table>\n",
       "</div>"
      ],
      "text/plain": [
       "   student_id  gender  leader_flag  support_flag  score\n",
       "0           1       0            0             0    335\n",
       "1           2       1            0             0    379\n",
       "2           3       0            0             0    350\n",
       "3           4       0            0             0    301\n",
       "4           5       1            0             0    317"
      ]
     },
     "execution_count": 3,
     "metadata": {},
     "output_type": "execute_result"
    }
   ],
   "source": [
    "s_df.head()"
   ]
  },
  {
   "cell_type": "code",
   "execution_count": 5,
   "id": "2bddd9c1",
   "metadata": {},
   "outputs": [
    {
     "data": {
      "text/plain": [
       "0        1\n",
       "1        2\n",
       "2        3\n",
       "3        4\n",
       "4        5\n",
       "      ... \n",
       "313    314\n",
       "314    315\n",
       "315    316\n",
       "316    317\n",
       "317    318\n",
       "Name: student_id, Length: 318, dtype: int64"
      ]
     },
     "execution_count": 5,
     "metadata": {},
     "output_type": "execute_result"
    }
   ],
   "source": [
    "s_df['student_id']"
   ]
  },
  {
   "cell_type": "code",
   "execution_count": 6,
   "id": "5e367fbb",
   "metadata": {},
   "outputs": [
    {
     "data": {
      "text/plain": [
       "318"
      ]
     },
     "execution_count": 6,
     "metadata": {},
     "output_type": "execute_result"
    }
   ],
   "source": [
    "s_df['student_id'].max()"
   ]
  },
  {
   "cell_type": "code",
   "execution_count": 7,
   "id": "f4c21ee6",
   "metadata": {},
   "outputs": [
    {
     "data": {
      "text/plain": [
       "1"
      ]
     },
     "execution_count": 7,
     "metadata": {},
     "output_type": "execute_result"
    }
   ],
   "source": [
    "s_df['student_id'].min()"
   ]
  },
  {
   "cell_type": "code",
   "execution_count": 10,
   "id": "cd27274a",
   "metadata": {},
   "outputs": [
    {
     "data": {
      "text/plain": [
       "True"
      ]
     },
     "execution_count": 10,
     "metadata": {},
     "output_type": "execute_result"
    }
   ],
   "source": [
    "set(range(1, 319)) == set(s_df['student_id'].tolist())"
   ]
  },
  {
   "cell_type": "code",
   "execution_count": 11,
   "id": "cf5a7779",
   "metadata": {},
   "outputs": [
    {
     "data": {
      "text/plain": [
       "0    160\n",
       "1    158\n",
       "Name: gender, dtype: int64"
      ]
     },
     "execution_count": 11,
     "metadata": {},
     "output_type": "execute_result"
    }
   ],
   "source": [
    "s_df['gender'].value_counts()"
   ]
  },
  {
   "cell_type": "code",
   "execution_count": 12,
   "id": "3592f377",
   "metadata": {},
   "outputs": [
    {
     "data": {
      "text/plain": [
       "1      1\n",
       "210    1\n",
       "217    1\n",
       "216    1\n",
       "215    1\n",
       "      ..\n",
       "106    1\n",
       "105    1\n",
       "104    1\n",
       "103    1\n",
       "318    1\n",
       "Name: student_id, Length: 318, dtype: int64"
      ]
     },
     "execution_count": 12,
     "metadata": {},
     "output_type": "execute_result"
    }
   ],
   "source": [
    "s_df['student_id'].value_counts()"
   ]
  },
  {
   "cell_type": "code",
   "execution_count": 13,
   "id": "e74a15c0",
   "metadata": {},
   "outputs": [
    {
     "data": {
      "text/plain": [
       "count    318.000000\n",
       "mean     303.644654\n",
       "std       65.179995\n",
       "min       88.000000\n",
       "25%      261.000000\n",
       "50%      310.000000\n",
       "75%      350.000000\n",
       "max      485.000000\n",
       "Name: score, dtype: float64"
      ]
     },
     "execution_count": 13,
     "metadata": {},
     "output_type": "execute_result"
    }
   ],
   "source": [
    "s_df['score'].describe()"
   ]
  },
  {
   "cell_type": "code",
   "execution_count": 14,
   "id": "00875958",
   "metadata": {},
   "outputs": [
    {
     "data": {
      "text/plain": [
       "<Axes: >"
      ]
     },
     "execution_count": 14,
     "metadata": {},
     "output_type": "execute_result"
    },
    {
     "data": {
      "image/png": "[encoded data removed]",
      "text/plain": [
       "<Figure size 640x480 with 1 Axes>"
      ]
     },
     "metadata": {},
     "output_type": "display_data"
    }
   ],
   "source": [
    "s_df['score'].hist()"
   ]
  },
  {
   "cell_type": "code",
   "execution_count": 16,
   "id": "88784851",
   "metadata": {},
   "outputs": [
    {
     "data": {
      "text/plain": [
       "0    301\n",
       "1     17\n",
       "Name: leader_flag, dtype: int64"
      ]
     },
     "execution_count": 16,
     "metadata": {},
     "output_type": "execute_result"
    }
   ],
   "source": [
    "s_df['leader_flag'].value_counts()"
   ]
  },
  {
   "cell_type": "code",
   "execution_count": 17,
   "id": "2c656e2c",
   "metadata": {},
   "outputs": [
    {
     "data": {
      "text/plain": [
       "0    314\n",
       "1      4\n",
       "Name: support_flag, dtype: int64"
      ]
     },
     "execution_count": 17,
     "metadata": {},
     "output_type": "execute_result"
    }
   ],
   "source": [
    "s_df['support_flag'].value_counts()"
   ]
  },
  {
   "cell_type": "code",
   "execution_count": 20,
   "id": "2a6db145",
   "metadata": {},
   "outputs": [
    {
     "name": "stdout",
     "output_type": "stream",
     "text": [
      "3\n"
     ]
    }
   ],
   "source": [
    "s_pair_df = pd.read_csv('student_pairs.csv')\n",
    "print(len(s_pair_df))"
   ]
  },
  {
   "cell_type": "code",
   "execution_count": 22,
   "id": "ff1ea10d",
   "metadata": {},
   "outputs": [
    {
     "data": {
      "text/html": [
       "<div>\n",
       "<style scoped>\n",
       "    .dataframe tbody tr th:only-of-type {\n",
       "        vertical-align: middle;\n",
       "    }\n",
       "\n",
       "    .dataframe tbody tr th {\n",
       "        vertical-align: top;\n",
       "    }\n",
       "\n",
       "    .dataframe thead th {\n",
       "        text-align: right;\n",
       "    }\n",
       "</style>\n",
       "<table border=\"1\" class=\"dataframe\">\n",
       "  <thead>\n",
       "    <tr style=\"text-align: right;\">\n",
       "      <th></th>\n",
       "      <th>student_id1</th>\n",
       "      <th>student_id2</th>\n",
       "    </tr>\n",
       "  </thead>\n",
       "  <tbody>\n",
       "    <tr>\n",
       "      <th>0</th>\n",
       "      <td>118</td>\n",
       "      <td>189</td>\n",
       "    </tr>\n",
       "    <tr>\n",
       "      <th>1</th>\n",
       "      <td>72</td>\n",
       "      <td>50</td>\n",
       "    </tr>\n",
       "    <tr>\n",
       "      <th>2</th>\n",
       "      <td>314</td>\n",
       "      <td>233</td>\n",
       "    </tr>\n",
       "  </tbody>\n",
       "</table>\n",
       "</div>"
      ],
      "text/plain": [
       "   student_id1  student_id2\n",
       "0          118          189\n",
       "1           72           50\n",
       "2          314          233"
      ]
     },
     "execution_count": 22,
     "metadata": {},
     "output_type": "execute_result"
    }
   ],
   "source": [
    "s_pair_df.head()"
   ]
  },
  {
   "cell_type": "code",
   "execution_count": 23,
   "id": "eee56888",
   "metadata": {},
   "outputs": [],
   "source": [
    "import pulp"
   ]
  },
  {
   "cell_type": "code",
   "execution_count": 24,
   "id": "e9305116",
   "metadata": {},
   "outputs": [],
   "source": [
    "#数理モデルのインスタンス作成\n",
    "prob = pulp.LpProblem('ClassAssignmentProblem', pulp.LpMaximize)"
   ]
  },
  {
   "cell_type": "code",
   "execution_count": 25,
   "id": "40a2f9b6",
   "metadata": {},
   "outputs": [],
   "source": [
    "#生徒のモデル\n",
    "S = s_df['student_id'].tolist()"
   ]
  },
  {
   "cell_type": "code",
   "execution_count": 26,
   "id": "3dce2460",
   "metadata": {},
   "outputs": [],
   "source": [
    "#クラスのリスト\n",
    "C = ['A', 'B', 'C', 'D', 'E', 'F', 'G', 'H']"
   ]
  },
  {
   "cell_type": "code",
   "execution_count": 27,
   "id": "8fa53375",
   "metadata": {},
   "outputs": [],
   "source": [
    "#生徒とクラスのペアのリスト\n",
    "SC = [(s, c) for s in S for c in C]"
   ]
  },
  {
   "cell_type": "code",
   "execution_count": 28,
   "id": "d459582c",
   "metadata": {},
   "outputs": [],
   "source": [
    "#生徒をどのように割り当てるかを変数として定義\n",
    "x = pulp.LpVariable.dicts('x', SC, cat='Binary')"
   ]
  },
  {
   "cell_type": "code",
   "execution_count": 29,
   "id": "2d70c9d7",
   "metadata": {},
   "outputs": [],
   "source": [
    "#各生徒は1つのクラスに割り当てる\n",
    "for s in S:\n",
    "    prob += pulp.lpSum([x[s,c] for c in C]) == 1"
   ]
  },
  {
   "cell_type": "code",
   "execution_count": 30,
   "id": "4da6e05d",
   "metadata": {},
   "outputs": [],
   "source": [
    "#クラス人数に制約\n",
    "for c in C:\n",
    "    prob += pulp.lpSum([x[s, c] for s in S]) <= 40\n",
    "    prob += pulp.lpSum([x[s, c] for s in S]) >= 39"
   ]
  },
  {
   "cell_type": "code",
   "execution_count": 31,
   "id": "c4c1926d",
   "metadata": {},
   "outputs": [],
   "source": [
    "#男子生徒のリスト\n",
    "S_male = [row.student_id for row in s_df.itertuples() if row.gender == 1]\n",
    "#女子生徒のリスト\n",
    "S_female = [row.student_id for row in s_df.itertuples() if row.gender == 0]"
   ]
  },
  {
   "cell_type": "code",
   "execution_count": 32,
   "id": "1539b2ec",
   "metadata": {},
   "outputs": [],
   "source": [
    "#男女人数に制約\n",
    "for c in C:\n",
    "    prob += pulp.lpSum([x[s,c] for s in S_male]) <= 20\n",
    "    prob += pulp.lpSum([x[s,c] for s in S_female]) <= 20"
   ]
  },
  {
   "cell_type": "code",
   "execution_count": 33,
   "id": "9f615c68",
   "metadata": {},
   "outputs": [],
   "source": [
    "#学力を辞書表現に変換\n",
    "score = {row.student_id:row.score for row in s_df.itertuples()}\n",
    "\n",
    "#平均点の算出\n",
    "score_mean = s_df['score'].mean()\n",
    "\n",
    "#クラス平均点への制約\n",
    "for c in C:\n",
    "    prob += (score_mean - 10) * pulp.lpSum([x[s,c] for s in S]) <= pulp.lpSum([score[s] * x[s, c] for s in S])\n",
    "    prob += (score_mean + 10) * pulp.lpSum([x[s,c] for s in S]) >= pulp.lpSum([score[s] * x[s, c] for s in S])"
   ]
  },
  {
   "cell_type": "code",
   "execution_count": 34,
   "id": "32673e35",
   "metadata": {},
   "outputs": [],
   "source": [
    "#リーダー気質の生徒の集合\n",
    "S_leader = [row.student_id for row in s_df.itertuples() if row.leader_flag == 1]\n",
    "\n",
    "#各クラスにリーダーを2人以上割り当て\n",
    "for c in C:\n",
    "    prob += pulp.lpSum([x[s, c] for s in S_leader]) >= 2"
   ]
  },
  {
   "cell_type": "code",
   "execution_count": 35,
   "id": "f9ae4a64",
   "metadata": {},
   "outputs": [],
   "source": [
    "#問題児集合\n",
    "S_difficult = [row.student_id for row in s_df.itertuples() if row.support_flag == 1]\n",
    "\n",
    "#問題児は各クラス1人まで\n",
    "for c in C:\n",
    "    prob += pulp.lpSum([x[s, c] for s in S_difficult]) <= 1"
   ]
  },
  {
   "cell_type": "code",
   "execution_count": 39,
   "id": "d9d962b0",
   "metadata": {},
   "outputs": [],
   "source": [
    "#一緒だとやばい\n",
    "SS = [(row.student_id1, row.student_id2) for row in s_pair_df.itertuples()]\n",
    "\n",
    "#特定ペアの除外\n",
    "for s1, s2 in SS:\n",
    "    for c in C:\n",
    "        prob += x[s1, c] + x[s2, c] <= 1"
   ]
  },
  {
   "cell_type": "code",
   "execution_count": 41,
   "id": "9af6ae46",
   "metadata": {},
   "outputs": [
    {
     "name": "stdout",
     "output_type": "stream",
     "text": [
      "Welcome to the CBC MILP Solver \n",
      "Version: 2.10.5 \n",
      "Build Date: Apr 19 2021 \n",
      "\n",
      "command line - cbc /var/folders/r3/2qnnhkc92dxfybqfdp02_15c0000gn/T/8a9cf72b934e4aad945c57b49c8409db-pulp.mps max timeMode elapsed branch printingOptions all solution /var/folders/r3/2qnnhkc92dxfybqfdp02_15c0000gn/T/8a9cf72b934e4aad945c57b49c8409db-pulp.sol (default strategy 1)\n",
      "At line 2 NAME          MODEL\n",
      "At line 3 ROWS\n",
      "At line 411 COLUMNS\n",
      "At line 20981 RHS\n",
      "At line 21388 BOUNDS\n",
      "At line 23934 ENDATA\n",
      "Problem MODEL has 406 rows, 2545 columns and 15480 elements\n",
      "Coin0008I MODEL read with 0 errors\n",
      "Option for timeMode changed from cpu to elapsed\n",
      "Continuous objective value is 0 - 0.12 seconds\n",
      "Cgl0005I 318 SOS with 2544 members\n",
      "Cgl0004I processed model has 398 rows, 2544 columns (2544 integer (2544 of which binary)) and 12936 elements\n",
      "Cbc0038I Initial state - 48 integers unsatisfied sum - 5.65258\n",
      "Cbc0038I Solution found of 0\n",
      "Cbc0038I Before mini branch and bound, 2536 integers at bound fixed and 0 continuous\n",
      "Cbc0038I Mini branch and bound did not improve solution (0.21 seconds)\n",
      "Cbc0038I After 0.21 seconds - Feasibility pump exiting with objective of 0 - took 0.01 seconds\n",
      "Cbc0012I Integer solution of 0 found by feasibility pump after 0 iterations and 0 nodes (0.21 seconds)\n",
      "Cbc0001I Search completed - best objective 0, took 0 iterations and 0 nodes (0.22 seconds)\n",
      "Cbc0035I Maximum depth 0, 0 variables fixed on reduced cost\n",
      "Cuts at root node changed objective from 0 to 0\n",
      "Probing was tried 0 times and created 0 cuts of which 0 were active after adding rounds of cuts (0.000 seconds)\n",
      "Gomory was tried 0 times and created 0 cuts of which 0 were active after adding rounds of cuts (0.000 seconds)\n",
      "Knapsack was tried 0 times and created 0 cuts of which 0 were active after adding rounds of cuts (0.000 seconds)\n",
      "Clique was tried 0 times and created 0 cuts of which 0 were active after adding rounds of cuts (0.000 seconds)\n",
      "MixedIntegerRounding2 was tried 0 times and created 0 cuts of which 0 were active after adding rounds of cuts (0.000 seconds)\n",
      "FlowCover was tried 0 times and created 0 cuts of which 0 were active after adding rounds of cuts (0.000 seconds)\n",
      "TwoMirCuts was tried 0 times and created 0 cuts of which 0 were active after adding rounds of cuts (0.000 seconds)\n",
      "ZeroHalf was tried 0 times and created 0 cuts of which 0 were active after adding rounds of cuts (0.000 seconds)\n",
      "\n",
      "Result - Optimal solution found\n",
      "\n",
      "Objective value:                -0.00000000\n",
      "Enumerated nodes:               0\n",
      "Total iterations:               0\n",
      "Time (CPU seconds):             0.16\n",
      "Time (Wallclock seconds):       0.22\n",
      "\n",
      "Option for printingOptions changed from normal to all\n",
      "Total time (CPU seconds):       0.17   (Wallclock seconds):       0.23\n",
      "\n",
      "1\n",
      "Optimal\n"
     ]
    }
   ],
   "source": [
    "status = prob.solve()\n",
    "print(status)\n",
    "print(pulp.LpStatus[status])"
   ]
  },
  {
   "cell_type": "code",
   "execution_count": 43,
   "id": "694304c6",
   "metadata": {},
   "outputs": [
    {
     "name": "stdout",
     "output_type": "stream",
     "text": [
      "Class: A\n",
      "Num 40\n",
      "Student: [2, 9, 19, 39, 42, 63, 65, 71, 79, 83, 85, 88, 99, 109, 111, 123, 126, 136, 138, 145, 148, 165, 168, 173, 177, 179, 180, 193, 199, 206, 224, 233, 237, 240, 246, 264, 267, 291, 292, 298]\n",
      "\n",
      "Class: B\n",
      "Num 39\n",
      "Student: [11, 43, 48, 50, 70, 82, 89, 91, 102, 104, 113, 114, 120, 124, 127, 146, 149, 159, 167, 170, 172, 176, 188, 190, 203, 213, 220, 222, 231, 238, 245, 263, 270, 275, 276, 283, 287, 290, 317]\n",
      "\n",
      "Class: C\n",
      "Num 39\n",
      "Student: [3, 10, 14, 23, 25, 27, 31, 33, 41, 49, 53, 54, 58, 73, 93, 97, 98, 122, 152, 156, 160, 171, 187, 210, 211, 217, 219, 227, 236, 242, 254, 258, 260, 268, 273, 277, 278, 301, 318]\n",
      "\n",
      "Class: D\n",
      "Num 40\n",
      "Student: [13, 16, 36, 37, 51, 56, 59, 61, 67, 68, 75, 84, 92, 108, 128, 134, 139, 140, 142, 158, 161, 175, 183, 192, 198, 200, 205, 221, 225, 235, 241, 252, 255, 256, 257, 261, 266, 284, 293, 316]\n",
      "\n",
      "Class: E\n",
      "Num 40\n",
      "Student: [4, 5, 15, 21, 22, 24, 38, 62, 69, 72, 78, 87, 96, 105, 106, 115, 132, 141, 143, 150, 154, 164, 166, 184, 189, 195, 196, 197, 243, 244, 247, 249, 269, 271, 288, 300, 305, 309, 310, 315]\n",
      "\n",
      "Class: F\n",
      "Num 40\n",
      "Student: [12, 17, 32, 45, 46, 74, 76, 80, 95, 100, 101, 103, 107, 110, 112, 116, 119, 121, 125, 129, 130, 135, 151, 153, 169, 178, 182, 185, 202, 209, 230, 232, 239, 272, 281, 282, 289, 303, 304, 306]\n",
      "\n",
      "Class: G\n",
      "Num 40\n",
      "Student: [7, 18, 28, 35, 40, 44, 52, 55, 57, 60, 64, 66, 81, 117, 118, 131, 147, 155, 181, 186, 194, 204, 207, 208, 214, 215, 216, 223, 226, 228, 229, 250, 262, 265, 279, 280, 296, 299, 308, 313]\n",
      "\n",
      "Class: H\n",
      "Num 40\n",
      "Student: [1, 6, 8, 20, 26, 29, 30, 34, 47, 77, 86, 90, 94, 133, 137, 144, 157, 162, 163, 174, 191, 201, 212, 218, 234, 248, 251, 253, 259, 274, 285, 286, 294, 295, 297, 302, 307, 311, 312, 314]\n",
      "\n"
     ]
    }
   ],
   "source": [
    "#最適化結果の表示\n",
    "#各クラスに割り当てられている生徒のリストを辞書に格納\n",
    "C2Ss = {}\n",
    "for c in C:\n",
    "    C2Ss[c] = [s for s in S if x[s,c].value() == 1]\n",
    "    \n",
    "    \n",
    "for c, Ss in C2Ss.items():\n",
    "    print('Class:', c)\n",
    "    print('Num', len(Ss))\n",
    "    print('Student:', Ss)\n",
    "    print()"
   ]
  },
  {
   "cell_type": "code",
   "execution_count": null,
   "id": "b9fdb76b",
   "metadata": {},
   "outputs": [],
   "source": []
  }
 ],
 "metadata": {
  "kernelspec": {
   "display_name": "Python 3 (ipykernel)",
   "language": "python",
   "name": "python3"
  },
  "language_info": {
   "codemirror_mode": {
    "name": "ipython",
    "version": 3
   },
   "file_extension": ".py",
   "mimetype": "text/x-python",
   "name": "python",
   "nbconvert_exporter": "python",
   "pygments_lexer": "ipython3",
   "version": "3.11.2"
  }
 },
 "nbformat": 4,
 "nbformat_minor": 5
}
