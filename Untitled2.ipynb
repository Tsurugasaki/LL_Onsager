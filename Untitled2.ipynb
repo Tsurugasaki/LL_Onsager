{
 "cells": [
  {
   "cell_type": "code",
   "execution_count": 1,
   "id": "e0997d12",
   "metadata": {},
   "outputs": [],
   "source": [
    "import numpy as np\n",
    "import matplotlib.pyplot as plt\n",
    "import cv2\n",
    "import glob"
   ]
  },
  {
   "cell_type": "code",
   "execution_count": 2,
   "id": "9ca17e7f",
   "metadata": {},
   "outputs": [],
   "source": [
    "file_path = 'Si.tif'"
   ]
  },
  {
   "cell_type": "code",
   "execution_count": 4,
   "id": "2a2e9e33",
   "metadata": {},
   "outputs": [],
   "source": [
    "img_bw = cv2.imread(file_path, 2)"
   ]
  },
  {
   "cell_type": "code",
   "execution_count": 5,
   "id": "3a32d88f",
   "metadata": {},
   "outputs": [],
   "source": [
    "hit,wide = img_bw.shape"
   ]
  },
  {
   "cell_type": "code",
   "execution_count": 15,
   "id": "7382567f",
   "metadata": {},
   "outputs": [],
   "source": [
    "cv2.imshow(img_bw)\n",
    "plt.show()"
   ]
  },
  {
   "cell_type": "code",
   "execution_count": 7,
   "id": "f5714068",
   "metadata": {},
   "outputs": [],
   "source": [
    "images = []\n",
    "for n,i in enumerate(file_path):\n",
    "    img = cv2.imread(i,0)\n",
    "    images.append(img[100:400,100:400])"
   ]
  },
  {
   "cell_type": "code",
   "execution_count": 8,
   "id": "e5d8d911",
   "metadata": {},
   "outputs": [],
   "source": [
    "plt.imshow(images)\n",
    "plt.show()"
   ]
  },
  {
   "cell_type": "code",
   "execution_count": 12,
   "id": "c0b73aa4",
   "metadata": {},
   "outputs": [],
   "source": [
    "cv2.imshow(\"Images\", images)"
   ]
  },
  {
   "cell_type": "code",
   "execution_count": null,
   "id": "658497c6",
   "metadata": {},
   "outputs": [],
   "source": []
  },
  {
   "cell_type": "code",
   "execution_count": null,
   "id": "7b88e953",
   "metadata": {},
   "outputs": [],
   "source": []
  }
 ],
 "metadata": {
  "kernelspec": {
   "display_name": "Python 3 (ipykernel)",
   "language": "python",
   "name": "python3"
  },
  "language_info": {
   "codemirror_mode": {
    "name": "ipython",
    "version": 3
   },
   "file_extension": ".py",
   "mimetype": "text/x-python",
   "name": "python",
   "nbconvert_exporter": "python",
   "pygments_lexer": "ipython3",
   "version": "3.11.2"
  }
 },
 "nbformat": 4,
 "nbformat_minor": 5
}
